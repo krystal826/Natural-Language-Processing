{
  "cells": [
    {
      "cell_type": "markdown",
      "metadata": {
        "id": "view-in-github",
        "colab_type": "text"
      },
      "source": [
        "<a href=\"https://colab.research.google.com/github/krystal826/Natural-Language-Processing/blob/main/Lab09_Task05.ipynb\" target=\"_parent\"><img src=\"https://colab.research.google.com/assets/colab-badge.svg\" alt=\"Open In Colab\"/></a>"
      ]
    },
    {
      "cell_type": "markdown",
      "metadata": {
        "id": "XE31SwYEyuj6"
      },
      "source": [
        "### Task 05: Exploring PCFG"
      ]
    },
    {
      "cell_type": "code",
      "execution_count": null,
      "metadata": {
        "id": "_Khwgvckyuj9"
      },
      "outputs": [],
      "source": [
        "import nltk\n",
        "from nltk import CFG, PCFG\n",
        "from nltk.parse.generate import generate"
      ]
    },
    {
      "cell_type": "markdown",
      "metadata": {
        "id": "jxOj8ERNyuj-"
      },
      "source": [
        "### PCFG that accepts the sentence \"I shot an elephant in my pyjamas\""
      ]
    },
    {
      "cell_type": "code",
      "execution_count": null,
      "metadata": {
        "id": "GxldgKLoyuj-"
      },
      "outputs": [],
      "source": [
        "grammar = nltk.PCFG.fromstring(\"\"\"\n",
        "    S -> NP VP     [1.0]\n",
        "    PP -> P NP     [1.0]\n",
        "    NP -> Det N    [0.5]\n",
        "    NP -> NP PP    [0.40] \n",
        "    NP -> 'I'      [0.1]\n",
        "    VP -> V NP     [0.7]\n",
        "    VP -> VP PP    [0.3]\n",
        "    Det -> 'an'    [0.6]\n",
        "    Det -> 'my'    [0.4]\n",
        "    N -> 'elephant' [0.5]\n",
        "    N -> 'pajamas' [0.5]\n",
        "    V -> 'shot'    [1.0]\n",
        "    P -> 'in'      [1.0]\n",
        "\"\"\")"
      ]
    },
    {
      "cell_type": "markdown",
      "metadata": {
        "id": "nNUBlIBDyuj-"
      },
      "source": [
        "### Parsing the sentence using normal CFG. Two parse trees are produced. The sentence is ambiguous."
      ]
    },
    {
      "cell_type": "code",
      "execution_count": null,
      "metadata": {
        "id": "AE5l7DOHyuj_",
        "outputId": "20c34ac2-3d75-4d48-9f0f-a32cbf926aae",
        "colab": {
          "base_uri": "https://localhost:8080/"
        }
      },
      "outputs": [
        {
          "output_type": "stream",
          "name": "stdout",
          "text": [
            "     S                                       \n",
            "  ___|______________                          \n",
            " |                  VP                       \n",
            " |         _________|__________               \n",
            " |        VP                   PP            \n",
            " |    ____|___              ___|___           \n",
            " |   |        NP           |       NP        \n",
            " |   |     ___|_____       |    ___|_____     \n",
            " NP  V   Det        N      P  Det        N   \n",
            " |   |    |         |      |   |         |    \n",
            " I  shot  an     elephant  in  my     pajamas\n",
            "\n",
            "     S                                       \n",
            "  ___|______________                          \n",
            " |                  VP                       \n",
            " |    ______________|______                   \n",
            " |   |                     NP                \n",
            " |   |         ____________|___               \n",
            " |   |        |                PP            \n",
            " |   |        |             ___|___           \n",
            " |   |        NP           |       NP        \n",
            " |   |     ___|_____       |    ___|_____     \n",
            " NP  V   Det        N      P  Det        N   \n",
            " |   |    |         |      |   |         |    \n",
            " I  shot  an     elephant  in  my     pajamas\n",
            "\n"
          ]
        }
      ],
      "source": [
        "sentence = ['I', 'shot', 'an', 'elephant', 'in', 'my', 'pajamas']\n",
        "parser = nltk.ChartParser(grammar)\n",
        "\n",
        "for tree in parser.parse(sentence):\n",
        "    tree.pretty_print()"
      ]
    },
    {
      "cell_type": "markdown",
      "metadata": {
        "id": "UFd3peKcyuj_"
      },
      "source": [
        "### Parsing the sentence using PCFG. The Viterbi Parser is based on Probabilistic CKY parser. This parser gives the most likely parse tree is displayed. Identify which parse tree is chosen?"
      ]
    },
    {
      "cell_type": "code",
      "execution_count": null,
      "metadata": {
        "id": "sSJqNEGJyukA",
        "outputId": "9d70f532-1f69-410c-80bb-f06c55dd35fa",
        "colab": {
          "base_uri": "https://localhost:8080/"
        }
      },
      "outputs": [
        {
          "output_type": "stream",
          "name": "stdout",
          "text": [
            "\n",
            "Display the most likely tree (with highest probability value)\n",
            "(S\n",
            "  (NP I)\n",
            "  (VP\n",
            "    (V shot)\n",
            "    (NP\n",
            "      (NP (Det an) (N elephant))\n",
            "      (PP (P in) (NP (Det my) (N pajamas)))))) (p=0.00042)\n",
            "     S                                       \n",
            "  ___|______________                          \n",
            " |                  VP                       \n",
            " |    ______________|______                   \n",
            " |   |                     NP                \n",
            " |   |         ____________|___               \n",
            " |   |        |                PP            \n",
            " |   |        |             ___|___           \n",
            " |   |        NP           |       NP        \n",
            " |   |     ___|_____       |    ___|_____     \n",
            " NP  V   Det        N      P  Det        N   \n",
            " |   |    |         |      |   |         |    \n",
            " I  shot  an     elephant  in  my     pajamas\n",
            "\n"
          ]
        }
      ],
      "source": [
        "viterbi_parser = nltk.ViterbiParser(grammar)\n",
        "\n",
        "for tree in viterbi_parser.parse(['I', 'shot', 'an', 'elephant', 'in', 'my', 'pajamas']):\n",
        "    print(\"\\nDisplay the most likely tree (with highest probability value)\")\n",
        "    print(tree)\n",
        "tree.pretty_print()"
      ]
    },
    {
      "cell_type": "markdown",
      "metadata": {
        "id": "RheIXnAAyukB"
      },
      "source": [
        "### To display all possible parse trees with its probability value respectively. The InsideChartParser is used to parse the sentence."
      ]
    },
    {
      "cell_type": "code",
      "execution_count": null,
      "metadata": {
        "id": "CX0TE4FRyukB",
        "outputId": "54375b0d-a3b1-4a4c-9076-c7ebc107cb63",
        "colab": {
          "base_uri": "https://localhost:8080/"
        }
      },
      "outputs": [
        {
          "output_type": "stream",
          "name": "stdout",
          "text": [
            "(S\n",
            "  (NP I)\n",
            "  (VP\n",
            "    (V shot)\n",
            "    (NP\n",
            "      (NP (Det an) (N elephant))\n",
            "      (PP (P in) (NP (Det my) (N pajamas)))))) (p=0.00042)\n",
            "(S\n",
            "  (NP I)\n",
            "  (VP\n",
            "    (VP (V shot) (NP (Det an) (N elephant)))\n",
            "    (PP (P in) (NP (Det my) (N pajamas))))) (p=0.000315)\n"
          ]
        }
      ],
      "source": [
        "from nltk.parse import pchart\n",
        "parser = pchart.InsideChartParser(grammar)\n",
        "\n",
        "parses = parser.parse_all(sentence)\n",
        "for parse in parses:\n",
        "    print(parse)"
      ]
    },
    {
      "cell_type": "markdown",
      "metadata": {
        "id": "FWCPTiidyukB"
      },
      "source": [
        "### Below is another CFG. Run these two cells and see the output."
      ]
    },
    {
      "cell_type": "code",
      "execution_count": null,
      "metadata": {
        "id": "Q2PGbauKyukC"
      },
      "outputs": [],
      "source": [
        "grammar = nltk.CFG.fromstring(\"\"\"\n",
        "    S    -> NP VP\n",
        "    NP   -> Det Noun\n",
        "    NP   -> NP PP \n",
        "    PP   -> Prep NP\n",
        "    VP   -> Verb NP\n",
        "    VP   -> VP PP\n",
        "    Det  -> 'the' | 'a'\n",
        "    Noun -> 'man' | 'lady' | 'telescope'\n",
        "    Prep -> 'with'    \n",
        "    Verb   -> 'saw'\n",
        "\"\"\")"
      ]
    },
    {
      "cell_type": "code",
      "execution_count": null,
      "metadata": {
        "scrolled": true,
        "id": "n9Ekf9sVyukC",
        "outputId": "99e6aa45-f070-4097-b19e-ff0ef66960db",
        "colab": {
          "base_uri": "https://localhost:8080/"
        }
      },
      "outputs": [
        {
          "output_type": "stream",
          "name": "stdout",
          "text": [
            "                   S                                 \n",
            "      _____________|_______                           \n",
            "     |                     VP                        \n",
            "     |              _______|_________                 \n",
            "     |             VP                PP              \n",
            "     |         ____|___          ____|___             \n",
            "     NP       |        NP       |        NP          \n",
            "  ___|___     |     ___|___     |     ___|______      \n",
            "Det     Noun Verb Det     Noun Prep Det        Noun  \n",
            " |       |    |    |       |    |    |          |     \n",
            "the     man  saw  the     lady with  a      telescope\n",
            "\n",
            "                   S                                 \n",
            "      _____________|_______                           \n",
            "     |                     VP                        \n",
            "     |         ____________|____                      \n",
            "     |        |                 NP                   \n",
            "     |        |         ________|____                 \n",
            "     |        |        |             PP              \n",
            "     |        |        |         ____|___             \n",
            "     NP       |        NP       |        NP          \n",
            "  ___|___     |     ___|___     |     ___|______      \n",
            "Det     Noun Verb Det     Noun Prep Det        Noun  \n",
            " |       |    |    |       |    |    |          |     \n",
            "the     man  saw  the     lady with  a      telescope\n",
            "\n"
          ]
        }
      ],
      "source": [
        "sentence = ['the', 'man', 'saw', 'the', 'lady', 'with', 'a', 'telescope']\n",
        "parser = nltk.ChartParser(grammar)\n",
        "for tree in parser.parse(sentence):\n",
        "    tree.pretty_print()"
      ]
    },
    {
      "cell_type": "markdown",
      "metadata": {
        "id": "OrUuRknayukC"
      },
      "source": [
        "### Q1. Since there are two parse trees are produced, you have to disambiguate them.  Assume that the second tree is the most likely tree, transform the CFG into PCFG. Provide your own probability value for each rule."
      ]
    },
    {
      "cell_type": "code",
      "execution_count": null,
      "metadata": {
        "id": "-u9UsdZMyukC"
      },
      "outputs": [],
      "source": [
        ""
      ]
    },
    {
      "cell_type": "markdown",
      "metadata": {
        "id": "nrR0mwCxyukD"
      },
      "source": [
        "### Q2. Parse the sentence \"the man saw the lady with a telescope\" with your defined PCFG. Do you get the following tree as the output?\n",
        "\n",
        "![Screenshot%202020-12-23%20at%209.21.33%20PM.png](attachment:Screenshot%202020-12-23%20at%209.21.33%20PM.png)"
      ]
    },
    {
      "cell_type": "code",
      "execution_count": null,
      "metadata": {
        "id": "HJOaNtvAyukD"
      },
      "outputs": [],
      "source": [
        ""
      ]
    }
  ],
  "metadata": {
    "kernelspec": {
      "display_name": "Python 3",
      "language": "python",
      "name": "python3"
    },
    "language_info": {
      "codemirror_mode": {
        "name": "ipython",
        "version": 3
      },
      "file_extension": ".py",
      "mimetype": "text/x-python",
      "name": "python",
      "nbconvert_exporter": "python",
      "pygments_lexer": "ipython3",
      "version": "3.6.5"
    },
    "colab": {
      "name": "Lab09-Task05.ipynb",
      "provenance": [],
      "include_colab_link": true
    }
  },
  "nbformat": 4,
  "nbformat_minor": 0
}