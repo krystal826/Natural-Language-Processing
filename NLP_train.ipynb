{
  "nbformat": 4,
  "nbformat_minor": 0,
  "metadata": {
    "colab": {
      "name": "NLP_train.ipynb",
      "provenance": [],
      "collapsed_sections": [],
      "include_colab_link": true
    },
    "kernelspec": {
      "name": "python3",
      "display_name": "Python 3"
    },
    "language_info": {
      "name": "python"
    }
  },
  "cells": [
    {
      "cell_type": "markdown",
      "metadata": {
        "id": "view-in-github",
        "colab_type": "text"
      },
      "source": [
        "<a href=\"https://colab.research.google.com/github/krystal826/Natural-Language-Processing/blob/main/NLP_train.ipynb\" target=\"_parent\"><img src=\"https://colab.research.google.com/assets/colab-badge.svg\" alt=\"Open In Colab\"/></a>"
      ]
    },
    {
      "cell_type": "code",
      "source": [
        "import pandas as pd\n",
        "import numpy as np\n",
        "from sklearn.model_selection import train_test_split\n",
        "from keras.preprocessing.text import Tokenizer\n",
        "from keras.preprocessing.sequence import pad_sequences\n",
        "from keras.models import Sequential\n",
        "from keras import layers\n",
        "import pickle"
      ],
      "metadata": {
        "id": "sVK4N5-uCbji"
      },
      "execution_count": 1,
      "outputs": []
    },
    {
      "cell_type": "code",
      "execution_count": 2,
      "metadata": {
        "id": "BwCRlBDYBguB"
      },
      "outputs": [],
      "source": [
        "accent = pd.read_excel(\"NLP Data - finalv2.xlsx\")"
      ]
    },
    {
      "cell_type": "code",
      "source": [
        "temp = []\n",
        "max = 0 \n",
        "for i in accent[\"word\"]:\n",
        "  leng = len(list(i))\n",
        "  if leng > max:\n",
        "    max = leng\n",
        "  temp.append(list(i))"
      ],
      "metadata": {
        "id": "XAH2hJvVBxjD"
      },
      "execution_count": 3,
      "outputs": []
    },
    {
      "cell_type": "code",
      "source": [
        "x = temp\n",
        "y = accent.drop(labels = ['word'], axis=1)\n",
        "x_train, x_test, y_train, y_test = train_test_split(\n",
        "    x, y, test_size=0.2, random_state=1000)\n",
        "with open(\"fit.txt\", \"wb\") as fp:\n",
        "  pickle.dump(x_train, fp)"
      ],
      "metadata": {
        "id": "o-VBo9YJB5P9"
      },
      "execution_count": 4,
      "outputs": []
    },
    {
      "cell_type": "code",
      "source": [
        "tokenizer = Tokenizer(num_words=26)\n",
        "tokenizer.fit_on_texts(x_train)\n",
        "Xcnn_train = tokenizer.texts_to_sequences(x_train)\n",
        "Xcnn_test = tokenizer.texts_to_sequences(x_test)\n",
        "vocab_size = len(tokenizer.word_index) + 1  "
      ],
      "metadata": {
        "id": "ZZcwzYsdB7jM"
      },
      "execution_count": 5,
      "outputs": []
    },
    {
      "cell_type": "code",
      "source": [
        "maxlen = max\n",
        "Xcnn_train = pad_sequences(Xcnn_train, padding='post', maxlen=maxlen)\n",
        "Xcnn_test = pad_sequences(Xcnn_test, padding='post', maxlen=maxlen)"
      ],
      "metadata": {
        "id": "ATodlsirB-J-"
      },
      "execution_count": 6,
      "outputs": []
    },
    {
      "cell_type": "code",
      "source": [
        "embedding_dim = 200\n",
        "textcnnmodel = Sequential()\n",
        "textcnnmodel.add(layers.Embedding(vocab_size, embedding_dim, input_length=maxlen))\n",
        "textcnnmodel.add(layers.Conv1D(128, 5, activation='relu'))\n",
        "textcnnmodel.add(layers.GlobalMaxPooling1D())\n",
        "textcnnmodel.add(layers.Dense(10, activation='relu'))\n",
        "textcnnmodel.add(layers.Dense(3, activation='sigmoid'))\n",
        "textcnnmodel.compile(optimizer='adam',\n",
        "               loss='binary_crossentropy',\n",
        "               metrics=['accuracy'])\n",
        "textcnnmodel.summary() "
      ],
      "metadata": {
        "colab": {
          "base_uri": "https://localhost:8080/"
        },
        "id": "e4j4qprRCDJU",
        "outputId": "543f225b-bd55-45a7-e821-2b24db27802e"
      },
      "execution_count": 7,
      "outputs": [
        {
          "output_type": "stream",
          "name": "stdout",
          "text": [
            "Model: \"sequential\"\n",
            "_________________________________________________________________\n",
            " Layer (type)                Output Shape              Param #   \n",
            "=================================================================\n",
            " embedding (Embedding)       (None, 13, 200)           5400      \n",
            "                                                                 \n",
            " conv1d (Conv1D)             (None, 9, 128)            128128    \n",
            "                                                                 \n",
            " global_max_pooling1d (Globa  (None, 128)              0         \n",
            " lMaxPooling1D)                                                  \n",
            "                                                                 \n",
            " dense (Dense)               (None, 10)                1290      \n",
            "                                                                 \n",
            " dense_1 (Dense)             (None, 3)                 33        \n",
            "                                                                 \n",
            "=================================================================\n",
            "Total params: 134,851\n",
            "Trainable params: 134,851\n",
            "Non-trainable params: 0\n",
            "_________________________________________________________________\n"
          ]
        }
      ]
    },
    {
      "cell_type": "code",
      "source": [
        "textcnnmodel.fit(Xcnn_train, y_train,\n",
        "                     epochs=100,\n",
        "                     verbose=False,\n",
        "                     validation_data=(Xcnn_test, y_test),\n",
        "                     batch_size=10)\n",
        "loss, accuracy = textcnnmodel.evaluate(Xcnn_train, y_train, verbose=False)\n",
        "print(\"Training Accuracy: {:.4f}\".format(accuracy))\n",
        "loss, accuracy = textcnnmodel.evaluate(Xcnn_test, y_test, verbose=False)\n",
        "print(\"Testing Accuracy:  {:.4f}\".format(accuracy)) "
      ],
      "metadata": {
        "colab": {
          "base_uri": "https://localhost:8080/"
        },
        "id": "RRySGzA1CGj9",
        "outputId": "5463d7ac-a5ec-4232-aa8e-e8b27e6c7303"
      },
      "execution_count": 8,
      "outputs": [
        {
          "output_type": "stream",
          "name": "stdout",
          "text": [
            "Training Accuracy: 1.0000\n",
            "Testing Accuracy:  0.6111\n"
          ]
        }
      ]
    },
    {
      "cell_type": "code",
      "source": [
        "textcnnmodel.save('cnn_model.h5')"
      ],
      "metadata": {
        "id": "biptgwz-ECF-"
      },
      "execution_count": 9,
      "outputs": []
    }
  ]
}