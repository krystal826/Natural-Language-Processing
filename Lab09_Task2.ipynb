{
  "nbformat": 4,
  "nbformat_minor": 0,
  "metadata": {
    "colab": {
      "name": "Lab09-Task2.ipynb",
      "provenance": [],
      "collapsed_sections": [],
      "authorship_tag": "ABX9TyO5jyPcpz9uzAm6tPEs5GNG",
      "include_colab_link": true
    },
    "kernelspec": {
      "name": "python3",
      "display_name": "Python 3"
    },
    "language_info": {
      "name": "python"
    }
  },
  "cells": [
    {
      "cell_type": "markdown",
      "metadata": {
        "id": "view-in-github",
        "colab_type": "text"
      },
      "source": [
        "<a href=\"https://colab.research.google.com/github/krystal826/Natural-Language-Processing/blob/main/Lab09_Task2.ipynb\" target=\"_parent\"><img src=\"https://colab.research.google.com/assets/colab-badge.svg\" alt=\"Open In Colab\"/></a>"
      ]
    },
    {
      "cell_type": "code",
      "execution_count": 1,
      "metadata": {
        "id": "8UKiEnurDDu-"
      },
      "outputs": [],
      "source": [
        "class Dictlist(dict):\n",
        "    \n",
        "    def __setitem__(self, key, value):\n",
        "        try:\n",
        "            self[key]\n",
        "        except KeyError:\n",
        "            super(Dictlist, self).__setitem__(key, [])\n",
        "        self[key].append(value)\n",
        "\n",
        "\n",
        "class production_rule(object):\n",
        "    \n",
        "    result = None\n",
        "    p1 = None\n",
        "    p2 = None\n",
        "    \n",
        "    #Parameters:\n",
        "    #   Result: String\n",
        "    #   p1: Production rule (left child of the production rule)\n",
        "    #   p2: Production rule (right child of the production rule)\n",
        "    def __init__(self,result,p1,p2):\n",
        "        self.result = result\n",
        "        self.p1 = p1\n",
        "        self.p2 = p2\n",
        "    \n",
        "    #Returns the result of the production rule, VP, S, NP... \n",
        "    @property\n",
        "    def get_type(self):\n",
        "        return self.result\n",
        "    \n",
        "    #Returns the left child of the production rule\n",
        "    @property\n",
        "    def get_left(self):\n",
        "        return self.p1\n",
        "    \n",
        "    #Returns the right child of the production rule\n",
        "    @property\n",
        "    def get_right(self):\n",
        "        return self.p2\n",
        "\n",
        "class Cell(object):\n",
        "    productions = []\n",
        "    \n",
        "    \n",
        "    #Parameters:\n",
        "    #   Productions: List of production rules\n",
        "    \n",
        "    def __init__(self, productions=None):\n",
        "        if productions is None:\n",
        "            self.productions = []\n",
        "        else:\n",
        "            self.productions = productions\n",
        "            \n",
        "    def add_production(self, result,p1,p2):\n",
        "        self.productions.append(production_rule(result,p1,p2))\n",
        "    \n",
        "    def set_productions(self, p):\n",
        "        self.productions = p\n",
        "    \n",
        "    @property\n",
        "    def get_types(self):\n",
        "        types = []\n",
        "        for p in self.productions:\n",
        "            types.append(p.result)\n",
        "        return types\n",
        "    @property\n",
        "    def get_rules(self):       \n",
        "        return self.productions\n",
        "\n",
        "\n",
        "class Grammar(object):\n",
        "    \n",
        "    grammar_rules = Dictlist()\n",
        "    parse_table = None\n",
        "    length = 0\n",
        "    tokens = []\n",
        "    number_of_trees = 0\n",
        "    \n",
        "    #Parameters:\n",
        "    #   Filename: file containing a grammar\n",
        "    \n",
        "    def __init__(self, filename):\n",
        "        self.grammar_rules = Dictlist()\n",
        "        self.parse_table = None\n",
        "        self.length = 0\n",
        "        for line in open(filename):\n",
        "            a, b = line.split(\"->\")\n",
        "            self.grammar_rules[b.rstrip().strip()]=a.rstrip().strip()\n",
        "        \n",
        "        if len(self.grammar_rules) == 0:\n",
        "            raise ValueError(\"No rules found in the grammar file\")\n",
        "        print('')\n",
        "        print('Grammar file readed succesfully. Rules readed:')\n",
        "        self.print_rules()\n",
        "        print('')\n",
        "    \n",
        "    #Print the production rules in the grammar\n",
        "    \n",
        "    def print_rules(self):\n",
        "        for r in self.grammar_rules:\n",
        "            for p in self.grammar_rules[r]:\n",
        "                print(str(p) + ' --> ' + str(r))\n",
        "        \n",
        "    def apply_rules(self,t):\n",
        "        try:\n",
        "            return self.grammar_rules[t]\n",
        "        except KeyError as r:\n",
        "            return None\n",
        "            \n",
        "    #Parse a sentence (string) with the CYK algorithm   \n",
        "    def parse(self,sentence):\n",
        "        self.number_of_trees = 0\n",
        "        self.tokens = sentence.split()\n",
        "        self.length = len(self.tokens)\n",
        "        if self.length < 1:\n",
        "            raise ValueError(\"The sentence could no be read\")\n",
        "        self.parse_table = [ [Cell() for x in range(self.length - y)] for y in range(self.length) ]\n",
        "        \n",
        "         #Process the first line\n",
        "        \n",
        "        for x, t in enumerate(self.tokens):\n",
        "            \n",
        "            r = self.apply_rules(t)\n",
        "            if r == None:\n",
        "                raise ValueError(\"The word \" + str(t) + \" is not in the grammar\")\n",
        "            else:\n",
        "                for w in r: \n",
        "                    self.parse_table[0][x].add_production(w,production_rule(t,None,None),None)\n",
        "        \n",
        "        #Run CYK-Parser      \n",
        "        for l in range(2,self.length+1):\n",
        "            for s in range(1,self.length-l+2):\n",
        "                for p in range(1,l-1+1):\n",
        "                    \n",
        "                    t1 = self.parse_table[p-1][s-1].get_rules\n",
        "                    t2 = self.parse_table[l-p-1][s+p-1].get_rules\n",
        "                            \n",
        "                    for a in t1:\n",
        "                        for b in t2:\n",
        "                            r = self.apply_rules(str(a.get_type) + \" \" + str(b.get_type))\n",
        "                                    \n",
        "                            if r is not None:\n",
        "                                for w in r:\n",
        "                                    print('Applied Rule: ' + str(w) + '[' + str(l) + ',' + str(s) + ']' + ' --> ' + str(a.get_type) + '[' + str(p) + ',' + str(s) + ']' + ' ' + str(b.get_type)+ '[' + str(l-p) + ',' + str(s+p) + ']')\n",
        "                                    self.parse_table[l-1][s-1].add_production(w,a,b)\n",
        "                               \n",
        "        self.number_of_trees = len(self.parse_table[self.length-1][0].get_types)\n",
        "        if  self.number_of_trees > 0:\n",
        "            print(\"----------------------------------------\")\n",
        "            print('The sentence IS accepted in the language')\n",
        "            print('Number of possible trees: ' + str(self.number_of_trees))\n",
        "            print(\"----------------------------------------\")\n",
        "        else:\n",
        "            print(\"--------------------------------------------\")\n",
        "            print('The sentence IS NOT accepted in the language')\n",
        "            print(\"--------------------------------------------\")\n",
        "        \n",
        "        \n",
        "    #Returns a list containing the parent of the possible trees that we can generate for the last sentence that have been parsed\n",
        "    def get_trees(self):\n",
        "        return self.parse_table[self.length-1][0].productions\n",
        "                \n",
        "                \n",
        "    #@TODO\n",
        "    def print_trees(self):\n",
        "        pass\n",
        "                      \n",
        "    #Print the CYK parse trable for the last sentence that have been parsed.             \n",
        "    def print_parse_table(self):\n",
        "        try:\n",
        "            from tabulate import tabulate\n",
        "        except (ModuleNotFoundError,ImportError) as r:\n",
        "            import subprocess\n",
        "            import sys\n",
        "            import logging\n",
        "            logging.warning('To print the CYK parser table the Tabulate module is necessary, trying to install it...')\n",
        "            subprocess.call([sys.executable, \"-m\", \"pip\", \"install\", 'tabulate'])\n",
        "\n",
        "            try:\n",
        "                from tabulate import tabulate\n",
        "                logging.warning('The tabulate module has been instaled succesfuly!')\n",
        "\n",
        "            except (ModuleNotFoundError,ImportError) as r:\n",
        "                logging.warning('Unable to install the tabulate module, please run the command \\'pip install tabulate\\' in a command line')\n",
        "\n",
        "        \n",
        "        lines = [] \n",
        "        \n",
        "        for row in reversed(self.parse_table):\n",
        "            l = []\n",
        "            for cell in row:\n",
        "                l.append(cell.get_types)\n",
        "            lines.append(l)\n",
        "        \n",
        "        lines.append(self.tokens)\n",
        "        print('')\n",
        "        print(tabulate(lines))\n",
        "        print('')"
      ]
    },
    {
      "cell_type": "code",
      "source": [
        "g = Grammar('grammar lab9 task2.txt')"
      ],
      "metadata": {
        "colab": {
          "base_uri": "https://localhost:8080/"
        },
        "id": "tIu-IeD_DZfT",
        "outputId": "c557fd99-27b7-427c-e1f4-462c7aba8672"
      },
      "execution_count": 12,
      "outputs": [
        {
          "output_type": "stream",
          "name": "stdout",
          "text": [
            "\n",
            "Grammar file readed succesfully. Rules readed:\n",
            "S --> NP VP\n",
            "S --> VP\n",
            "S --> Aux NP AdjP\n",
            "S --> WH-NP Aux NP\n",
            "NP --> Det N\n",
            "NP --> Poss N\n",
            "NP --> Pronoun\n",
            "VP --> V NP\n",
            "VP --> V Adj\n",
            "VP --> V\n",
            "AdjP --> Adj\n",
            "Adj --> quiet\n",
            "Adj --> hungry\n",
            "Aux --> are\n",
            "Aux --> is\n",
            "Det --> a\n",
            "N --> dog\n",
            "N --> cat\n",
            "N --> name\n",
            "Poss --> your\n",
            "Pronoun --> you\n",
            "Pronoun --> I\n",
            "Pronoun --> they\n",
            "V --> chased\n",
            "V --> keep\n",
            "WH-NP --> what\n",
            "WH-NP --> where\n",
            "\n"
          ]
        }
      ]
    },
    {
      "cell_type": "code",
      "source": [
        "g.parse('a dog chased a cat')"
      ],
      "metadata": {
        "colab": {
          "base_uri": "https://localhost:8080/"
        },
        "id": "j0D12oY7DdHI",
        "outputId": "6d337cb6-f84d-4f36-88b4-ac6dbc7ea715"
      },
      "execution_count": 13,
      "outputs": [
        {
          "output_type": "stream",
          "name": "stdout",
          "text": [
            "Applied Rule: NP[2,1] --> Det[1,1] N[1,2]\n",
            "Applied Rule: NP[2,4] --> Det[1,4] N[1,5]\n",
            "Applied Rule: VP[3,3] --> V[1,3] NP[2,4]\n",
            "Applied Rule: S[5,1] --> NP[2,1] VP[3,3]\n",
            "----------------------------------------\n",
            "The sentence IS accepted in the language\n",
            "Number of possible trees: 1\n",
            "----------------------------------------\n"
          ]
        }
      ]
    },
    {
      "cell_type": "code",
      "source": [
        "#Print the CYK parse table for the last sentence that have been parsed.\n",
        "print(\"Parse Table\")\n",
        "g.print_parse_table()"
      ],
      "metadata": {
        "colab": {
          "base_uri": "https://localhost:8080/"
        },
        "id": "ZS1Iu82CGiJy",
        "outputId": "4b20718e-d5ac-4638-f654-996a64728147"
      },
      "execution_count": 14,
      "outputs": [
        {
          "output_type": "stream",
          "name": "stdout",
          "text": [
            "Parse Table\n",
            "\n",
            "-------  -----  ------  -------  -----\n",
            "['S']\n",
            "[]       []\n",
            "[]       []     ['VP']\n",
            "['NP']   []     []      ['NP']\n",
            "['Det']  ['N']  ['V']   ['Det']  ['N']\n",
            "a        dog    chased  a        cat\n",
            "-------  -----  ------  -------  -----\n",
            "\n"
          ]
        }
      ]
    },
    {
      "cell_type": "code",
      "source": [
        "g.parse('keep quiet')\n",
        "g.print_parse_table()"
      ],
      "metadata": {
        "colab": {
          "base_uri": "https://localhost:8080/"
        },
        "id": "gz1Y9eCfXN4H",
        "outputId": "2d182ced-957c-4ed4-e7a9-ab2b8c245480"
      },
      "execution_count": 15,
      "outputs": [
        {
          "output_type": "stream",
          "name": "stdout",
          "text": [
            "Applied Rule: VP[2,1] --> V[1,1] Adj[1,2]\n",
            "----------------------------------------\n",
            "The sentence IS accepted in the language\n",
            "Number of possible trees: 1\n",
            "----------------------------------------\n",
            "\n",
            "------  -------\n",
            "['VP']\n",
            "['V']   ['Adj']\n",
            "keep    quiet\n",
            "------  -------\n",
            "\n"
          ]
        }
      ]
    },
    {
      "cell_type": "code",
      "source": [
        "g.parse('are you hungry')\n",
        "g.print_parse_table()"
      ],
      "metadata": {
        "colab": {
          "base_uri": "https://localhost:8080/"
        },
        "id": "ELPbn0SBXWxo",
        "outputId": "173e2130-3a2b-44dc-da94-ed46a88f20fe"
      },
      "execution_count": 16,
      "outputs": [
        {
          "output_type": "stream",
          "name": "stdout",
          "text": [
            "--------------------------------------------\n",
            "The sentence IS NOT accepted in the language\n",
            "--------------------------------------------\n",
            "\n",
            "-------  -----------  -------\n",
            "[]\n",
            "[]       []\n",
            "['Aux']  ['Pronoun']  ['Adj']\n",
            "are      you          hungry\n",
            "-------  -----------  -------\n",
            "\n"
          ]
        }
      ]
    },
    {
      "cell_type": "code",
      "source": [
        "g.parse('where are you')\n",
        "g.print_parse_table()"
      ],
      "metadata": {
        "colab": {
          "base_uri": "https://localhost:8080/"
        },
        "id": "GbrQudmeXZot",
        "outputId": "ed256ebb-69c8-4258-8a24-59b75ecb5966"
      },
      "execution_count": 17,
      "outputs": [
        {
          "output_type": "stream",
          "name": "stdout",
          "text": [
            "--------------------------------------------\n",
            "The sentence IS NOT accepted in the language\n",
            "--------------------------------------------\n",
            "\n",
            "---------  -------  -----------\n",
            "[]\n",
            "[]         []\n",
            "['WH-NP']  ['Aux']  ['Pronoun']\n",
            "where      are      you\n",
            "---------  -------  -----------\n",
            "\n"
          ]
        }
      ]
    }
  ]
}