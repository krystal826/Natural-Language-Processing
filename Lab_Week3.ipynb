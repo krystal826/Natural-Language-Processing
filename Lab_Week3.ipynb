{
  "nbformat": 4,
  "nbformat_minor": 0,
  "metadata": {
    "colab": {
      "name": "Lab Week3.ipynb",
      "provenance": [],
      "collapsed_sections": [],
      "authorship_tag": "ABX9TyMCX7WHBcThIAmVQnfwPA1i",
      "include_colab_link": true
    },
    "kernelspec": {
      "name": "python3",
      "display_name": "Python 3"
    },
    "language_info": {
      "name": "python"
    }
  },
  "cells": [
    {
      "cell_type": "markdown",
      "metadata": {
        "id": "view-in-github",
        "colab_type": "text"
      },
      "source": [
        "<a href=\"https://colab.research.google.com/github/krystal826/Natural-Language-Processing/blob/main/Lab_Week3.ipynb\" target=\"_parent\"><img src=\"https://colab.research.google.com/assets/colab-badge.svg\" alt=\"Open In Colab\"/></a>"
      ]
    },
    {
      "cell_type": "code",
      "metadata": {
        "id": "WmPp7SSG4RaY"
      },
      "source": [
        "import nltk\n",
        "import re\n",
        "import string\n",
        "from pprint import pprint"
      ],
      "execution_count": 1,
      "outputs": []
    },
    {
      "cell_type": "code",
      "metadata": {
        "id": "wJYdH4Mv6tT3"
      },
      "source": [
        "corpus = [\"trees lounge is the directoral debut from one of my favorite actors , steve buscemi . \",\n",
        "\"he gave memorable performences in in the soup , fargo , and reservoir dogs . \",\n",
        "\"now he tries his hand at writing , directing and acting all in the same flick . \",\n",
        "'the movie starts out awfully slow with tommy ( buscemi ) hanging around a local bar the \" trees lounge \" and him pestering his brother . ',\n",
        "\"it's obvious he a loser . \",\n",
        "\"but as he says \",\" it's better i'm a loser and know i am , then being a loser and not thinking i am . \" \n",
        "\"well put . \",\n",
        "\"the story starts to take off when his uncle dies , and tommy , not having a job , decides to drive an ice cream truck . \",\n",
        "\"well , the movie starts to pick up with him finding a love interest in a 17 year old girl named debbie ( chloe sevigny ) and . . . \",\n",
        "\"i liked this movie alot even though it did not reach my expectation . \",\n",
        "\"after you've seen him in fargo and reservoir dogs , you know he is capable of a better performence . \",\n",
        "\"i think his brother , michael , did an excellent job for his debut performence . \",\n",
        "\"mr . buscemi is off to a good career as a director !\"]\n",
        "\n"
      ],
      "execution_count": 3,
      "outputs": []
    },
    {
      "cell_type": "markdown",
      "metadata": {
        "id": "_wDt32pzkvp_"
      },
      "source": [
        "# Removing Special Characters"
      ]
    },
    {
      "cell_type": "code",
      "metadata": {
        "id": "XfNKIbm3dKSA"
      },
      "source": [
        "def remove_characters_before_tokenization(sentence, \n",
        "                                          keep_apostrophes=False): \n",
        "    \n",
        "    sentence = sentence.strip() \n",
        "    if keep_apostrophes:\n",
        "        PATTERN = r'[?|$|&|*|%|@|(|)|~]' # add other characters here to remove them\n",
        "        filtered_sentence = re.sub(PATTERN, r'', sentence)\n",
        "    else:\n",
        "        PATTERN = r'[^a-zA-Z0-9 ]' # only extract alpha-numeric characters\n",
        "        filtered_sentence = re.sub(PATTERN, r'', sentence) \n",
        "    return filtered_sentence"
      ],
      "execution_count": 4,
      "outputs": []
    },
    {
      "cell_type": "code",
      "metadata": {
        "id": "F2XyMqGRnztu"
      },
      "source": [
        "cleaned_corpus = [remove_characters_before_tokenization(sentence,\n",
        "               keep_apostrophes=True)\n",
        "                for sentence in corpus]"
      ],
      "execution_count": 7,
      "outputs": []
    },
    {
      "cell_type": "code",
      "metadata": {
        "colab": {
          "base_uri": "https://localhost:8080/"
        },
        "id": "rxUwtYm4n1b1",
        "outputId": "cfed6784-6c07-4521-b04c-6c5e7f84b7da"
      },
      "source": [
        "print(cleaned_corpus)"
      ],
      "execution_count": 8,
      "outputs": [
        {
          "output_type": "stream",
          "name": "stdout",
          "text": [
            "['trees lounge is the directoral debut from one of my favorite actors , steve buscemi .', 'he gave memorable performences in in the soup , fargo , and reservoir dogs .', 'now he tries his hand at writing , directing and acting all in the same flick .', 'the movie starts out awfully slow with tommy  buscemi  hanging around a local bar the \" trees lounge \" and him pestering his brother .', \"it's obvious he a loser .\", 'but as he says', \"it's better i'm a loser and know i am , then being a loser and not thinking i am . well put .\", 'the story starts to take off when his uncle dies , and tommy , not having a job , decides to drive an ice cream truck .', 'well , the movie starts to pick up with him finding a love interest in a 17 year old girl named debbie  chloe sevigny  and . . .', 'i liked this movie alot even though it did not reach my expectation .', \"after you've seen him in fargo and reservoir dogs , you know he is capable of a better performence .\", 'i think his brother , michael , did an excellent job for his debut performence .', 'mr . buscemi is off to a good career as a director !']\n"
          ]
        }
      ]
    },
    {
      "cell_type": "markdown",
      "metadata": {
        "id": "5ThABQ7JQjB4"
      },
      "source": [
        "# Case Conversion"
      ]
    },
    {
      "cell_type": "code",
      "metadata": {
        "colab": {
          "base_uri": "https://localhost:8080/"
        },
        "id": "rmXeXhOPRNXY",
        "outputId": "9dc7327e-7db6-452a-e491-7347963ab4b1"
      },
      "source": [
        "print(corpus[0].lower())\n",
        "print(corpus[0].upper())"
      ],
      "execution_count": 9,
      "outputs": [
        {
          "output_type": "stream",
          "name": "stdout",
          "text": [
            "trees lounge is the directoral debut from one of my favorite actors , steve buscemi . \n",
            "TREES LOUNGE IS THE DIRECTORAL DEBUT FROM ONE OF MY FAVORITE ACTORS , STEVE BUSCEMI . \n"
          ]
        }
      ]
    },
    {
      "cell_type": "markdown",
      "metadata": {
        "id": "Kv92HejDQlnH"
      },
      "source": [
        "# Expanding Contractions"
      ]
    },
    {
      "cell_type": "code",
      "metadata": {
        "id": "BZ1L-Y2uRR_P"
      },
      "source": [
        "from contractions import CONTRACTION_MAP # make sure copy contraction.py in the same folder as this file\n",
        "def expand_contractions(text, contraction_mapping=CONTRACTION_MAP):\n",
        "    \n",
        "    contractions_pattern = re.compile('({})'.format('|'.join(contraction_mapping.keys())), \n",
        "                                      flags=re.IGNORECASE|re.DOTALL)\n",
        "    def expand_match(contraction):\n",
        "        match = contraction.group(0)\n",
        "        first_char = match[0]\n",
        "        expanded_contraction = contraction_mapping.get(match)\\\n",
        "                                if contraction_mapping.get(match)\\\n",
        "                                else contraction_mapping.get(match.lower())                       \n",
        "        expanded_contraction = first_char+expanded_contraction[1:]\n",
        "        return expanded_contraction\n",
        "        \n",
        "    expanded_text = contractions_pattern.sub(expand_match, text)\n",
        "    expanded_text = re.sub(\"'\", \"\", expanded_text)\n",
        "    return expanded_text"
      ],
      "execution_count": 10,
      "outputs": []
    },
    {
      "cell_type": "code",
      "metadata": {
        "id": "dz-a-6MRRVs_"
      },
      "source": [
        "from contractions import CONTRACTION_MAP # make sure copy contraction.py in the same folder as this file\n",
        "def expand_contractions(text, contraction_mapping=CONTRACTION_MAP):\n",
        "    \n",
        "    contractions_pattern = re.compile('({})'.format('|'.join(contraction_mapping.keys())), \n",
        "                                      flags=re.IGNORECASE|re.DOTALL)\n",
        "    def expand_match(contraction):\n",
        "        match = contraction.group(0)\n",
        "        first_char = match[0]\n",
        "        expanded_contraction = contraction_mapping.get(match) if contraction_mapping.get(match) else contraction_mapping.get(match.lower())                       \n",
        "        expanded_contraction = first_char+expanded_contraction[1:]\n",
        "        return expanded_contraction\n",
        "    \n",
        "    try:\n",
        "        expanded_text = contractions_pattern.sub(expand_match, text)\n",
        "        expanded_text = re.sub(\"'\", \"\", expanded_text)\n",
        "    except:\n",
        "        return text\n",
        "    return expanded_text"
      ],
      "execution_count": 11,
      "outputs": []
    },
    {
      "cell_type": "code",
      "metadata": {
        "colab": {
          "base_uri": "https://localhost:8080/"
        },
        "id": "3OsU3HLTRcsv",
        "outputId": "fe59070b-3839-4362-8a00-c38bb8046040"
      },
      "source": [
        "cleaned_corpus2 = [expand_contractions(sentence) \n",
        "                  for sentence in cleaned_corpus]\n",
        "print(cleaned_corpus)\n",
        "print(cleaned_corpus2)"
      ],
      "execution_count": 12,
      "outputs": [
        {
          "output_type": "stream",
          "name": "stdout",
          "text": [
            "['trees lounge is the directoral debut from one of my favorite actors , steve buscemi .', 'he gave memorable performences in in the soup , fargo , and reservoir dogs .', 'now he tries his hand at writing , directing and acting all in the same flick .', 'the movie starts out awfully slow with tommy  buscemi  hanging around a local bar the \" trees lounge \" and him pestering his brother .', \"it's obvious he a loser .\", 'but as he says', \"it's better i'm a loser and know i am , then being a loser and not thinking i am . well put .\", 'the story starts to take off when his uncle dies , and tommy , not having a job , decides to drive an ice cream truck .', 'well , the movie starts to pick up with him finding a love interest in a 17 year old girl named debbie  chloe sevigny  and . . .', 'i liked this movie alot even though it did not reach my expectation .', \"after you've seen him in fargo and reservoir dogs , you know he is capable of a better performence .\", 'i think his brother , michael , did an excellent job for his debut performence .', 'mr . buscemi is off to a good career as a director !']\n",
            "['trees lounge is the directoral debut from one of my favorite actors , steve buscemi .', 'he gave memorable performences in in the soup , fargo , and reservoir dogs .', 'now he tries his hand at writing , directing and acting all in the same flick .', 'the movie starts out awfully slow with tommy  buscemi  hanging around a local bar the \" trees lounge \" and him pestering his brother .', 'it is obvious he a loser .', 'but as he says', 'it is better i am a loser and know i am , then being a loser and not thinking i am . well put .', 'the story starts to take off when his uncle dies , and tommy , not having a job , decides to drive an ice cream truck .', 'well , the movie starts to pick up with him finding a love interest in a 17 year old girl named debbie  chloe sevigny  and . . .', 'i liked this movie alot even though it did not reach my expectation .', 'after you have seen him in fargo and reservoir dogs , you know he is capable of a better performence .', 'i think his brother , michael , did an excellent job for his debut performence .', 'mr . buscemi is off to a good career as a director !']\n"
          ]
        }
      ]
    },
    {
      "cell_type": "markdown",
      "metadata": {
        "id": "02aYwiRwQpvX"
      },
      "source": [
        "#Removing Stopwords"
      ]
    },
    {
      "cell_type": "code",
      "metadata": {
        "colab": {
          "base_uri": "https://localhost:8080/"
        },
        "id": "cTT4oCjwRlwn",
        "outputId": "bf665352-32b8-481f-89ca-182620b7606b"
      },
      "source": [
        "import nltk\n",
        "nltk.download('stopwords')\n",
        "from nltk.tokenize.toktok import ToktokTokenizer\n",
        "tokenizer = ToktokTokenizer()\n",
        "stopword_list = nltk.corpus.stopwords.words('english')\n",
        "#stopword_list.remove('no')\n",
        "#stopword_list.remove('not')\n",
        "def remove_stopwords(text, is_lower_case=False):\n",
        "    tokens = tokenizer.tokenize(text)\n",
        "    tokens = [token.strip() for token in tokens]\n",
        "    if is_lower_case:\n",
        "        filtered_tokens = [token for token in tokens if token not in stopword_list]\n",
        "    else:\n",
        "        filtered_tokens = [token for token in tokens if token.lower() not in stopword_list]\n",
        "    filtered_text = ' '.join(filtered_tokens)    \n",
        "    return filtered_text"
      ],
      "execution_count": 13,
      "outputs": [
        {
          "output_type": "stream",
          "name": "stdout",
          "text": [
            "[nltk_data] Downloading package stopwords to /root/nltk_data...\n",
            "[nltk_data]   Unzipping corpora/stopwords.zip.\n"
          ]
        }
      ]
    },
    {
      "cell_type": "code",
      "metadata": {
        "colab": {
          "base_uri": "https://localhost:8080/"
        },
        "id": "UCup0ygNRoO_",
        "outputId": "03aa8f73-b08b-4ec9-b871-2da962065d9e"
      },
      "source": [
        "cleaned_corpus3 = [remove_stopwords(sentence, is_lower_case=False) \n",
        "                  for sentence in cleaned_corpus2]\n",
        "print(cleaned_corpus2)\n",
        "print(\"\\n\")\n",
        "print(\"Remove stopwords: \\n\", cleaned_corpus3)"
      ],
      "execution_count": 14,
      "outputs": [
        {
          "output_type": "stream",
          "name": "stdout",
          "text": [
            "['trees lounge is the directoral debut from one of my favorite actors , steve buscemi .', 'he gave memorable performences in in the soup , fargo , and reservoir dogs .', 'now he tries his hand at writing , directing and acting all in the same flick .', 'the movie starts out awfully slow with tommy  buscemi  hanging around a local bar the \" trees lounge \" and him pestering his brother .', 'it is obvious he a loser .', 'but as he says', 'it is better i am a loser and know i am , then being a loser and not thinking i am . well put .', 'the story starts to take off when his uncle dies , and tommy , not having a job , decides to drive an ice cream truck .', 'well , the movie starts to pick up with him finding a love interest in a 17 year old girl named debbie  chloe sevigny  and . . .', 'i liked this movie alot even though it did not reach my expectation .', 'after you have seen him in fargo and reservoir dogs , you know he is capable of a better performence .', 'i think his brother , michael , did an excellent job for his debut performence .', 'mr . buscemi is off to a good career as a director !']\n",
            "\n",
            "\n",
            "Remove stopwords: \n",
            " ['trees lounge directoral debut one favorite actors , steve buscemi .', 'gave memorable performences soup , fargo , reservoir dogs .', 'tries hand writing , directing acting flick .', 'movie starts awfully slow tommy buscemi hanging around local bar \" trees lounge \" pestering brother .', 'obvious loser .', 'says', 'better loser know , loser thinking . well put .', 'story starts take uncle dies , tommy , job , decides drive ice cream truck .', 'well , movie starts pick finding love interest 17 year old girl named debbie chloe sevigny . . .', 'liked movie alot even though reach expectation .', 'seen fargo reservoir dogs , know capable better performence .', 'think brother , michael , excellent job debut performence .', 'mr . buscemi good career director !']\n"
          ]
        }
      ]
    },
    {
      "cell_type": "markdown",
      "metadata": {
        "id": "jvnMObY8Quwf"
      },
      "source": [
        "#Stemming: Porter Stemmer\n",
        "\n"
      ]
    },
    {
      "cell_type": "code",
      "metadata": {
        "colab": {
          "base_uri": "https://localhost:8080/"
        },
        "id": "UAtkPpt1R6p_",
        "outputId": "6b782b89-5197-4233-9450-88c1a4ce8e95"
      },
      "source": [
        "#Stemming using Lancaster Stemmer\n",
        "from nltk.stem import PorterStemmer\n",
        "\n",
        "p_stemmer = PorterStemmer()\n",
        "\n",
        "words = ['trees', 'actors','gave','tries','writing','awfully','being']\n",
        "\n",
        "for word in words:\n",
        "  print(word+' --> '+p_stemmer.stem(word))"
      ],
      "execution_count": 16,
      "outputs": [
        {
          "output_type": "stream",
          "name": "stdout",
          "text": [
            "trees --> tree\n",
            "actors --> actor\n",
            "gave --> gave\n",
            "tries --> tri\n",
            "writing --> write\n",
            "awfully --> aw\n",
            "being --> be\n"
          ]
        }
      ]
    },
    {
      "cell_type": "markdown",
      "metadata": {
        "id": "JC1LMb3HQ5UX"
      },
      "source": [
        "#Lemmatization: NLTK Tool"
      ]
    },
    {
      "cell_type": "code",
      "metadata": {
        "colab": {
          "base_uri": "https://localhost:8080/"
        },
        "id": "ML-9SLyOTCLG",
        "outputId": "71f3f2ba-23d0-4a01-eb25-f7bf8535caf6"
      },
      "source": [
        "import nltk\n",
        "nltk.download('punkt')\n",
        "nltk.download('wordnet')\n",
        "from nltk.stem import WordNetLemmatizer\n",
        "\n",
        "wordnet_lemmatizer = WordNetLemmatizer()\n",
        "text = \"trees actors gave tries writing awfully being\"\n",
        "tokenization = nltk.word_tokenize(text)\n",
        "for w in tokenization:\n",
        "    print(\"Lemma for {} is {}\".format(w, wordnet_lemmatizer.lemmatize(w)))"
      ],
      "execution_count": 17,
      "outputs": [
        {
          "output_type": "stream",
          "name": "stdout",
          "text": [
            "[nltk_data] Downloading package punkt to /root/nltk_data...\n",
            "[nltk_data]   Unzipping tokenizers/punkt.zip.\n",
            "[nltk_data] Downloading package wordnet to /root/nltk_data...\n",
            "[nltk_data]   Unzipping corpora/wordnet.zip.\n",
            "Lemma for trees is tree\n",
            "Lemma for actors is actor\n",
            "Lemma for gave is gave\n",
            "Lemma for tries is try\n",
            "Lemma for writing is writing\n",
            "Lemma for awfully is awfully\n",
            "Lemma for being is being\n"
          ]
        }
      ]
    },
    {
      "cell_type": "markdown",
      "metadata": {
        "id": "fFh4-cDpRABI"
      },
      "source": [
        "#Word Tokenization: Whitespace Tokenizer"
      ]
    },
    {
      "cell_type": "code",
      "metadata": {
        "colab": {
          "base_uri": "https://localhost:8080/"
        },
        "id": "IX1m3NYLTguP",
        "outputId": "86fa709e-d6d6-46dd-db3b-17efb4a839ee"
      },
      "source": [
        "import nltk\n",
        "from nltk.tokenize import WhitespaceTokenizer\n",
        "\n",
        "text = \"trees lounge is the directoral debut from one of my favorite actors , steve buscemi . \"\n",
        "\n",
        "WhitespaceTokenizer().tokenize(text)\n"
      ],
      "execution_count": 19,
      "outputs": [
        {
          "output_type": "execute_result",
          "data": {
            "text/plain": [
              "['trees',\n",
              " 'lounge',\n",
              " 'is',\n",
              " 'the',\n",
              " 'directoral',\n",
              " 'debut',\n",
              " 'from',\n",
              " 'one',\n",
              " 'of',\n",
              " 'my',\n",
              " 'favorite',\n",
              " 'actors',\n",
              " ',',\n",
              " 'steve',\n",
              " 'buscemi',\n",
              " '.']"
            ]
          },
          "metadata": {},
          "execution_count": 19
        }
      ]
    }
  ]
}