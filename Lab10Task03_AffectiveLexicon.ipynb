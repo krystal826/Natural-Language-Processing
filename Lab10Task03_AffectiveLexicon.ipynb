{
  "cells": [
    {
      "cell_type": "markdown",
      "metadata": {
        "id": "view-in-github",
        "colab_type": "text"
      },
      "source": [
        "<a href=\"https://colab.research.google.com/github/krystal826/Natural-Language-Processing/blob/main/Lab10Task03_AffectiveLexicon.ipynb\" target=\"_parent\"><img src=\"https://colab.research.google.com/assets/colab-badge.svg\" alt=\"Open In Colab\"/></a>"
      ]
    },
    {
      "cell_type": "markdown",
      "metadata": {
        "id": "NHEHXVrh4yBO"
      },
      "source": [
        "# Exploring Affective Lexicon (AFiNN and Vader)\n",
        "# Install AFiNN and Vader if both are unavailable in your Jupyter\n",
        "# !pip3 install afinn\n",
        "# !pip3 install vaderSentiment\n",
        "# !pip3 install text2emotion"
      ]
    },
    {
      "cell_type": "markdown",
      "metadata": {
        "id": "maebJEv84yBR"
      },
      "source": [
        "## Find polarity for sentences using AFiNN"
      ]
    },
    {
      "cell_type": "code",
      "execution_count": 32,
      "metadata": {
        "colab": {
          "base_uri": "https://localhost:8080/"
        },
        "id": "bs4zmTRl4yBS",
        "outputId": "44f5997a-4468-432b-ed5f-6a3f2bec45d8"
      },
      "outputs": [
        {
          "output_type": "stream",
          "name": "stdout",
          "text": [
            "Requirement already satisfied: Afinn in /usr/local/lib/python3.7/dist-packages (0.1)\n"
          ]
        }
      ],
      "source": [
        "# AFiNN Lexicon\n",
        "!pip install Afinn\n",
        "import afinn\n",
        "from afinn import Afinn"
      ]
    },
    {
      "cell_type": "markdown",
      "metadata": {
        "id": "6w4oQ2_H4yBT"
      },
      "source": [
        "## What does the value for each of the sentence below mean?"
      ]
    },
    {
      "cell_type": "code",
      "execution_count": 51,
      "metadata": {
        "colab": {
          "base_uri": "https://localhost:8080/"
        },
        "id": "-OPsxISr4yBT",
        "outputId": "7bb77f78-1c41-46a7-8e59-1125236e6a21"
      },
      "outputs": [
        {
          "output_type": "stream",
          "name": "stdout",
          "text": [
            "I like this movie so much\n",
            "2.0\n",
            "I enjoyed the dinner\n",
            "2.0\n",
            "Such a bad movie!\n",
            "-3.0\n",
            "It is so annoying\n",
            "-2.0\n"
          ]
        }
      ],
      "source": [
        "# Finding polarity for each sentence\n",
        "afn = Afinn(emoticons=True)\n",
        "print('I like this movie so much')\n",
        "print(afn.score('I like this movie so much'))\n",
        "print('I enjoyed the dinner')\n",
        "print(afn.score('I enjoyed the dinner'))\n",
        "print('Such a bad movie!')\n",
        "print(afn.score('Such a bad movie!'))\n",
        "print('It is so annoying')\n",
        "print(afn.score('It is so annoying'))"
      ]
    },
    {
      "cell_type": "markdown",
      "metadata": {
        "id": "nyGk-XdW4yBU"
      },
      "source": [
        "The polarity basically indicates how positive, negative, or \n",
        "neutral the term might be with some numerical score. "
      ]
    },
    {
      "cell_type": "markdown",
      "metadata": {
        "id": "g4O2k_lh4yBU"
      },
      "source": [
        "## Find your own sentences that contain sentiment, get the polarity value using AFiNN"
      ]
    },
    {
      "cell_type": "code",
      "execution_count": 48,
      "metadata": {
        "colab": {
          "base_uri": "https://localhost:8080/"
        },
        "id": "_-EFCi0F4yBV",
        "outputId": "420e9d38-c3b0-4dd6-ffc6-44d4a7f34371"
      },
      "outputs": [
        {
          "output_type": "stream",
          "name": "stdout",
          "text": [
            "I really hated the plot of this movie\n",
            "-3.0\n",
            "I really hated the plot of this movie :(\n",
            "-5.0\n",
            "I really hated you\n",
            "-3.0\n",
            "The book was nice to read\n",
            "3.0\n"
          ]
        }
      ],
      "source": [
        "# Finding polarity for each sentence\n",
        "afn = Afinn(emoticons=True)\n",
        "print('I really hated the plot of this movie')\n",
        "print(afn.score('I really hated the plot of this movie'))\n",
        "print('I really hated the plot of this movie :(')\n",
        "print(afn.score('I really hated the plot of this movie :('))\n",
        "print('I really hated you')\n",
        "print(afn.score('I really hated you'))\n",
        "print('The book was nice to read')\n",
        "print(afn.score('The book was nice to read'))"
      ]
    },
    {
      "cell_type": "markdown",
      "metadata": {
        "id": "fcv-jB6H4yBV"
      },
      "source": [
        "## Find polarity for sentences using Vader"
      ]
    },
    {
      "cell_type": "code",
      "source": [
        "!pip install vaderSentiment"
      ],
      "metadata": {
        "colab": {
          "base_uri": "https://localhost:8080/"
        },
        "id": "zL89mMxL6l-O",
        "outputId": "a639c845-0883-46d5-d2b5-7f6783b9932a"
      },
      "execution_count": 34,
      "outputs": [
        {
          "output_type": "stream",
          "name": "stdout",
          "text": [
            "Requirement already satisfied: vaderSentiment in /usr/local/lib/python3.7/dist-packages (3.3.2)\n",
            "Requirement already satisfied: requests in /usr/local/lib/python3.7/dist-packages (from vaderSentiment) (2.23.0)\n",
            "Requirement already satisfied: chardet<4,>=3.0.2 in /usr/local/lib/python3.7/dist-packages (from requests->vaderSentiment) (3.0.4)\n",
            "Requirement already satisfied: certifi>=2017.4.17 in /usr/local/lib/python3.7/dist-packages (from requests->vaderSentiment) (2021.10.8)\n",
            "Requirement already satisfied: idna<3,>=2.5 in /usr/local/lib/python3.7/dist-packages (from requests->vaderSentiment) (2.10)\n",
            "Requirement already satisfied: urllib3!=1.25.0,!=1.25.1,<1.26,>=1.21.1 in /usr/local/lib/python3.7/dist-packages (from requests->vaderSentiment) (1.24.3)\n"
          ]
        }
      ]
    },
    {
      "cell_type": "code",
      "execution_count": 35,
      "metadata": {
        "id": "G1CW3MnH4yBW"
      },
      "outputs": [],
      "source": [
        "#Using Vader Lexicon to analyze sentences' polarity\n",
        "from vaderSentiment.vaderSentiment import SentimentIntensityAnalyzer\n",
        "import re\n",
        "import string\n",
        "analyzer = SentimentIntensityAnalyzer()"
      ]
    },
    {
      "cell_type": "code",
      "execution_count": 36,
      "metadata": {
        "id": "RI2eZEs_4yBW"
      },
      "outputs": [],
      "source": [
        "def sentiment_analyzer_scores(text):\n",
        "    score = analyzer.polarity_scores(text)\n",
        "    print(text)\n",
        "    print(score)"
      ]
    },
    {
      "cell_type": "code",
      "execution_count": 37,
      "metadata": {
        "colab": {
          "base_uri": "https://localhost:8080/"
        },
        "id": "1eYKbmSK4yBX",
        "outputId": "ebee66de-5d1e-4fcc-af50-078c0ba79283"
      },
      "outputs": [
        {
          "output_type": "stream",
          "name": "stdout",
          "text": [
            "this place was amazing  great food and atmosphere\n",
            "{'neg': 0.0, 'neu': 0.432, 'pos': 0.568, 'compound': 0.836}\n",
            "i didnt like their italian sub though just seemed like lower quality meats on it and american cheese\n",
            "{'neg': 0.198, 'neu': 0.688, 'pos': 0.115, 'compound': -0.2047}\n",
            "everything tastes like garbage to me but we keep coming back because my wife loves the pasta\n",
            "{'neg': 0.0, 'neu': 0.688, 'pos': 0.312, 'compound': 0.7783}\n"
          ]
        }
      ],
      "source": [
        "text_pos = 'this place was amazing  great food and atmosphere'\n",
        "sentiment_analyzer_scores(text_pos)\n",
        "\n",
        "text_neg = 'i didnt like their italian sub though just seemed like lower quality meats on it and american cheese'\n",
        "sentiment_analyzer_scores(text_neg)\n",
        "\n",
        "text_amb = \"everything tastes like garbage to me but we keep coming back because my wife loves the pasta\"\n",
        "sentiment_analyzer_scores(text_amb)"
      ]
    },
    {
      "cell_type": "markdown",
      "metadata": {
        "id": "p1F8M_F24yBX"
      },
      "source": [
        "# Find the polarity for the following sentences using Vader Lexicon:\n",
        "1. I really hated the plot of this movie\n",
        "2. I really hated the plot of this movie :(\n",
        "3. The book was nice to read\n",
        "\n",
        "Provide your opinion about the sentiment polarity for each sentence."
      ]
    },
    {
      "cell_type": "markdown",
      "source": [
        "In my opinion, the polarity using Vader Lexicon is more details on the scale of validated valence scores which is in the form of \"[-4] Extremely Negative\" to \"[4] Extremely Positive\", \n",
        "with allowance for \"[0] Neutral (or Neither, N/A)\""
      ],
      "metadata": {
        "id": "IA7oEOkLM2qE"
      }
    },
    {
      "cell_type": "code",
      "source": [
        "text_pos = 'I really hated the plot of this movie'\n",
        "sentiment_analyzer_scores(text_pos)\n",
        "\n",
        "text_neg = 'I really hated the plot of this movie :('\n",
        "sentiment_analyzer_scores(text_neg)\n",
        "\n",
        "text_amb = \"The book was nice to read\"\n",
        "sentiment_analyzer_scores(text_amb)"
      ],
      "metadata": {
        "colab": {
          "base_uri": "https://localhost:8080/"
        },
        "id": "U02tzzGDMmFo",
        "outputId": "08862bc5-4684-47aa-968a-37e30bd7f156"
      },
      "execution_count": 52,
      "outputs": [
        {
          "output_type": "stream",
          "name": "stdout",
          "text": [
            "I really hated the plot of this movie\n",
            "{'neg': 0.391, 'neu': 0.609, 'pos': 0.0, 'compound': -0.6697}\n",
            "I really hated the plot of this movie :(\n",
            "{'neg': 0.514, 'neu': 0.486, 'pos': 0.0, 'compound': -0.8122}\n",
            "The book was nice to read\n",
            "{'neg': 0.0, 'neu': 0.641, 'pos': 0.359, 'compound': 0.4215}\n"
          ]
        }
      ]
    },
    {
      "cell_type": "markdown",
      "metadata": {
        "id": "TjnkVRN-4yBX"
      },
      "source": [
        "# Identify the positive, negative and neutral words in a sentence using NLTK."
      ]
    },
    {
      "cell_type": "code",
      "execution_count": 38,
      "metadata": {
        "id": "SNWMkw7I4yBY"
      },
      "outputs": [],
      "source": [
        "import nltk\n",
        "from nltk.tokenize import word_tokenize, RegexpTokenizer"
      ]
    },
    {
      "cell_type": "code",
      "execution_count": 39,
      "metadata": {
        "id": "-dX73kWb4yBY"
      },
      "outputs": [],
      "source": [
        "def get_word_sentiment(text):\n",
        "    \n",
        "    tokenized_text = nltk.word_tokenize(text)\n",
        "    \n",
        "    pos_word_list=[]\n",
        "    neu_word_list=[]\n",
        "    neg_word_list=[]\n",
        "    for word in tokenized_text:\n",
        "        if (analyzer.polarity_scores(word)['compound']) >= 0.1:\n",
        "            pos_word_list.append(word)\n",
        "        elif (analyzer.polarity_scores(word)['compound']) <= -0.1:\n",
        "            neg_word_list.append(word)\n",
        "        else:\n",
        "            neu_word_list.append(word)\n",
        "            \n",
        "    print('Positive:',pos_word_list)        \n",
        "    print('Neutral:',neu_word_list)    \n",
        "    print('Negative:',neg_word_list)"
      ]
    },
    {
      "cell_type": "code",
      "execution_count": 40,
      "metadata": {
        "colab": {
          "base_uri": "https://localhost:8080/"
        },
        "id": "ajFET-jE4yBY",
        "outputId": "75d08b08-11f8-4ebf-a72a-78d06a53ba7b"
      },
      "outputs": [
        {
          "output_type": "stream",
          "name": "stdout",
          "text": [
            "[nltk_data] Downloading package punkt to /root/nltk_data...\n",
            "[nltk_data]   Package punkt is already up-to-date!\n",
            "Positive: ['like', 'loves']\n",
            "Neutral: ['everything', 'tastes', 'garbage', 'to', 'me', 'but', 'we', 'keep', 'coming', 'back', 'because', 'my', 'wife', 'the', 'pasta']\n",
            "Negative: []\n"
          ]
        }
      ],
      "source": [
        "nltk.download('punkt')\n",
        "get_word_sentiment(text_amb)"
      ]
    },
    {
      "cell_type": "markdown",
      "metadata": {
        "id": "q0e4qHXs4yBZ"
      },
      "source": [
        "# Suggest emotion from a text using Text2Emotion"
      ]
    },
    {
      "cell_type": "code",
      "source": [
        "!pip install text2emotion"
      ],
      "metadata": {
        "colab": {
          "base_uri": "https://localhost:8080/"
        },
        "id": "xdsjMS2T68p4",
        "outputId": "fda9631b-3a97-4d77-92ae-c9616d3b6af2"
      },
      "execution_count": 41,
      "outputs": [
        {
          "output_type": "stream",
          "name": "stdout",
          "text": [
            "Requirement already satisfied: text2emotion in /usr/local/lib/python3.7/dist-packages (0.0.5)\n",
            "Requirement already satisfied: nltk in /usr/local/lib/python3.7/dist-packages (from text2emotion) (3.2.5)\n",
            "Requirement already satisfied: emoji>=0.6.0 in /usr/local/lib/python3.7/dist-packages (from text2emotion) (1.6.1)\n",
            "Requirement already satisfied: six in /usr/local/lib/python3.7/dist-packages (from nltk->text2emotion) (1.15.0)\n"
          ]
        }
      ]
    },
    {
      "cell_type": "code",
      "execution_count": 42,
      "metadata": {
        "id": "DXxM0PTN4yBZ"
      },
      "outputs": [],
      "source": [
        "#Import the modules\n",
        "import text2emotion as te"
      ]
    },
    {
      "cell_type": "code",
      "execution_count": 43,
      "metadata": {
        "id": "_Nuk41TS4yBZ"
      },
      "outputs": [],
      "source": [
        "text = \"\"\"I was asked to sign a third party contract a week out from stay. If it wasn't an \n",
        "8 person group that took a lot of wrangling I would have cancelled the booking straight away. Bathrooms - \n",
        "there are no stand alone bathrooms. Please consider this - you have to clear out the main bedroom to use that \n",
        "bathroom. Other option is you walk through a different bedroom to get to its en-suite. Signs all over the apartment - \n",
        "there are signs everywhere - some helpful - some telling you rules. Perhaps some people like this but It negatively \n",
        "affected our enjoyment of the accommodation. Stairs - lots of them - some had slightly bending wood which caused \n",
        "a minor injury.\"\"\""
      ]
    },
    {
      "cell_type": "code",
      "execution_count": 44,
      "metadata": {
        "colab": {
          "base_uri": "https://localhost:8080/"
        },
        "id": "DWZbDkXb4yBZ",
        "outputId": "bef1b89e-1f96-4fe0-c088-ed952854adb6"
      },
      "outputs": [
        {
          "output_type": "execute_result",
          "data": {
            "text/plain": [
              "{'Angry': 0.12, 'Fear': 0.42, 'Happy': 0.04, 'Sad': 0.33, 'Surprise': 0.08}"
            ]
          },
          "metadata": {},
          "execution_count": 44
        }
      ],
      "source": [
        "#Call to the function\n",
        "te.get_emotion(text)"
      ]
    },
    {
      "cell_type": "code",
      "execution_count": 45,
      "metadata": {
        "colab": {
          "base_uri": "https://localhost:8080/"
        },
        "id": "ZMsqyovf4yBa",
        "outputId": "a6dc5e41-2f1f-4d44-95e9-dc601a9f54ac"
      },
      "outputs": [
        {
          "output_type": "execute_result",
          "data": {
            "text/plain": [
              "{'Angry': 0.0, 'Fear': 0.0, 'Happy': 0.67, 'Sad': 0.0, 'Surprise': 0.33}"
            ]
          },
          "metadata": {},
          "execution_count": 45
        }
      ],
      "source": [
        "text = \"Day was pretty amazing\"\n",
        "te.get_emotion(text)"
      ]
    },
    {
      "cell_type": "code",
      "execution_count": 46,
      "metadata": {
        "colab": {
          "base_uri": "https://localhost:8080/"
        },
        "id": "E7OvxuIX4yBa",
        "outputId": "afeeeeee-e2cd-4abd-f3cd-26ef622361dc"
      },
      "outputs": [
        {
          "output_type": "execute_result",
          "data": {
            "text/plain": [
              "{'Angry': 0.0, 'Fear': 0.33, 'Happy': 0.0, 'Sad': 0.33, 'Surprise': 0.33}"
            ]
          },
          "metadata": {},
          "execution_count": 46
        }
      ],
      "source": [
        "text = \"The Book was so boring that I slept after reading the first 2 pages and never opened it again.\"\n",
        "te.get_emotion(text)"
      ]
    },
    {
      "cell_type": "markdown",
      "metadata": {
        "id": "M0vokdMK4yBa"
      },
      "source": [
        "# Give your own example of a sentence and extract emotion from the sentence, if any."
      ]
    },
    {
      "cell_type": "code",
      "execution_count": 53,
      "metadata": {
        "colab": {
          "base_uri": "https://localhost:8080/"
        },
        "id": "GA9yoSWE4yBa",
        "outputId": "94498781-545c-4824-ca5f-8d6b28e9ec49"
      },
      "outputs": [
        {
          "output_type": "execute_result",
          "data": {
            "text/plain": [
              "{'Angry': 0.0, 'Fear': 0.0, 'Happy': 0.0, 'Sad': 1.0, 'Surprise': 0.0}"
            ]
          },
          "metadata": {},
          "execution_count": 53
        }
      ],
      "source": [
        "text = \"I am furiously disappointed in you\"\n",
        "te.get_emotion(text)"
      ]
    }
  ],
  "metadata": {
    "kernelspec": {
      "display_name": "Python 3",
      "language": "python",
      "name": "python3"
    },
    "language_info": {
      "codemirror_mode": {
        "name": "ipython",
        "version": 3
      },
      "file_extension": ".py",
      "mimetype": "text/x-python",
      "name": "python",
      "nbconvert_exporter": "python",
      "pygments_lexer": "ipython3",
      "version": "3.7.4"
    },
    "colab": {
      "name": "Lab10Task03-AffectiveLexicon.ipynb",
      "provenance": [],
      "collapsed_sections": [],
      "include_colab_link": true
    }
  },
  "nbformat": 4,
  "nbformat_minor": 0
}