{
  "cells": [
    {
      "cell_type": "markdown",
      "metadata": {
        "id": "view-in-github",
        "colab_type": "text"
      },
      "source": [
        "<a href=\"https://colab.research.google.com/github/krystal826/Natural-Language-Processing/blob/main/Lab_11_Task03_HobbAlgorithm.ipynb\" target=\"_parent\"><img src=\"https://colab.research.google.com/assets/colab-badge.svg\" alt=\"Open In Colab\"/></a>"
      ]
    },
    {
      "cell_type": "markdown",
      "metadata": {
        "id": "EoLhncBt_Fx1"
      },
      "source": [
        "# This Python codeis about coreference resolution using Hobb algorithm. The code was developed by Chris Ward. Source: https://github.com/cmward/hobbs"
      ]
    },
    {
      "cell_type": "code",
      "execution_count": 29,
      "metadata": {
        "id": "0AvuiPOB_Fx4"
      },
      "outputs": [],
      "source": [
        "\"\"\"\n",
        "Implementation of Hobbs' algorithm for pronoun resolution.\n",
        "Chris Ward, 2014\n",
        "\"\"\"\n",
        "\n",
        "import sys\n",
        "import nltk\n",
        "from nltk.corpus import names\n",
        "from nltk import Tree\n",
        "import queue"
      ]
    },
    {
      "cell_type": "markdown",
      "metadata": {
        "id": "xpDui5Ht_Fx6"
      },
      "source": [
        "# Labels for nominal heads"
      ]
    },
    {
      "cell_type": "code",
      "execution_count": 30,
      "metadata": {
        "id": "7JOYjJ_M_Fx6"
      },
      "outputs": [],
      "source": [
        "nominal_labels = [\"NN\", \"NNS\", \"NNP\", \"NNPS\", \"PRP\"]\n",
        "\n",
        "def get_pos(tree, node):\n",
        "    \"\"\" Given a tree and a node, return the tree position\n",
        "    of the node. \n",
        "    \"\"\" \n",
        "    for pos in tree.treepositions():\n",
        "        if tree[pos] == node:\n",
        "            return pos"
      ]
    },
    {
      "cell_type": "code",
      "execution_count": 31,
      "metadata": {
        "id": "EgSuc2Oo_Fx7"
      },
      "outputs": [],
      "source": [
        "def get_dom_np(sents, pos):\n",
        "    \"\"\" Finds the position of the NP that immediately dominates \n",
        "    the pronoun.\n",
        "    Args:\n",
        "        sents: list of trees (or tree) to search\n",
        "        pos: the tree position of the pronoun to be resolved\n",
        "    Returns:\n",
        "        tree: the tree containing the pronoun\n",
        "        dom_pos: the position of the NP immediately dominating\n",
        "            the pronoun\n",
        "    \"\"\"\n",
        "    # start with the last tree in sents\n",
        "    tree = sents[-1]\n",
        "    # get the NP's position by removing the last element from \n",
        "    # the pronoun's\n",
        "    dom_pos = pos[:-1]\n",
        "    return tree, dom_pos"
      ]
    },
    {
      "cell_type": "code",
      "execution_count": 32,
      "metadata": {
        "id": "qn3Uk7ie_Fx7"
      },
      "outputs": [],
      "source": [
        "def walk_to_np_or_s(tree, pos):\n",
        "    \"\"\" Takes the tree being searched and the position from which \n",
        "    the walk up is started. Returns the position of the first NP\n",
        "    or S encountered and the path taken to get there from the \n",
        "    dominating NP. The path consists of a list of tree positions.\n",
        "    Args:\n",
        "        tree: the tree being searched\n",
        "        pos: the position from which the walk is started\n",
        "    Returns:\n",
        "        path: the path taken to get the an NP or S node\n",
        "        pos: the position of the first NP or S node encountered\n",
        "    \"\"\"\n",
        "    path = [pos]\n",
        "    still_looking = True\n",
        "    while still_looking:\n",
        "        # climb one level up the tree by removing the last element\n",
        "        # from the current tree position\n",
        "        pos = pos[:-1]\n",
        "        path.append(pos)\n",
        "        # if an NP or S node is encountered, return the path and pos\n",
        "        if \"NP\" in tree[pos].label() or tree[pos].label() == \"S\":\n",
        "            still_looking = False\n",
        "    return path, pos"
      ]
    },
    {
      "cell_type": "markdown",
      "metadata": {
        "id": "wTQFwkcZ_Fx8"
      },
      "source": [
        "# Breadth-first search"
      ]
    },
    {
      "cell_type": "code",
      "execution_count": 33,
      "metadata": {
        "id": "uvvikk7R_Fx8"
      },
      "outputs": [],
      "source": [
        "def bft(tree):\n",
        "    \"\"\" Perform a breadth-first traversal of a tree.\n",
        "    Return the nodes in a list in level-order.\n",
        "    Args:\n",
        "        tree: a tree node\n",
        "    Returns:\n",
        "        lst: a list of tree nodes in left-to-right level-order\n",
        "    \"\"\"\n",
        "    lst = []\n",
        "    q = queue.Queue()\n",
        "    q.put(tree)\n",
        "    while not q.empty():\n",
        "        node = q.get()\n",
        "        lst.append(node)\n",
        "        for child in node:\n",
        "            if isinstance(child, nltk.Tree):\n",
        "                q.put(child)\n",
        "    return lst"
      ]
    },
    {
      "cell_type": "code",
      "execution_count": 34,
      "metadata": {
        "id": "36RHmana_Fx9"
      },
      "outputs": [],
      "source": [
        "def count_np_nodes(tree):\n",
        "    \"\"\" Function from class to count NP nodes.\n",
        "    \"\"\"\n",
        "    np_count = 0\n",
        "    if not isinstance(tree, nltk.Tree):\n",
        "        return 0\n",
        "    elif \"NP\" in tree.label() and tree.label() not in nominal_labels:\n",
        "        return 1 + sum(count_np_nodes(c) for c in tree)\n",
        "    else:\n",
        "        return sum(count_np_nodes(c) for c in tree)"
      ]
    },
    {
      "cell_type": "code",
      "execution_count": 35,
      "metadata": {
        "id": "cf7GiEyD_Fx-"
      },
      "outputs": [],
      "source": [
        "def check_for_intervening_np(tree, pos, proposal, pro):\n",
        "    \"\"\" Check if subtree rooted at pos contains at least \n",
        "    three NPs, one of which is: \n",
        "        (i)   not the proposal,\n",
        "        (ii)  not the pronoun, and \n",
        "        (iii) greater than the proposal\n",
        "    Args:\n",
        "        tree: the tree being searched\n",
        "        pos: the position of the root subtree being searched\n",
        "        proposal: the position of the proposed NP antecedent\n",
        "        pro: the pronoun being resolved (string)\n",
        "    Returns:\n",
        "        True if there is an NP between the proposal and the  pronoun\n",
        "        False otherwise\n",
        "    \"\"\"\n",
        "    bf = bft(tree[pos])\n",
        "    bf_pos = [get_pos(tree, node) for node in bf]\n",
        "\n",
        "    if count_np_nodes(tree[pos]) >= 3:\n",
        "        for node_pos in bf_pos:\n",
        "            if \"NP\" in tree[node_pos].label() \\\n",
        "            and tree[node_pos].label() not in nominal_labels: \n",
        "                if node_pos != proposal and node_pos != get_pos(tree, pro):\n",
        "                    if node_pos < proposal:\n",
        "                        return True\n",
        "    return False"
      ]
    },
    {
      "cell_type": "code",
      "execution_count": 36,
      "metadata": {
        "id": "Z70_NPak_Fx-"
      },
      "outputs": [],
      "source": [
        "def traverse_left(tree, pos, path, pro, check=1):\n",
        "    \"\"\" Traverse all branches below pos to the left of path in a\n",
        "    left-to-right, breadth-first fashion. Returns the first potential\n",
        "    antecedent found. \n",
        "    \n",
        "    If check is set to 1, propose as an antecedent any NP node \n",
        "    that is encountered which has an NP or S node between it and pos. \n",
        "    If check is set to 0, propose any NP node encountered as the antecedent.\n",
        "    Args:\n",
        "        tree: the tree being searched\n",
        "        pos: the position of the root of the subtree being searched\n",
        "        path: the path taked to get to pos\n",
        "        pro: the pronoun being resolved (string)\n",
        "        check: whether or not there must be an intervening NP \n",
        "    Returns:\n",
        "        tree: the tree containing the antecedent\n",
        "        p: the position of the proposed antecedent\n",
        "    \"\"\"\n",
        "    # get the results of breadth first search of the subtree\n",
        "    # iterate over them\n",
        "    breadth_first = bft(tree[pos])\n",
        "\n",
        "    # convert the treepositions of the subtree rooted at pos\n",
        "    # to their equivalents in the whole tree\n",
        "    bf_pos = [get_pos(tree, node) for node in breadth_first]\n",
        "    \n",
        "    if check == 1:\n",
        "        for p in bf_pos:\n",
        "            if p<path[0] and p not in path:\n",
        "                if \"NP\" in tree[p].label() and match(tree, p, pro):\n",
        "                    if check_for_intervening_np(tree, pos, p, pro) == True:\n",
        "                        return tree, p\n",
        "\n",
        "    elif check == 0:\n",
        "        for p in bf_pos:\n",
        "            if p<path[0] and p not in path:\n",
        "                if \"NP\" in tree[p].label() and match(tree, p, pro):\n",
        "                    return tree, p\n",
        "\n",
        "    return None, None"
      ]
    },
    {
      "cell_type": "code",
      "execution_count": 37,
      "metadata": {
        "id": "ZZu_BRwD_Fx_"
      },
      "outputs": [],
      "source": [
        "def traverse_right(tree, pos, path, pro):\n",
        "    \"\"\" Traverse all the branches of pos to the right of path p in a \n",
        "    left-to-right, breadth-first manner, but do not go below any NP \n",
        "    or S node encountered. Propose any NP node encountered as the \n",
        "    antecedent. Returns the first potential antecedent.\n",
        "    Args:\n",
        "        tree: the tree being searched\n",
        "        pos: the position of the root of the subtree being searched\n",
        "        path: the path taken to get to pos\n",
        "        pro: the pronoun being resolved (string)\n",
        "    Returns:\n",
        "        tree: the tree containing the antecedent\n",
        "        p: the position of the antecedent\n",
        "    \"\"\"\n",
        "    breadth_first = bft(tree[pos])\n",
        "    bf_pos = [get_pos(tree, node) for node in breadth_first]\n",
        "\n",
        "    for p in bf_pos:\n",
        "        if p>path[0] and p not in path:\n",
        "            if \"NP\" in tree[p].label() or tree[p].label() == \"S\":\n",
        "                if \"NP\" in tree[p].label() and tree[p].label() not in nominal_labels:\n",
        "                    if match(tree, p, pro):\n",
        "                        return tree, p\n",
        "                return None, None"
      ]
    },
    {
      "cell_type": "code",
      "execution_count": 38,
      "metadata": {
        "id": "LGP0zbRr_Fx_"
      },
      "outputs": [],
      "source": [
        "def traverse_tree(tree, pro):\n",
        "    \"\"\" Traverse a tree in a left-to-right, breadth-first manner,\n",
        "    proposing any NP encountered as an antecedent. Returns the \n",
        "    tree and the position of the first possible antecedent.\n",
        "    Args:\n",
        "        tree: the tree being searched\n",
        "        pro: the pronoun being resolved (string)\n",
        "    \"\"\"\n",
        "    # Initialize a queue and enqueue the root of the tree\n",
        "    q = queue.Queue()\n",
        "    q.put(tree)\n",
        "    while not q.empty():\n",
        "        node = q.get()\n",
        "        # if the node is an NP, return it as a potential antecedent\n",
        "        if \"NP\" in node.label() and match(tree, get_pos(tree,node), pro):\n",
        "            return tree, get_pos(tree, node)\n",
        "        for child in node:\n",
        "            if isinstance(child, nltk.Tree):\n",
        "                q.put(child)\n",
        "    # if no antecedent is found, return None\n",
        "    return None, None"
      ]
    },
    {
      "cell_type": "code",
      "execution_count": 39,
      "metadata": {
        "id": "bYnkPMgJ_Fx_"
      },
      "outputs": [],
      "source": [
        "def match(tree, pos, pro):\n",
        "    \"\"\" Takes a proposed antecedent and checks whether it matches\n",
        "    the pronoun in number and gender\n",
        "    \n",
        "    Args:\n",
        "        tree: the tree in which a potential antecedent has been found\n",
        "        pos: the position of the potential antecedent\n",
        "        pro: the pronoun being resolved (string)\n",
        "    Returns:\n",
        "        True if the antecedent and pronoun match\n",
        "        False otherwise\n",
        "    \"\"\"\n",
        "    if number_match(tree, pos, pro) and gender_match(tree, pos, pro):\n",
        "        return True\n",
        "    return False"
      ]
    },
    {
      "cell_type": "markdown",
      "metadata": {
        "id": "puwIHLvK_FyA"
      },
      "source": [
        "# Number agreement"
      ]
    },
    {
      "cell_type": "code",
      "execution_count": 40,
      "metadata": {
        "id": "L8SsFhJ2_FyA"
      },
      "outputs": [],
      "source": [
        "def number_match(tree, pos, pro):\n",
        "    \"\"\" Takes a proposed antecedent and pronoun and checks whether \n",
        "    they match in number.\n",
        "    \"\"\"\n",
        "    m = {\"NN\":          \"singular\",\n",
        "         \"NNP\":         \"singular\",\n",
        "         \"he\":          \"singular\",\n",
        "         \"she\":         \"singular\",\n",
        "         \"him\":         \"singular\",\n",
        "         \"her\":         \"singular\",\n",
        "         \"his\":         \"singular\",\n",
        "         \"it\":          \"singular\",\n",
        "         \"himself\":     \"singular\",\n",
        "         \"herself\":     \"singular\",\n",
        "         \"itself\":      \"singular\",\n",
        "         \"NNS\":         \"plural\",\n",
        "         \"NNPS\":        \"plural\",\n",
        "         \"they\":        \"plural\",\n",
        "         \"them\":        \"plural\",\n",
        "         \"themselves\":  \"plural\",\n",
        "         \"PRP\":         None}\n",
        "    \n",
        "    # if the label of the nominal dominated by the proposed NP and \n",
        "    # the pronoun both map to the same number feature, they match \n",
        "    for c in tree[pos]:\n",
        "        if isinstance(c, nltk.Tree) and c.label() in nominal_labels:\n",
        "            if m[c.label()] == m[pro]:\n",
        "                return True\n",
        "    return False"
      ]
    },
    {
      "cell_type": "markdown",
      "metadata": {
        "id": "Nj1gNuUE_FyA"
      },
      "source": [
        "# Gender agreement"
      ]
    },
    {
      "cell_type": "code",
      "execution_count": 41,
      "metadata": {
        "id": "iAlAg5mu_FyA"
      },
      "outputs": [],
      "source": [
        "def gender_match(tree, pos, pro):\n",
        "    \"\"\" Takes a proposed antecedent and pronoun and checks whether\n",
        "    they match in gender. Only checks for mismatches between singular\n",
        "    proper name antecedents and singular pronouns.\n",
        "    \"\"\"\n",
        "    male_names = (name.lower() for name in names.words('male.txt'))\n",
        "    female_names = (name.lower() for name in names.words('female.txt'))\n",
        "    male_pronouns = [\"he\", \"him\", \"himself\"]\n",
        "    female_pronouns = [\"she\", \"her\", \"herself\"]\n",
        "    neuter_pronouns = [\"it\", \"itself\"]\n",
        "    \n",
        "    for c in tree[pos]:\n",
        "        if isinstance(c, nltk.Tree) and c.label() in nominal_labels:\n",
        "            # If the proposed antecedent is a recognized male name,\n",
        "            # but the pronoun being resolved is either female or\n",
        "            # neuter, they don't match\n",
        "            if c.leaves()[0].lower() in male_names:\n",
        "                if pro in female_pronouns:\n",
        "                    return False\n",
        "                elif pro in neuter_pronouns:\n",
        "                    return False\n",
        "            # If the proposed antecedent is a recognized female name,\n",
        "            # but the pronoun being resolved is either male or \n",
        "            # neuter, they don't match\n",
        "            elif c.leaves()[0].lower() in female_names:\n",
        "                if pro in male_pronouns:\n",
        "                    return False\n",
        "                elif pro in neuter_pronouns:\n",
        "                    return False\n",
        "            # If the proposed antecedent is a numeral, but the \n",
        "            # pronoun being resolved is not neuter, they don't match\n",
        "            elif c.leaves()[0].isdigit():\n",
        "                if pro in male_pronouns:\n",
        "                    return False\n",
        "                elif pro in female_pronouns:\n",
        "                    return False\n",
        "\n",
        "    return True"
      ]
    },
    {
      "cell_type": "markdown",
      "metadata": {
        "id": "CsaLDhnA_FyB"
      },
      "source": [
        "# Hobb algorithm"
      ]
    },
    {
      "cell_type": "code",
      "execution_count": 42,
      "metadata": {
        "id": "6T0S_TTI_FyB"
      },
      "outputs": [],
      "source": [
        "def hobbs(sents, pos):\n",
        "    \"\"\" The implementation of Hobbs' algorithm.\n",
        "    Args:\n",
        "        sents: list of sentences to be searched\n",
        "        pos: the position of the pronoun to be resolved\n",
        "    Returns:\n",
        "        proposal: a tuple containing the tree and position of the\n",
        "            proposed antecedent\n",
        "    \"\"\"\n",
        "    # The index of the most recent sentence in sents\n",
        "    sentence_id = len(sents)-1\n",
        "    # The number of sentences to be searched\n",
        "    num_sents = len(sents)\n",
        "\n",
        "    # Step 1: begin at the NP node immediately dominating the pronoun\n",
        "    tree, pos = get_dom_np(sents, pos)\n",
        "\n",
        "    # String representation of the pronoun to be resolved\n",
        "    pro = tree[pos].leaves()[0].lower()\n",
        "\n",
        "    # Step 2: Go up the tree to the first NP or S node encountered\n",
        "    path, pos = walk_to_np_or_s(tree, pos)\n",
        "    \n",
        "    # Step 3: Traverse all branches below pos to the left of path\n",
        "    # left-to-right, breadth-first. Propose as an antecedent any NP\n",
        "    # node that is encountered which has an NP or S node between it and pos\n",
        "    proposal = traverse_left(tree, pos, path, pro)\n",
        "\n",
        "    while proposal == (None, None):\n",
        "        \n",
        "        # Step 4: If pos is the highest S node in the sentence, \n",
        "        # traverse the surface parses of previous sentences in order\n",
        "        # of recency, the most recent first; each tree is traversed in\n",
        "        # a left-to-right, breadth-first manner, and when an NP node is\n",
        "        # encountered, it is proposed as an antecedent\n",
        "        if pos == ():\n",
        "            # go to the previous sentence\n",
        "            sentence_id -= 1\n",
        "            # if there are no more sentences, no antecedent found\n",
        "            if sentence_id < 0:\n",
        "                return None\n",
        "            # search new sentence\n",
        "            proposal = traverse_tree(sents[sentence_id], pro)\n",
        "            if proposal != (None, None):\n",
        "                return proposal\n",
        "\n",
        "        # Step 5: If pos is not the highest S in the sentence, from pos,\n",
        "        # go up the tree to the first NP or S node encountered. \n",
        "        path, pos = walk_to_np_or_s(tree, pos)\n",
        "        \n",
        "        # Step 6: If pos is an NP node and if the path to pos did not pass \n",
        "        # through the nominal node that pos immediately dominates, propose pos \n",
        "        # as the antecedent.\n",
        "        if \"NP\" in tree[pos].label() and tree[pos].label() not in nominal_labels:\n",
        "            for c in tree[pos]:\n",
        "                if isinstance(c, nltk.Tree) and c.label() in nominal_labels:\n",
        "                    if get_pos(tree, c) not in path and match(tree, pos, pro):\n",
        "                        proposal = (tree, pos)\n",
        "                        if proposal != (None, None):\n",
        "                            return proposal\n",
        "\n",
        "        # Step 7: Traverse all branches below pos to the left of path, \n",
        "        # in a left-to-right, breadth-first manner. Propose any NP node\n",
        "        # encountered as the antecedent.\n",
        "        proposal = traverse_left(tree, pos, path, pro, check=0)\n",
        "        if proposal != (None, None):\n",
        "            return proposal\n",
        "\n",
        "        # Step 8: If pos is an S node, traverse all the branches of pos\n",
        "        # to the right of path in a left-to-right, breadth-forst manner, but\n",
        "        # do not go below any NP or S node encountered. Propose any NP node\n",
        "        # encountered as the antecedent.\n",
        "        if tree[pos].label() == \"S\":\n",
        "            proposal = traverse_right(tree, pos, path, pro)\n",
        "            if proposal != (None, None):\n",
        "                return proposal\n",
        "\n",
        "    return proposal"
      ]
    },
    {
      "cell_type": "code",
      "execution_count": 43,
      "metadata": {
        "id": "wz_geRy7_FyC"
      },
      "outputs": [],
      "source": [
        "def resolve_reflexive(sents, pos):\n",
        "    \"\"\" Resolves reflexive pronouns by going to the first S\n",
        "    node above the NP dominating the pronoun and searching for\n",
        "    a matching antecedent. If none is found in the lowest S\n",
        "    containing the anaphor, then the sentence probably isn't \n",
        "    grammatical or the reflexive is being used as an intensifier.\n",
        "    \"\"\"\n",
        "    tree, pos = get_dom_np(sents, pos)\n",
        "\n",
        "    pro = tree[pos].leaves()[0].lower()\n",
        "\n",
        "    # local binding domain of a reflexive is the lowest clause \n",
        "    # containing the reflexive and a binding NP\n",
        "    path, pos = walk_to_s(tree, pos)\n",
        "\n",
        "    proposal = traverse_tree(tree, pro)\n",
        "\n",
        "    return proposal"
      ]
    },
    {
      "cell_type": "code",
      "execution_count": 44,
      "metadata": {
        "id": "6QcOMPQx_FyC"
      },
      "outputs": [],
      "source": [
        "def walk_to_s(tree, pos):\n",
        "    \"\"\" Takes the tree being searched and the position from which \n",
        "    the walk up is started. Returns the position of the first S \n",
        "    encountered and the path taken to get there from the \n",
        "    dominating NP. The path consists of a list of tree positions.\n",
        "    Args:\n",
        "        tree: the tree being searched\n",
        "        pos: the position from which the walk is started\n",
        "    Returns:\n",
        "        path: the path taken to get the an S node\n",
        "        pos: the position of the first S node encountered\n",
        "    \"\"\"\n",
        "    path = [pos]\n",
        "    still_looking = True\n",
        "    while still_looking:\n",
        "        # climb one level up the tree by removing the last element\n",
        "        # from the current tree position\n",
        "        pos = pos[:-1]\n",
        "        path.append(pos)\n",
        "        # if an S node is encountered, return the path and pos\n",
        "        if tree[pos].label() == \"S\":\n",
        "            still_looking = False\n",
        "    return path, pos"
      ]
    },
    {
      "cell_type": "markdown",
      "metadata": {
        "id": "cXQae888_FyC"
      },
      "source": [
        "# Demo - parse trees are provided here (tree1 - tree6)\n",
        "## Sentence 1: John said he likes dogs\n",
        "## Coreference resolution: he"
      ]
    },
    {
      "cell_type": "code",
      "execution_count": 45,
      "metadata": {
        "colab": {
          "base_uri": "https://localhost:8080/"
        },
        "id": "Y-MwE6Dy_FyC",
        "outputId": "a9cd64ef-809f-4d56-e056-40f43df48d3f"
      },
      "outputs": [
        {
          "output_type": "stream",
          "name": "stdout",
          "text": [
            "[nltk_data] Downloading package names to /root/nltk_data...\n",
            "[nltk_data]   Package names is already up-to-date!\n",
            "Sentence 1: John said he likes dogs.\n",
            "(S\n",
            "  (NP (NNP John))\n",
            "  (VP\n",
            "    (VBD said)\n",
            "    (SBAR\n",
            "      (-NONE- 0)\n",
            "      (S (NP (PRP he)) (VP (VBD likes) (NP (NNS dogs)))))))\n",
            "\n",
            "Proposed antecedent for 'he': (NP (NNP John)) \n",
            "\n"
          ]
        }
      ],
      "source": [
        "nltk.download('names')\n",
        "tree1 = Tree.fromstring('(S (NP (NNP John) ) (VP (VBD said) (SBAR (-NONE- 0) \\\n",
        "    (S (NP (PRP he) ) (VP (VBD likes) (NP (NNS dogs) ) ) ) ) ) )')\n",
        "\n",
        "print(\"Sentence 1: John said he likes dogs.\")\n",
        "print(tree1)\n",
        "tree, pos = hobbs([tree1], (1,1,1,0,0))\n",
        "print(\"\\nProposed antecedent for 'he':\", tree[pos], '\\n')"
      ]
    },
    {
      "cell_type": "markdown",
      "metadata": {
        "id": "WRGR-yeS_FyD"
      },
      "source": [
        "## Sentence 2: John said Mary likes him\n",
        "## Coreference resolution: him"
      ]
    },
    {
      "cell_type": "code",
      "execution_count": 46,
      "metadata": {
        "colab": {
          "base_uri": "https://localhost:8080/"
        },
        "id": "CFYsANm4_FyD",
        "outputId": "8f26e60b-429f-4f29-bdc6-3ae388e1c15a"
      },
      "outputs": [
        {
          "output_type": "stream",
          "name": "stdout",
          "text": [
            "Sentence 2: John said Mary likes him.\n",
            "(S\n",
            "  (NP (NNP John))\n",
            "  (VP\n",
            "    (VBD said)\n",
            "    (SBAR\n",
            "      (-NONE- 0)\n",
            "      (S (NP (NNP Mary)) (VP (VBD likes) (NP (PRP him)))))))\n",
            "\n",
            "Proposed antecedent for 'him': (NP (NNP John)) \n",
            "\n"
          ]
        }
      ],
      "source": [
        "tree2 = Tree.fromstring('(S (NP (NNP John) ) (VP (VBD said) (SBAR (-NONE- 0) \\\n",
        "        (S (NP (NNP Mary) ) (VP (VBD likes) (NP (PRP him) ) ) ) ) ) )')\n",
        "\n",
        "print(\"Sentence 2: John said Mary likes him.\")\n",
        "print(tree2)\n",
        "tree, pos = hobbs([tree2], (1,1,1,1,1,0))\n",
        "print(\"\\nProposed antecedent for 'him':\", tree[pos], '\\n')"
      ]
    },
    {
      "cell_type": "markdown",
      "metadata": {
        "id": "L3FH8_Jn_FyD"
      },
      "source": [
        "## Sentence 3: John saw a flashy hat at the store\n",
        "## Sentence 4: He showed it to Terence\n",
        "## Corereference resolution: he and it"
      ]
    },
    {
      "cell_type": "code",
      "execution_count": 47,
      "metadata": {
        "colab": {
          "base_uri": "https://localhost:8080/"
        },
        "id": "Cu43jeHC_FyD",
        "outputId": "0ab29035-d0cf-43f7-8a11-83d80c6b03ab"
      },
      "outputs": [
        {
          "output_type": "stream",
          "name": "stdout",
          "text": [
            "Sentence 3: John saw a flashy hat at the store.\n",
            "Sentence 4: He showed it to Terence.\n",
            "\n",
            "Proposed antecedent for 'it': (NP (DT a) (JJ flashy) (NN hat))\n",
            "Proposed antecedent for 'he': (NP (NNP John)) \n",
            "\n"
          ]
        }
      ],
      "source": [
        "tree3 = Tree.fromstring('(S (NP (NNP John)) (VP (VBD saw) (NP (DT a) \\\n",
        "        (JJ flashy) (NN hat)) (PP (IN at) (NP (DT the) (NN store)))))')\n",
        "tree4 = Tree.fromstring('(S (NP (PRP He)) (VP (VBD showed) (NP (PRP it)) \\\n",
        "        (PP (IN to) (NP (NNP Terrence)))))')\n",
        "\n",
        "print(\"Sentence 3: John saw a flashy hat at the store.\")\n",
        "print(\"Sentence 4: He showed it to Terence.\")\n",
        "#print(tree3)\n",
        "#print(tree4)\n",
        "tree, pos = hobbs([tree3,tree4], (1,1,0))\n",
        "print(\"\\nProposed antecedent for 'it':\", tree[pos])\n",
        "tree, pos = hobbs([tree3,tree4], (0,0))\n",
        "print(\"Proposed antecedent for 'he':\", tree[pos], '\\n')"
      ]
    },
    {
      "cell_type": "markdown",
      "metadata": {
        "id": "jwOA4jhT_FyD"
      },
      "source": [
        "## Sentence 5: John said Mary likes herself\n",
        "## Coreference resolution: herself"
      ]
    },
    {
      "cell_type": "code",
      "execution_count": 48,
      "metadata": {
        "colab": {
          "base_uri": "https://localhost:8080/"
        },
        "id": "tizmbs1C_FyD",
        "outputId": "328c169e-81d3-44a7-cb26-3b89ad300c74"
      },
      "outputs": [
        {
          "output_type": "stream",
          "name": "stdout",
          "text": [
            "Sentence 5: John said Mary likes herself.\n",
            "(S\n",
            "  (NP (NNP John))\n",
            "  (VP\n",
            "    (VBD said)\n",
            "    (SBAR\n",
            "      (-NONE- 0)\n",
            "      (S (NP (NNP Mary)) (VP (VBD likes) (NP (PRP herself)))))))\n",
            "\n",
            "Proposed antecedent for 'herself': (NP (NNP Mary)) \n",
            "\n"
          ]
        }
      ],
      "source": [
        "tree5 = Tree.fromstring('(S (NP (NNP John) ) (VP (VBD said) (SBAR (-NONE- 0) \\\n",
        "        (S (NP (NNP Mary) ) (VP (VBD likes) (NP (PRP herself) ) ) ) ) ) )')\n",
        "\n",
        "print(\"Sentence 5: John said Mary likes herself.\")\n",
        "print(tree5)\n",
        "tree, pos = resolve_reflexive([tree5], (1,1,1,1,1,0))\n",
        "print(\"\\nProposed antecedent for 'herself':\", tree[pos], '\\n')"
      ]
    },
    {
      "cell_type": "markdown",
      "metadata": {
        "id": "qrbpWP1T_FyD"
      },
      "source": [
        "## Sentence 6: Judge Curry ordered the refunds to begin Feb. and said that he wouldn't entertain any appeals or other attempts to block his order by Commonwealth Edison.\n",
        "## Coreference resolution: he"
      ]
    },
    {
      "cell_type": "code",
      "execution_count": 49,
      "metadata": {
        "colab": {
          "base_uri": "https://localhost:8080/"
        },
        "id": "qbm43ZR5_FyE",
        "outputId": "e0bde731-b5c4-4813-b698-2a4089be093e"
      },
      "outputs": [
        {
          "output_type": "stream",
          "name": "stdout",
          "text": [
            "Sentence 6: Judge Curry ordered the refunds to begin Feb. and said that he wouldn't entertain any appeals or other attempts to block his order by Commonwealth Edison.\n",
            "\n",
            "Proposed antecedent for 'he': (NP-SBJ (NNP Judge) (NNP Curry)) \n",
            "\n"
          ]
        }
      ],
      "source": [
        "tree6 = Tree.fromstring(\"(S(NP-SBJ (NNP Judge) (NNP Curry))\\\n",
        "        (VP(VP(VBD ordered)(NP-1 (DT the) (NNS refunds))\\\n",
        "        (S(NP-SBJ (-NONE- *-1))(VP (TO to) (VP (VB begin)\\\n",
        "        (NP-TMP (NNP Feb.) (CD 1))))))(CC and)\\\n",
        "        (VP(VBD said)(SBAR(IN that)(S(NP-SBJ (PRP he))(VP(MD would)\\\n",
        "        (RB n't)(VP(VB entertain)(NP(NP (DT any) (NNS appeals))(CC or)\\\n",
        "        (NP(NP(JJ other)(NNS attempts)(S(NP-SBJ (-NONE- *))(VP(TO to)\\\n",
        "        (VP (VB block) (NP (PRP$ his) (NN order))))))(PP (IN by)\\\n",
        "        (NP (NNP Commonwealth) (NNP Edison)))))))))))(. .))\")\n",
        "\n",
        "print(\"Sentence 6: Judge Curry ordered the refunds to begin Feb. and said that he wouldn't entertain any appeals or other attempts to block his order by Commonwealth Edison.\")\n",
        "#print(tree5)\n",
        "tree, pos = hobbs([tree6], (1,2,1,1,0,0))\n",
        "print(\"\\nProposed antecedent for 'he':\", tree[pos], '\\n')"
      ]
    },
    {
      "cell_type": "markdown",
      "metadata": {
        "id": "C1NkYpk4_FyE"
      },
      "source": [
        "# Demo on Coreference resolution. Input from textfile (demosents.txt). Don't forget to download the text file.\n",
        "## First example. The sample input:\n",
        "## Enter the file: demosents.txt\n",
        "## Enter the pronoun to resolve: He"
      ]
    },
    {
      "cell_type": "code",
      "execution_count": 51,
      "metadata": {
        "colab": {
          "base_uri": "https://localhost:8080/"
        },
        "id": "07s3p_pY_FyE",
        "outputId": "bb6ce573-c2f5-44c2-8d79-a6b7a1abef17"
      },
      "outputs": [
        {
          "output_type": "stream",
          "name": "stdout",
          "text": [
            "Enter the file: demosents.txt\n",
            "Enter the pronoun to resolve: He\n",
            "['(S (NP (NNP John)) (VP (VBD saw) (NP (DT a)(JJ flashy) (NN hat)) (PP (IN at) (NP (DT the) (NN store)))))\\n', '(S (NP (PRP He)) (VP (VBD showed) (NP (PRP it))(PP (IN to) (NP (NNP Terrence)))))\\n']\n",
            "(S\n",
            "  (NP (NNP John))\n",
            "  (VP\n",
            "    (VBD saw)\n",
            "    (NP (DT a) (JJ flashy) (NN hat))\n",
            "    (PP (IN at) (NP (DT the) (NN store))))) \n",
            "\n",
            "(S\n",
            "  (NP (PRP He))\n",
            "  (VP (VBD showed) (NP (PRP it)) (PP (IN to) (NP (NNP Terrence))))) \n",
            "\n",
            "Proposed antecedent for 'He': (NP (NNP John))\n"
          ]
        }
      ],
      "source": [
        "p = [\"He\", \"he\", \"Him\", \"him\", \"She\", \"she\", \"Her\", \"her\", \"It\", \"it\", \"They\", \"they\"]\n",
        "r = [\"Himself\", \"himself\", \"Herself\", \"herself\", \"Itself\", \"itself\", \"Themselves\", \"themselves\"]\n",
        "fname = input(\"Enter the file: \")\n",
        "pro = input(\"Enter the pronoun to resolve: \")\n",
        "with open(fname) as f:\n",
        "    sents = f.readlines()\n",
        "print(sents)\n",
        "trees = [Tree.fromstring(s) for s in sents]\n",
        "pos = get_pos(trees[-1], pro)\n",
        "pos = pos[:-1]\n",
        "if pro in p:\n",
        "    tree, pos = hobbs(trees, pos)\n",
        "    for t in trees:\n",
        "        print(t, '\\n')\n",
        "    print(\"Proposed antecedent for '\"+pro+\"':\", tree[pos])\n",
        "elif pro in r:\n",
        "    tree, pos = resolve_reflexive(trees, pos)\n",
        "    for t in trees:\n",
        "        print(t, '\\n')\n",
        "    print(\"Proposed antecedent for '\"+pro+\"':\", tree[pos])"
      ]
    },
    {
      "cell_type": "markdown",
      "metadata": {
        "id": "au0GBjCD_FyE"
      },
      "source": [
        "# Demo on Coreference resolution. Input from textfile (demosents.txt)\n",
        "## Second example. The sample input:\n",
        "## Enter the file: demosents.txt\n",
        "## Enter the pronoun to resolve: it"
      ]
    },
    {
      "cell_type": "code",
      "execution_count": 52,
      "metadata": {
        "colab": {
          "base_uri": "https://localhost:8080/"
        },
        "id": "T1qgBJ5w_FyE",
        "outputId": "8dd77ec4-e0eb-461d-d09b-493c8dcac3f2"
      },
      "outputs": [
        {
          "output_type": "stream",
          "name": "stdout",
          "text": [
            "Enter the file: demosents.txt\n",
            "Enter the pronoun to resolve: it\n",
            "(S\n",
            "  (NP (NNP John))\n",
            "  (VP\n",
            "    (VBD saw)\n",
            "    (NP (DT a) (JJ flashy) (NN hat))\n",
            "    (PP (IN at) (NP (DT the) (NN store))))) \n",
            "\n",
            "(S\n",
            "  (NP (PRP He))\n",
            "  (VP (VBD showed) (NP (PRP it)) (PP (IN to) (NP (NNP Terrence))))) \n",
            "\n",
            "Proposed antecedent for 'it': (NP (DT a) (JJ flashy) (NN hat))\n"
          ]
        }
      ],
      "source": [
        "p = [\"He\", \"he\", \"Him\", \"him\", \"She\", \"she\", \"Her\", \"her\", \"It\", \"it\", \"They\", \"they\"]\n",
        "r = [\"Himself\", \"himself\", \"Herself\", \"herself\", \"Itself\", \"itself\", \"Themselves\", \"themselves\"]\n",
        "fname = input(\"Enter the file: \")\n",
        "pro = input(\"Enter the pronoun to resolve: \")\n",
        "with open(fname) as f:\n",
        "    sents = f.readlines()\n",
        "trees = [Tree.fromstring(s) for s in sents]\n",
        "pos = get_pos(trees[-1], pro)\n",
        "pos = pos[:-1]\n",
        "if pro in p:\n",
        "    tree, pos = hobbs(trees, pos)\n",
        "    for t in trees:\n",
        "        print(t, '\\n')\n",
        "    print(\"Proposed antecedent for '\"+pro+\"':\", tree[pos])\n",
        "elif pro in r:\n",
        "    tree, pos = resolve_reflexive(trees, pos)\n",
        "    for t in trees:\n",
        "        print(t, '\\n')\n",
        "    print(\"Proposed antecedent for '\"+pro+\"':\", tree[pos])"
      ]
    },
    {
      "cell_type": "markdown",
      "metadata": {
        "id": "OArv-MkA_FyE"
      },
      "source": [
        "# Demo on Coreference resolution. Input from textfile (demorefl.txt). Don't forget to download the text file.\n",
        "## Third example. The sample input:\n",
        "## Enter the file: demorefl.txt\n",
        "## Enter the pronoun to resolve: herself"
      ]
    },
    {
      "cell_type": "code",
      "execution_count": 53,
      "metadata": {
        "scrolled": true,
        "colab": {
          "base_uri": "https://localhost:8080/"
        },
        "id": "HmtVmXRm_FyF",
        "outputId": "764f8e7f-fd73-45f0-de43-a1f0f0b0dc68"
      },
      "outputs": [
        {
          "output_type": "stream",
          "name": "stdout",
          "text": [
            "Enter the file: demorefl.txt\n",
            "Enter the pronoun to resolve: herself\n",
            "(1, 1, 1, 1, 1, 0, 0)\n",
            "(S\n",
            "  (NP (NNP John))\n",
            "  (VP\n",
            "    (VBD said)\n",
            "    (SBAR\n",
            "      (-NONE- 0)\n",
            "      (S (NP (NNP Mary)) (VP (VBD likes) (NP (PRP herself))))))) \n",
            "\n",
            "Proposed antecedent for 'herself': (NP (NNP Mary))\n"
          ]
        }
      ],
      "source": [
        "p = [\"He\", \"he\", \"Him\", \"him\", \"She\", \"she\", \"Her\", \"her\", \"It\", \"it\", \"They\", \"they\", \"His\", \"his\"]\n",
        "r = [\"Himself\", \"himself\", \"Herself\", \"herself\", \"Itself\", \"itself\", \"Themselves\", \"themselves\"]\n",
        "fname = input(\"Enter the file: \")\n",
        "pro = input(\"Enter the pronoun to resolve: \")\n",
        "with open(fname) as f:\n",
        "    sents = f.readlines()\n",
        "trees = [Tree.fromstring(s) for s in sents]\n",
        "#print(trees)\n",
        "pos = get_pos(trees[-1], pro)\n",
        "print(pos)\n",
        "pos = pos[:-1]\n",
        "if pro in p:\n",
        "    tree, pos = hobbs(trees, pos)\n",
        "    for t in trees:\n",
        "        print(t, '\\n')\n",
        "    print(\"Proposed antecedent for '\"+pro+\"':\", tree[pos])\n",
        "elif pro in r:\n",
        "    tree, pos = resolve_reflexive(trees, pos)\n",
        "    for t in trees:\n",
        "        print(t, '\\n')\n",
        "    print(\"Proposed antecedent for '\"+pro+\"':\", tree[pos])"
      ]
    },
    {
      "cell_type": "markdown",
      "metadata": {
        "id": "KdjeBuBX_FyF"
      },
      "source": [
        "# Exercises:\n",
        "## Based on the program segment provided to you below, suppose that you are implementing coreference resolution for the following sentences:\n",
        "### Sentence 1: Alice saw a beautiful cupcake in the patisserie window. She showed it to Bob.\n",
        "###             Coreference resolution: She and it.\n",
        "### Sentence 2: Bob opened up a new dealership last week. John took a look at the Ford Falcon in his lot.\n",
        "###            Coreference resolution: his"
      ]
    },
    {
      "cell_type": "code",
      "execution_count": 59,
      "metadata": {
        "colab": {
          "base_uri": "https://localhost:8080/"
        },
        "id": "n9LdyNwh_FyF",
        "outputId": "a2785232-1087-4594-f69b-f771a303d34d"
      },
      "outputs": [
        {
          "output_type": "stream",
          "name": "stdout",
          "text": [
            "Enter the file: Alice.txt\n",
            "Enter the pronoun to resolve: She\n",
            "(0, 0, 0)\n",
            "(S\n",
            "  (NP (NNP Alice))\n",
            "  (VP\n",
            "    (VBD saw)\n",
            "    (NP (DT a) (JJ beautiful) (NN cupcake))\n",
            "    (PP (IN in) (NP (DT the) (NN patisserie) (NN window))))) \n",
            "\n",
            "(S\n",
            "  (NP (PRP She))\n",
            "  (VP (VBD showed) (NP (PRP it)) (PP (IN to) (NP (NNP Bob))))) \n",
            "\n",
            "Proposed antecedent for 'She': (NP (NNP Alice))\n"
          ]
        }
      ],
      "source": [
        "p = [\"He\", \"he\", \"Him\", \"him\", \"She\", \"she\", \"Her\", \"her\", \"It\", \"it\", \"They\", \"they\", \"His\", \"his\"]\n",
        "r = [\"Himself\", \"himself\", \"Herself\", \"herself\", \"Itself\", \"itself\", \"Themselves\", \"themselves\"]\n",
        "fname = input(\"Enter the file: \")\n",
        "pro = input(\"Enter the pronoun to resolve: \")\n",
        "with open(fname) as f:\n",
        "    sents = f.readlines()\n",
        "trees = [Tree.fromstring(s) for s in sents]\n",
        "#print(trees)\n",
        "pos = get_pos(trees[-1], pro)\n",
        "print(pos)\n",
        "if pro in p:\n",
        "    tree, pos = hobbs(trees, pos)\n",
        "    for t in trees:\n",
        "        print(t, '\\n')\n",
        "    print(\"Proposed antecedent for '\"+pro+\"':\", tree[pos])\n",
        "elif pro in r:\n",
        "    tree, pos = resolve_reflexive(trees, pos)\n",
        "    for t in trees:\n",
        "        print(t, '\\n')\n",
        "    print(\"Proposed antecedent for '\"+pro+\"':\", tree[pos])"
      ]
    },
    {
      "cell_type": "markdown",
      "metadata": {
        "id": "e0owr-hq_FyF"
      },
      "source": [
        "### How to get the parse tree representation? \n",
        "#### 1) Parse the sentence using Stanford CoreNLP tool (https://corenlp.run/). Choose Constituency parsing. \n",
        "#### 2) Convert the parse tree (output from the parsing process) into a list as shown in filename demosents.txt or demorefl.txt. \n",
        "#### 3) Save the file.\n",
        "#### 4) Submit the new txt file you created and this Python program into ULearn.\n"
      ]
    },
    {
      "cell_type": "code",
      "execution_count": 60,
      "metadata": {
        "colab": {
          "base_uri": "https://localhost:8080/"
        },
        "id": "qNJLNoSv_FyF",
        "outputId": "2cb8b2f5-cbcb-4141-cb9b-98fa951de880"
      },
      "outputs": [
        {
          "output_type": "stream",
          "name": "stdout",
          "text": [
            "Enter the file: Alice.txt\n",
            "Enter the pronoun to resolve: it\n",
            "(1, 1, 0, 0)\n",
            "(S\n",
            "  (NP (NNP Alice))\n",
            "  (VP\n",
            "    (VBD saw)\n",
            "    (NP (DT a) (JJ beautiful) (NN cupcake))\n",
            "    (PP (IN in) (NP (DT the) (NN patisserie) (NN window))))) \n",
            "\n",
            "(S\n",
            "  (NP (PRP She))\n",
            "  (VP (VBD showed) (NP (PRP it)) (PP (IN to) (NP (NNP Bob))))) \n",
            "\n",
            "Proposed antecedent for 'it': (NP (DT a) (JJ beautiful) (NN cupcake))\n"
          ]
        }
      ],
      "source": [
        "p = [\"He\", \"he\", \"Him\", \"him\", \"She\", \"she\", \"Her\", \"her\", \"It\", \"it\", \"They\", \"they\", \"His\", \"his\"]\n",
        "r = [\"Himself\", \"himself\", \"Herself\", \"herself\", \"Itself\", \"itself\", \"Themselves\", \"themselves\"]\n",
        "fname = input(\"Enter the file: \")\n",
        "pro = input(\"Enter the pronoun to resolve: \")\n",
        "with open(fname) as f:\n",
        "    sents = f.readlines()\n",
        "trees = [Tree.fromstring(s) for s in sents]\n",
        "#print(trees)\n",
        "pos = get_pos(trees[-1], pro)\n",
        "print(pos)\n",
        "if pro in p:\n",
        "    tree, pos = hobbs(trees, pos)\n",
        "    for t in trees:\n",
        "        print(t, '\\n')\n",
        "    print(\"Proposed antecedent for '\"+pro+\"':\", tree[pos])\n",
        "elif pro in r:\n",
        "    tree, pos = resolve_reflexive(trees, pos)\n",
        "    for t in trees:\n",
        "        print(t, '\\n')\n",
        "    print(\"Proposed antecedent for '\"+pro+\"':\", tree[pos])"
      ]
    },
    {
      "cell_type": "code",
      "execution_count": 61,
      "metadata": {
        "colab": {
          "base_uri": "https://localhost:8080/"
        },
        "id": "rBD53-K8_FyF",
        "outputId": "2daff55e-19c2-41c3-9bef-b50ae589f9de"
      },
      "outputs": [
        {
          "output_type": "stream",
          "name": "stdout",
          "text": [
            "Enter the file: Bob.txt\n",
            "Enter the pronoun to resolve: his\n",
            "(1, 3, 1, 0, 0)\n",
            "(S\n",
            "  (NP (NNP Bob))\n",
            "  (VP\n",
            "    (VBD opened)\n",
            "    (PRT (RP up))\n",
            "    (NP (DT a) (JJ new) (NN dealership))\n",
            "    (NP-TMP (JJ last) (NN week)))) \n",
            "\n",
            "(S\n",
            "  (NP (NNP John))\n",
            "  (VP\n",
            "    (VBD took)\n",
            "    (NP (DT a) (NN look))\n",
            "    (PP (IN at) (NP (DT the) (NNP Ford) (NNP Falcon)))\n",
            "    (PP (IN in) (NP (PRP$ his) (NN lot))))) \n",
            "\n",
            "Proposed antecedent for 'his': (NP (NNP John))\n"
          ]
        }
      ],
      "source": [
        "p = [\"He\", \"he\", \"Him\", \"him\", \"She\", \"she\", \"Her\", \"her\", \"It\", \"it\", \"They\", \"they\", \"His\", \"his\"]\n",
        "r = [\"Himself\", \"himself\", \"Herself\", \"herself\", \"Itself\", \"itself\", \"Themselves\", \"themselves\"]\n",
        "fname = input(\"Enter the file: \")\n",
        "pro = input(\"Enter the pronoun to resolve: \")\n",
        "with open(fname) as f:\n",
        "    sents = f.readlines()\n",
        "trees = [Tree.fromstring(s) for s in sents]\n",
        "#print(trees)\n",
        "pos = get_pos(trees[-1], pro)\n",
        "print(pos)\n",
        "if pro in p:\n",
        "    tree, pos = hobbs(trees, pos)\n",
        "    for t in trees:\n",
        "        print(t, '\\n')\n",
        "    print(\"Proposed antecedent for '\"+pro+\"':\", tree[pos])\n",
        "elif pro in r:\n",
        "    tree, pos = resolve_reflexive(trees, pos)\n",
        "    for t in trees:\n",
        "        print(t, '\\n')\n",
        "    print(\"Proposed antecedent for '\"+pro+\"':\", tree[pos])"
      ]
    }
  ],
  "metadata": {
    "kernelspec": {
      "display_name": "Python 3",
      "language": "python",
      "name": "python3"
    },
    "language_info": {
      "codemirror_mode": {
        "name": "ipython",
        "version": 3
      },
      "file_extension": ".py",
      "mimetype": "text/x-python",
      "name": "python",
      "nbconvert_exporter": "python",
      "pygments_lexer": "ipython3",
      "version": "3.6.5"
    },
    "colab": {
      "name": "Lab 11 Task03-HobbAlgorithm.ipynb",
      "provenance": [],
      "collapsed_sections": [],
      "include_colab_link": true
    }
  },
  "nbformat": 4,
  "nbformat_minor": 0
}