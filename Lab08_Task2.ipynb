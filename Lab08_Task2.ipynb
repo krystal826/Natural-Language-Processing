{
  "nbformat": 4,
  "nbformat_minor": 0,
  "metadata": {
    "kernelspec": {
      "display_name": "Python 3",
      "language": "python",
      "name": "python3"
    },
    "language_info": {
      "codemirror_mode": {
        "name": "ipython",
        "version": 3
      },
      "file_extension": ".py",
      "mimetype": "text/x-python",
      "name": "python",
      "nbconvert_exporter": "python",
      "pygments_lexer": "ipython3",
      "version": "3.6.5"
    },
    "colab": {
      "name": "Lab08-Task2.ipynb",
      "provenance": [],
      "collapsed_sections": [],
      "include_colab_link": true
    }
  },
  "cells": [
    {
      "cell_type": "markdown",
      "metadata": {
        "id": "view-in-github",
        "colab_type": "text"
      },
      "source": [
        "<a href=\"https://colab.research.google.com/github/krystal826/Natural-Language-Processing/blob/main/Lab08_Task2.ipynb\" target=\"_parent\"><img src=\"https://colab.research.google.com/assets/colab-badge.svg\" alt=\"Open In Colab\"/></a>"
      ]
    },
    {
      "cell_type": "code",
      "metadata": {
        "id": "J-ABtMqv2-7f"
      },
      "source": [
        "import nltk\n",
        "from nltk import CFG\n",
        "from nltk.parse.generate import generate"
      ],
      "execution_count": 1,
      "outputs": []
    },
    {
      "cell_type": "markdown",
      "metadata": {
        "id": "l4qiPPGQ2-7g"
      },
      "source": [
        "Given a CFG grammar below:"
      ]
    },
    {
      "cell_type": "code",
      "metadata": {
        "id": "9VLMmiPk2-7i"
      },
      "source": [
        "# Create some Grammar Productions\n",
        "grammar = CFG.fromstring(\n",
        "\"\"\"\n",
        "      S -> NP VP\n",
        "      NP -> Det N\n",
        "      VP -> V NP \n",
        "      Det -> 'a'\n",
        "      N -> 'dog'\n",
        "      N -> 'cat'\n",
        "      V -> 'chased'\n",
        "\"\"\"\n",
        ")"
      ],
      "execution_count": 2,
      "outputs": []
    },
    {
      "cell_type": "markdown",
      "metadata": {
        "id": "7qOSo0Ae2-7i"
      },
      "source": [
        "Derive all possible sentences from this grammar."
      ]
    },
    {
      "cell_type": "code",
      "metadata": {
        "colab": {
          "base_uri": "https://localhost:8080/"
        },
        "id": "yODLJgtO2-7i",
        "outputId": "2b119ba0-7b06-4ecb-a6a8-dd043eed35b1"
      },
      "source": [
        "for n, sent in enumerate(generate(grammar), 1):\n",
        "    print(\"%3d. %s\" % (n, \" \".join(sent)))"
      ],
      "execution_count": 3,
      "outputs": [
        {
          "output_type": "stream",
          "name": "stdout",
          "text": [
            "  1. a dog chased a dog\n",
            "  2. a dog chased a cat\n",
            "  3. a cat chased a dog\n",
            "  4. a cat chased a cat\n"
          ]
        }
      ]
    },
    {
      "cell_type": "markdown",
      "metadata": {
        "id": "NOR3k7Or2-7j"
      },
      "source": [
        "Build a parse tree for \"a dog chased a cat\"."
      ]
    },
    {
      "cell_type": "code",
      "metadata": {
        "colab": {
          "base_uri": "https://localhost:8080/"
        },
        "id": "kzv6_4pr2-7j",
        "outputId": "97e47210-4dc9-45d4-8573-c349155e6256"
      },
      "source": [
        "sentence = ['a', 'dog', 'chased', 'a', 'cat']\n",
        "parser = nltk.ChartParser(grammar)\n",
        "for tree in parser.parse(sentence):\n",
        "    print(tree)"
      ],
      "execution_count": 4,
      "outputs": [
        {
          "output_type": "stream",
          "name": "stdout",
          "text": [
            "(S (NP (Det a) (N dog)) (VP (V chased) (NP (Det a) (N cat))))\n"
          ]
        }
      ]
    },
    {
      "cell_type": "code",
      "metadata": {
        "colab": {
          "base_uri": "https://localhost:8080/"
        },
        "id": "4Tue30TT3bU1",
        "outputId": "bd38540f-4373-4d8a-af7d-6860f38b2b60"
      },
      "source": [
        "tree.pretty_print()"
      ],
      "execution_count": 5,
      "outputs": [
        {
          "output_type": "stream",
          "name": "stdout",
          "text": [
            "              S               \n",
            "      ________|_____           \n",
            "     |              VP        \n",
            "     |         _____|___       \n",
            "     NP       |         NP    \n",
            "  ___|___     |      ___|___   \n",
            "Det      N    V    Det      N \n",
            " |       |    |     |       |  \n",
            " a      dog chased  a      cat\n",
            "\n"
          ]
        }
      ]
    },
    {
      "cell_type": "markdown",
      "metadata": {
        "id": "RDxk8ohw2-7k"
      },
      "source": [
        "Q1. Modify the grammar to accept the sentence \"the dog chased the cat\"."
      ]
    },
    {
      "cell_type": "code",
      "metadata": {
        "id": "AW__sMq22-7k"
      },
      "source": [
        "grammar = CFG.fromstring(\n",
        "\"\"\"\n",
        "      S -> NP VP\n",
        "      NP -> Det N\n",
        "      VP -> V NP \n",
        "      Det -> 'a'\n",
        "      Det -> 'the'\n",
        "      N -> 'dog'\n",
        "      N -> 'cat'\n",
        "      V -> 'chased'\n",
        "\"\"\"\n",
        ")"
      ],
      "execution_count": 6,
      "outputs": []
    },
    {
      "cell_type": "markdown",
      "metadata": {
        "id": "waFuUaG72-7k"
      },
      "source": [
        "Q2. Derive all possible sentences from this modified grammar. How many sentences are derived?\n",
        "\n",
        "Ans: 16 sentences are derived.\n"
      ]
    },
    {
      "cell_type": "code",
      "metadata": {
        "colab": {
          "base_uri": "https://localhost:8080/"
        },
        "id": "a23MUZoI2-7k",
        "outputId": "118edf88-fe53-46b0-a610-46bec4822b3a"
      },
      "source": [
        "for n, sent in enumerate(generate(grammar), 1):\n",
        "    print(\"%3d. %s\" % (n, \" \".join(sent)))"
      ],
      "execution_count": 7,
      "outputs": [
        {
          "output_type": "stream",
          "name": "stdout",
          "text": [
            "  1. a dog chased a dog\n",
            "  2. a dog chased a cat\n",
            "  3. a dog chased the dog\n",
            "  4. a dog chased the cat\n",
            "  5. a cat chased a dog\n",
            "  6. a cat chased a cat\n",
            "  7. a cat chased the dog\n",
            "  8. a cat chased the cat\n",
            "  9. the dog chased a dog\n",
            " 10. the dog chased a cat\n",
            " 11. the dog chased the dog\n",
            " 12. the dog chased the cat\n",
            " 13. the cat chased a dog\n",
            " 14. the cat chased a cat\n",
            " 15. the cat chased the dog\n",
            " 16. the cat chased the cat\n"
          ]
        }
      ]
    },
    {
      "cell_type": "markdown",
      "metadata": {
        "id": "Yz6FcvOo2-7k"
      },
      "source": [
        "Q3. Display the parse tree for the sentence \"the dog chased the cat\" in a graphical tree form."
      ]
    },
    {
      "cell_type": "code",
      "metadata": {
        "colab": {
          "base_uri": "https://localhost:8080/"
        },
        "id": "9TlLiDYD2-7l",
        "outputId": "5519f5fe-6506-47cf-a3ac-9e1b6022b9a7"
      },
      "source": [
        "sentence1 = ['the', 'dog', 'chased', 'the', 'cat']\n",
        "parser = nltk.ChartParser(grammar)\n",
        "for tree in parser.parse(sentence1):\n",
        "    print(tree)"
      ],
      "execution_count": 8,
      "outputs": [
        {
          "output_type": "stream",
          "name": "stdout",
          "text": [
            "(S (NP (Det the) (N dog)) (VP (V chased) (NP (Det the) (N cat))))\n"
          ]
        }
      ]
    },
    {
      "cell_type": "code",
      "metadata": {
        "colab": {
          "base_uri": "https://localhost:8080/"
        },
        "id": "7PvIZUtT2-7l",
        "outputId": "aba0c47e-32c7-4dbc-f8fa-e7f82e4b1202"
      },
      "source": [
        "tree.pretty_print()"
      ],
      "execution_count": 9,
      "outputs": [
        {
          "output_type": "stream",
          "name": "stdout",
          "text": [
            "              S               \n",
            "      ________|_____           \n",
            "     |              VP        \n",
            "     |         _____|___       \n",
            "     NP       |         NP    \n",
            "  ___|___     |      ___|___   \n",
            "Det      N    V    Det      N \n",
            " |       |    |     |       |  \n",
            "the     dog chased the     cat\n",
            "\n"
          ]
        }
      ]
    },
    {
      "cell_type": "markdown",
      "metadata": {
        "id": "8fdZLpHV2-7l"
      },
      "source": [
        "Q4. Modify the grammar to accept the sentence \"the dog chased the cat at the park\". Refer to the below parse tree. Edit the CFG so that the grammar will derive the sentence."
      ]
    },
    {
      "cell_type": "markdown",
      "metadata": {
        "id": "m1nvY7aC2-7l"
      },
      "source": [
        "![image.png](attachment:image.png)"
      ]
    },
    {
      "cell_type": "code",
      "metadata": {
        "id": "qAm6N34A2-7l"
      },
      "source": [
        "grammar = CFG.fromstring(\n",
        "\"\"\"\n",
        "      S -> NP VP\n",
        "      NP -> Det N \n",
        "      VP -> V NP \n",
        "      VP -> VP PP\n",
        "      PP -> P NP\n",
        "      P -> 'at'\n",
        "      Det -> 'a'\n",
        "      Det -> 'the'\n",
        "      N -> 'park'\n",
        "      N -> 'dog'\n",
        "      N -> 'cat'\n",
        "      V -> 'chased'\n",
        "\"\"\"\n",
        ")"
      ],
      "execution_count": 31,
      "outputs": []
    },
    {
      "cell_type": "code",
      "metadata": {
        "colab": {
          "base_uri": "https://localhost:8080/"
        },
        "id": "jdeypNM72-7l",
        "outputId": "eca58df7-92ac-47db-cac8-dbb4018efcec"
      },
      "source": [
        "sentence2 = ['the', 'dog', 'chased', 'the', 'cat','at','the','park']\n",
        "parser = nltk.ChartParser(grammar)\n",
        "for tree in parser.parse(sentence2):\n",
        "    print(tree)"
      ],
      "execution_count": 32,
      "outputs": [
        {
          "output_type": "stream",
          "name": "stdout",
          "text": [
            "(S\n",
            "  (NP (Det the) (N dog))\n",
            "  (VP\n",
            "    (VP (V chased) (NP (Det the) (N cat)))\n",
            "    (PP (P at) (NP (Det the) (N park)))))\n"
          ]
        }
      ]
    },
    {
      "cell_type": "code",
      "metadata": {
        "colab": {
          "base_uri": "https://localhost:8080/"
        },
        "id": "JjplJ8cq2-7m",
        "outputId": "b4c386f8-8120-471f-d196-04ecb58e50d5"
      },
      "source": [
        "tree.pretty_print()"
      ],
      "execution_count": 33,
      "outputs": [
        {
          "output_type": "stream",
          "name": "stdout",
          "text": [
            "                    S                          \n",
            "      ______________|_______                    \n",
            "     |                      VP                 \n",
            "     |               _______|_______            \n",
            "     |              VP              PP         \n",
            "     |         _____|___         ___|___        \n",
            "     NP       |         NP      |       NP     \n",
            "  ___|___     |      ___|___    |    ___|___    \n",
            "Det      N    V    Det      N   P  Det      N  \n",
            " |       |    |     |       |   |   |       |   \n",
            "the     dog chased the     cat  at the     park\n",
            "\n"
          ]
        }
      ]
    }
  ]
}