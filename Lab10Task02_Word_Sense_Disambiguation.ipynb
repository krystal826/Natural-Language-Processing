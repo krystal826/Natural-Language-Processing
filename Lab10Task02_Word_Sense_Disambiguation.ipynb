{
  "cells": [
    {
      "cell_type": "markdown",
      "metadata": {
        "id": "view-in-github",
        "colab_type": "text"
      },
      "source": [
        "<a href=\"https://colab.research.google.com/github/krystal826/Natural-Language-Processing/blob/main/Lab10Task02_Word_Sense_Disambiguation.ipynb\" target=\"_parent\"><img src=\"https://colab.research.google.com/assets/colab-badge.svg\" alt=\"Open In Colab\"/></a>"
      ]
    },
    {
      "cell_type": "markdown",
      "metadata": {
        "id": "tMPeNrxH4BK1"
      },
      "source": [
        "# Exploring Word Sense Disambiguation\n",
        "# Given a sentence that has a word with multiple meaning, the following program is to provide the appropriate mean for the word. "
      ]
    },
    {
      "cell_type": "code",
      "execution_count": 41,
      "metadata": {
        "colab": {
          "base_uri": "https://localhost:8080/"
        },
        "id": "8lvPQi9V4BK5",
        "outputId": "3f6bca7d-79cc-453d-a2d0-8287590a2166"
      },
      "outputs": [
        {
          "output_type": "stream",
          "name": "stdout",
          "text": [
            "[nltk_data] Downloading package stopwords to /root/nltk_data...\n",
            "[nltk_data]   Package stopwords is already up-to-date!\n",
            "[nltk_data] Downloading package punkt to /root/nltk_data...\n",
            "[nltk_data]   Package punkt is already up-to-date!\n",
            "[nltk_data] Downloading package wordnet to /root/nltk_data...\n",
            "[nltk_data]   Package wordnet is already up-to-date!\n"
          ]
        }
      ],
      "source": [
        "import nltk\n",
        "import codecs\n",
        "nltk.download('stopwords')\n",
        "nltk.download('punkt')\n",
        "nltk.download('wordnet')\n",
        "from nltk.tokenize import PunktSentenceTokenizer\n",
        "from nltk.tokenize import sent_tokenize, word_tokenize\n",
        "from nltk.corpus import stopwords\n",
        "from nltk.stem import WordNetLemmatizer, PorterStemmer\n",
        "from nltk.corpus import wordnet"
      ]
    },
    {
      "cell_type": "code",
      "execution_count": 42,
      "metadata": {
        "id": "I19ceHbm4BK6"
      },
      "outputs": [],
      "source": [
        "# Remove Stop Words . Word Stemming . Return new tokenised list.\n",
        "def filteredSentence(sentence):\n",
        "\n",
        "    filtered_sent = []\n",
        "    lemmatizer = WordNetLemmatizer()  # lemmatizes the words\n",
        "    ps = PorterStemmer()  # stemmer stems the root of the word.\n",
        "\n",
        "    stop_words = set(stopwords.words(\"english\"))\n",
        "    words = word_tokenize(sentence)\n",
        "\n",
        "    for w in words:\n",
        "        if w not in stop_words:\n",
        "            filtered_sent.append(lemmatizer.lemmatize(ps.stem(w)))\n",
        "            for i in synonymsCreator(w):\n",
        "                filtered_sent.append(i)\n",
        "    return filtered_sent"
      ]
    },
    {
      "cell_type": "code",
      "execution_count": 43,
      "metadata": {
        "id": "8gpXgVvo4BK7"
      },
      "outputs": [],
      "source": [
        "# Add synonyms to match list\n",
        "\n",
        "def synonymsCreator(word):\n",
        "    synonyms = []\n",
        "\n",
        "    for syn in wordnet.synsets(word):\n",
        "        for i in syn.lemmas():\n",
        "            synonyms.append(i.name())\n",
        "\n",
        "    return synonyms"
      ]
    },
    {
      "cell_type": "code",
      "execution_count": 44,
      "metadata": {
        "id": "CvL7f1OF4BK7"
      },
      "outputs": [],
      "source": [
        "# Check and return similarity\n",
        "\n",
        "def simlilarityCheck(word1, word2):\n",
        "\n",
        "    word1 = word1 + \".n.01\"\n",
        "    word2 = word2 + \".n.01\"\n",
        "    try:\n",
        "        w1 = wordnet.synset(word1)\n",
        "        w2 = wordnet.synset(word2)\n",
        "        \n",
        "        return w1.wup_similarity(w2)\n",
        "\n",
        "    except:\n",
        "        return 0\n"
      ]
    },
    {
      "cell_type": "code",
      "execution_count": 45,
      "metadata": {
        "id": "yHlSWCs-4BK8"
      },
      "outputs": [],
      "source": [
        "def simpleFilter(sentence):\n",
        "\n",
        "    filtered_sent = []\n",
        "    lemmatizer = WordNetLemmatizer()\n",
        "    stop_words = set(stopwords.words(\"english\"))\n",
        "    words = word_tokenize(sentence)\n",
        "\n",
        "    for w in words:\n",
        "        if w not in stop_words:\n",
        "            filtered_sent.append(lemmatizer.lemmatize(w))\n",
        "    return filtered_sent"
      ]
    },
    {
      "cell_type": "code",
      "execution_count": 46,
      "metadata": {
        "colab": {
          "base_uri": "https://localhost:8080/"
        },
        "id": "LgRhE4ZC4BK9",
        "outputId": "8e6ea074-97d8-456e-e095-712a86cf35d7"
      },
      "outputs": [
        {
          "output_type": "stream",
          "name": "stdout",
          "text": [
            "Sentence: the fisherman jumped off the bank and into the water\n",
            "The right meaning for ['fisherman', 'jumped', 'bank', 'water']\n",
            "Sloping land\n"
          ]
        }
      ],
      "source": [
        "sentence1 = '''the commercial banks are used for finance. all the financial matters are \n",
        "    managed by financial banks and they have lots of money, user accounts like salary \n",
        "    account and savings account, current account. money can also be withdrawn from this bank.'''\n",
        "sentence2 = '''the river bank has water in it and it has fishes trees . lots of water is \n",
        "    stored in the banks. boats float in it and animals come and drink water from it.'''\n",
        "\n",
        "sentence3 = \"the fisherman jumped off the bank and into the water\"\n",
        "    \n",
        "print('Sentence:', sentence3)\n",
        "\n",
        "filtered_sent1 = []\n",
        "filtered_sent2 = []\n",
        "filtered_sent3 = []\n",
        "\n",
        "counter1 = 0\n",
        "counter2 = 0\n",
        "sent31_similarity = 0\n",
        "sent32_similarity = 0\n",
        "\n",
        "filtered_sent1 = simpleFilter(sentence1)\n",
        "filtered_sent2 = simpleFilter(sentence2)\n",
        "filtered_sent3 = simpleFilter(sentence3)\n",
        "print(\"The right meaning for\", filtered_sent3)\n",
        "\n",
        "for i in filtered_sent3:\n",
        "\n",
        "    for j in filtered_sent1:\n",
        "        counter1 = counter1 + 1\n",
        "        sent31_similarity = sent31_similarity + simlilarityCheck(i, j)\n",
        "\n",
        "    for j in filtered_sent2:\n",
        "        counter2 = counter2 + 1\n",
        "        sent32_similarity = sent32_similarity + simlilarityCheck(i, j)\n",
        "\n",
        "filtered_sent1 = []\n",
        "filtered_sent2 = []\n",
        "filtered_sent3 = []\n",
        "\n",
        "filtered_sent1 = filteredSentence(sentence1)\n",
        "filtered_sent2 = filteredSentence(sentence2)\n",
        "filtered_sent3 = filteredSentence(sentence3)\n",
        "\n",
        "sent1_count = 0\n",
        "sent2_count = 0\n",
        "\n",
        "for i in filtered_sent3:\n",
        "    for j in filtered_sent1:\n",
        "        if(i == j):\n",
        "            sent1_count = sent1_count + 1\n",
        "\n",
        "    for j in filtered_sent2:\n",
        "        if(i == j):\n",
        "            sent2_count = sent2_count + 1\n",
        "\n",
        "\n",
        "if((sent1_count + sent31_similarity) > (sent2_count+sent32_similarity)):\n",
        "    print(\"Financial Institution\")\n",
        "else:\n",
        "    print(\"Sloping land\")"
      ]
    },
    {
      "cell_type": "markdown",
      "metadata": {
        "id": "9Dr9n7Sm4BK-"
      },
      "source": [
        "# Try another sentence: Replace sentence3 to \"from which bank should i withdraw money\""
      ]
    },
    {
      "cell_type": "code",
      "execution_count": 48,
      "metadata": {
        "colab": {
          "base_uri": "https://localhost:8080/"
        },
        "id": "vP48x0zJ4BK_",
        "outputId": "7e7f6679-69f7-44de-dae0-7fd4b32ffec4"
      },
      "outputs": [
        {
          "output_type": "stream",
          "name": "stdout",
          "text": [
            "Sentence: from which bank should i withdraw money\n",
            "The right meaning for ['bank', 'withdraw', 'money']\n",
            "Financial Institution\n"
          ]
        }
      ],
      "source": [
        "sentence1 = '''the commercial banks are used for finance. all the financial matters are \n",
        "    managed by financial banks and they have lots of money, user accounts like salary \n",
        "    account and savings account, current account. money can also be withdrawn from this bank.'''\n",
        "sentence2 = '''the river bank has water in it and it has fishes trees . lots of water is \n",
        "    stored in the banks. boats float in it and animals come and drink water from it.'''\n",
        "\n",
        "sentence3 = \"from which bank should i withdraw money\"\n",
        "    \n",
        "print('Sentence:', sentence3)\n",
        "\n",
        "filtered_sent1 = []\n",
        "filtered_sent2 = []\n",
        "filtered_sent3 = []\n",
        "\n",
        "counter1 = 0\n",
        "counter2 = 0\n",
        "sent31_similarity = 0\n",
        "sent32_similarity = 0\n",
        "\n",
        "filtered_sent1 = simpleFilter(sentence1)\n",
        "filtered_sent2 = simpleFilter(sentence2)\n",
        "filtered_sent3 = simpleFilter(sentence3)\n",
        "print(\"The right meaning for\", filtered_sent3)\n",
        "\n",
        "for i in filtered_sent3:\n",
        "\n",
        "    for j in filtered_sent1:\n",
        "        counter1 = counter1 + 1\n",
        "        sent31_similarity = sent31_similarity + simlilarityCheck(i, j)\n",
        "\n",
        "    for j in filtered_sent2:\n",
        "        counter2 = counter2 + 1\n",
        "        sent32_similarity = sent32_similarity + simlilarityCheck(i, j)\n",
        "\n",
        "filtered_sent1 = []\n",
        "filtered_sent2 = []\n",
        "filtered_sent3 = []\n",
        "\n",
        "filtered_sent1 = filteredSentence(sentence1)\n",
        "filtered_sent2 = filteredSentence(sentence2)\n",
        "filtered_sent3 = filteredSentence(sentence3)\n",
        "\n",
        "sent1_count = 0\n",
        "sent2_count = 0\n",
        "\n",
        "for i in filtered_sent3:\n",
        "    for j in filtered_sent1:\n",
        "        if(i == j):\n",
        "            sent1_count = sent1_count + 1\n",
        "\n",
        "    for j in filtered_sent2:\n",
        "        if(i == j):\n",
        "            sent2_count = sent2_count + 1\n",
        "\n",
        "\n",
        "if((sent1_count + sent31_similarity) > (sent2_count+sent32_similarity)):\n",
        "    print(\"Financial Institution\")\n",
        "else:\n",
        "    print(\"Sloping land\")"
      ]
    },
    {
      "cell_type": "markdown",
      "metadata": {
        "id": "-Dq6CVn04BK_"
      },
      "source": [
        "# Modify the above program to disambiguate the following sentences:\n",
        "\n",
        "# 1. Bats that can see.\n",
        "# 2. A bat used to play cricket."
      ]
    },
    {
      "cell_type": "markdown",
      "metadata": {
        "id": "AOyb4Wm54BLA"
      },
      "source": [
        "# Textual data that are used to disambiguate the above sentences are from the file cricketbat.txt and vampirebat.txt\"\n",
        "# Download the txt files from ULearn\n",
        "# Use the following Python code to read the text files."
      ]
    },
    {
      "cell_type": "code",
      "execution_count": 47,
      "metadata": {
        "id": "E-LOwxFb4BLA"
      },
      "outputs": [],
      "source": [
        "cricfile = codecs.open(\"cricketbat.txt\", 'r', \"utf-8\")\n",
        "sentence2 = cricfile.read().lower()\n",
        "vampirefile = codecs.open(\"vampirebat.txt\", 'r', 'utf-8')\n",
        "sentence1 = vampirefile.read().lower()"
      ]
    },
    {
      "cell_type": "markdown",
      "metadata": {
        "id": "dvhyF8Zf4BLB"
      },
      "source": [
        "# Modify the checking as follows\n",
        "if((sent1_count + sent31_similarity) > (sent2_count+sent32_similarity)):\n",
        "\n",
        "    print(\"Mammal bat\")\n",
        "\n",
        "else:\n",
        "\n",
        "    print(\"Cricket\")"
      ]
    },
    {
      "cell_type": "code",
      "execution_count": 47,
      "metadata": {
        "id": "FCpWhuLw4BLB"
      },
      "outputs": [],
      "source": [
        ""
      ]
    }
  ],
  "metadata": {
    "kernelspec": {
      "display_name": "Python 3",
      "language": "python",
      "name": "python3"
    },
    "language_info": {
      "codemirror_mode": {
        "name": "ipython",
        "version": 3
      },
      "file_extension": ".py",
      "mimetype": "text/x-python",
      "name": "python",
      "nbconvert_exporter": "python",
      "pygments_lexer": "ipython3",
      "version": "3.7.4"
    },
    "colab": {
      "name": "Lab10Task02-Word Sense Disambiguation.ipynb",
      "provenance": [],
      "collapsed_sections": [],
      "include_colab_link": true
    }
  },
  "nbformat": 4,
  "nbformat_minor": 0
}