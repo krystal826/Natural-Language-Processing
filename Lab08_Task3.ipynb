{
  "nbformat": 4,
  "nbformat_minor": 0,
  "metadata": {
    "colab": {
      "name": "Lab08-Task3.ipynb",
      "provenance": [],
      "collapsed_sections": [],
      "authorship_tag": "ABX9TyOkUMLdg5M9K4hS1HSMLZcI",
      "include_colab_link": true
    },
    "kernelspec": {
      "name": "python3",
      "display_name": "Python 3"
    },
    "language_info": {
      "name": "python"
    }
  },
  "cells": [
    {
      "cell_type": "markdown",
      "metadata": {
        "id": "view-in-github",
        "colab_type": "text"
      },
      "source": [
        "<a href=\"https://colab.research.google.com/github/krystal826/Natural-Language-Processing/blob/main/Lab08_Task3.ipynb\" target=\"_parent\"><img src=\"https://colab.research.google.com/assets/colab-badge.svg\" alt=\"Open In Colab\"/></a>"
      ]
    },
    {
      "cell_type": "markdown",
      "metadata": {
        "id": "Mp0aKbIvD2iw"
      },
      "source": [
        "# Task 3: Creating You Own CFG"
      ]
    },
    {
      "cell_type": "code",
      "metadata": {
        "id": "m-JIHzun_K6O"
      },
      "source": [
        "import nltk\n",
        "from nltk import CFG\n",
        "from nltk.parse.generate import generate"
      ],
      "execution_count": 25,
      "outputs": []
    },
    {
      "cell_type": "code",
      "metadata": {
        "id": "qil7RmtiEWsM"
      },
      "source": [
        "# Create some Grammar Productions\n",
        "grammar = CFG.fromstring(\n",
        "\"\"\"\n",
        "      S -> NP VP\n",
        "      S -> VP\n",
        "      S -> Aux VP\n",
        "      S -> WH-NP Aux NP \n",
        "      NP -> Det N\n",
        "      NP -> Poss N\n",
        "      VP -> V NP\n",
        "      VP -> V Adj\n",
        "      VP -> Pronoun V\n",
        "      Adj -> 'quiet'\n",
        "      Aux -> 'are'|'is'\n",
        "      Det -> 'a'\n",
        "      N -> 'dog'|'cat'|'name'\n",
        "      Poss -> 'your'\n",
        "      Pronoun -> 'you'\n",
        "      V -> 'chased'|'keep'|'hungry'\n",
        "      WH-NP -> 'what'\n",
        "\"\"\"\n",
        ")"
      ],
      "execution_count": 26,
      "outputs": []
    },
    {
      "cell_type": "code",
      "metadata": {
        "colab": {
          "base_uri": "https://localhost:8080/"
        },
        "id": "UqCPGwZ7ExOz",
        "outputId": "baba6779-6141-4f78-e121-5424be10af93"
      },
      "source": [
        "for n, sent in enumerate(generate(grammar), 1):\n",
        "    print(\"%3d. %s\" % (n, \" \".join(sent)))"
      ],
      "execution_count": 27,
      "outputs": [
        {
          "output_type": "stream",
          "name": "stdout",
          "text": [
            "  1. a dog chased a dog\n",
            "  2. a dog chased a cat\n",
            "  3. a dog chased a name\n",
            "  4. a dog chased your dog\n",
            "  5. a dog chased your cat\n",
            "  6. a dog chased your name\n",
            "  7. a dog keep a dog\n",
            "  8. a dog keep a cat\n",
            "  9. a dog keep a name\n",
            " 10. a dog keep your dog\n",
            " 11. a dog keep your cat\n",
            " 12. a dog keep your name\n",
            " 13. a dog hungry a dog\n",
            " 14. a dog hungry a cat\n",
            " 15. a dog hungry a name\n",
            " 16. a dog hungry your dog\n",
            " 17. a dog hungry your cat\n",
            " 18. a dog hungry your name\n",
            " 19. a dog chased quiet\n",
            " 20. a dog keep quiet\n",
            " 21. a dog hungry quiet\n",
            " 22. a dog you chased\n",
            " 23. a dog you keep\n",
            " 24. a dog you hungry\n",
            " 25. a cat chased a dog\n",
            " 26. a cat chased a cat\n",
            " 27. a cat chased a name\n",
            " 28. a cat chased your dog\n",
            " 29. a cat chased your cat\n",
            " 30. a cat chased your name\n",
            " 31. a cat keep a dog\n",
            " 32. a cat keep a cat\n",
            " 33. a cat keep a name\n",
            " 34. a cat keep your dog\n",
            " 35. a cat keep your cat\n",
            " 36. a cat keep your name\n",
            " 37. a cat hungry a dog\n",
            " 38. a cat hungry a cat\n",
            " 39. a cat hungry a name\n",
            " 40. a cat hungry your dog\n",
            " 41. a cat hungry your cat\n",
            " 42. a cat hungry your name\n",
            " 43. a cat chased quiet\n",
            " 44. a cat keep quiet\n",
            " 45. a cat hungry quiet\n",
            " 46. a cat you chased\n",
            " 47. a cat you keep\n",
            " 48. a cat you hungry\n",
            " 49. a name chased a dog\n",
            " 50. a name chased a cat\n",
            " 51. a name chased a name\n",
            " 52. a name chased your dog\n",
            " 53. a name chased your cat\n",
            " 54. a name chased your name\n",
            " 55. a name keep a dog\n",
            " 56. a name keep a cat\n",
            " 57. a name keep a name\n",
            " 58. a name keep your dog\n",
            " 59. a name keep your cat\n",
            " 60. a name keep your name\n",
            " 61. a name hungry a dog\n",
            " 62. a name hungry a cat\n",
            " 63. a name hungry a name\n",
            " 64. a name hungry your dog\n",
            " 65. a name hungry your cat\n",
            " 66. a name hungry your name\n",
            " 67. a name chased quiet\n",
            " 68. a name keep quiet\n",
            " 69. a name hungry quiet\n",
            " 70. a name you chased\n",
            " 71. a name you keep\n",
            " 72. a name you hungry\n",
            " 73. your dog chased a dog\n",
            " 74. your dog chased a cat\n",
            " 75. your dog chased a name\n",
            " 76. your dog chased your dog\n",
            " 77. your dog chased your cat\n",
            " 78. your dog chased your name\n",
            " 79. your dog keep a dog\n",
            " 80. your dog keep a cat\n",
            " 81. your dog keep a name\n",
            " 82. your dog keep your dog\n",
            " 83. your dog keep your cat\n",
            " 84. your dog keep your name\n",
            " 85. your dog hungry a dog\n",
            " 86. your dog hungry a cat\n",
            " 87. your dog hungry a name\n",
            " 88. your dog hungry your dog\n",
            " 89. your dog hungry your cat\n",
            " 90. your dog hungry your name\n",
            " 91. your dog chased quiet\n",
            " 92. your dog keep quiet\n",
            " 93. your dog hungry quiet\n",
            " 94. your dog you chased\n",
            " 95. your dog you keep\n",
            " 96. your dog you hungry\n",
            " 97. your cat chased a dog\n",
            " 98. your cat chased a cat\n",
            " 99. your cat chased a name\n",
            "100. your cat chased your dog\n",
            "101. your cat chased your cat\n",
            "102. your cat chased your name\n",
            "103. your cat keep a dog\n",
            "104. your cat keep a cat\n",
            "105. your cat keep a name\n",
            "106. your cat keep your dog\n",
            "107. your cat keep your cat\n",
            "108. your cat keep your name\n",
            "109. your cat hungry a dog\n",
            "110. your cat hungry a cat\n",
            "111. your cat hungry a name\n",
            "112. your cat hungry your dog\n",
            "113. your cat hungry your cat\n",
            "114. your cat hungry your name\n",
            "115. your cat chased quiet\n",
            "116. your cat keep quiet\n",
            "117. your cat hungry quiet\n",
            "118. your cat you chased\n",
            "119. your cat you keep\n",
            "120. your cat you hungry\n",
            "121. your name chased a dog\n",
            "122. your name chased a cat\n",
            "123. your name chased a name\n",
            "124. your name chased your dog\n",
            "125. your name chased your cat\n",
            "126. your name chased your name\n",
            "127. your name keep a dog\n",
            "128. your name keep a cat\n",
            "129. your name keep a name\n",
            "130. your name keep your dog\n",
            "131. your name keep your cat\n",
            "132. your name keep your name\n",
            "133. your name hungry a dog\n",
            "134. your name hungry a cat\n",
            "135. your name hungry a name\n",
            "136. your name hungry your dog\n",
            "137. your name hungry your cat\n",
            "138. your name hungry your name\n",
            "139. your name chased quiet\n",
            "140. your name keep quiet\n",
            "141. your name hungry quiet\n",
            "142. your name you chased\n",
            "143. your name you keep\n",
            "144. your name you hungry\n",
            "145. chased a dog\n",
            "146. chased a cat\n",
            "147. chased a name\n",
            "148. chased your dog\n",
            "149. chased your cat\n",
            "150. chased your name\n",
            "151. keep a dog\n",
            "152. keep a cat\n",
            "153. keep a name\n",
            "154. keep your dog\n",
            "155. keep your cat\n",
            "156. keep your name\n",
            "157. hungry a dog\n",
            "158. hungry a cat\n",
            "159. hungry a name\n",
            "160. hungry your dog\n",
            "161. hungry your cat\n",
            "162. hungry your name\n",
            "163. chased quiet\n",
            "164. keep quiet\n",
            "165. hungry quiet\n",
            "166. you chased\n",
            "167. you keep\n",
            "168. you hungry\n",
            "169. are chased a dog\n",
            "170. are chased a cat\n",
            "171. are chased a name\n",
            "172. are chased your dog\n",
            "173. are chased your cat\n",
            "174. are chased your name\n",
            "175. are keep a dog\n",
            "176. are keep a cat\n",
            "177. are keep a name\n",
            "178. are keep your dog\n",
            "179. are keep your cat\n",
            "180. are keep your name\n",
            "181. are hungry a dog\n",
            "182. are hungry a cat\n",
            "183. are hungry a name\n",
            "184. are hungry your dog\n",
            "185. are hungry your cat\n",
            "186. are hungry your name\n",
            "187. are chased quiet\n",
            "188. are keep quiet\n",
            "189. are hungry quiet\n",
            "190. are you chased\n",
            "191. are you keep\n",
            "192. are you hungry\n",
            "193. is chased a dog\n",
            "194. is chased a cat\n",
            "195. is chased a name\n",
            "196. is chased your dog\n",
            "197. is chased your cat\n",
            "198. is chased your name\n",
            "199. is keep a dog\n",
            "200. is keep a cat\n",
            "201. is keep a name\n",
            "202. is keep your dog\n",
            "203. is keep your cat\n",
            "204. is keep your name\n",
            "205. is hungry a dog\n",
            "206. is hungry a cat\n",
            "207. is hungry a name\n",
            "208. is hungry your dog\n",
            "209. is hungry your cat\n",
            "210. is hungry your name\n",
            "211. is chased quiet\n",
            "212. is keep quiet\n",
            "213. is hungry quiet\n",
            "214. is you chased\n",
            "215. is you keep\n",
            "216. is you hungry\n",
            "217. what are a dog\n",
            "218. what are a cat\n",
            "219. what are a name\n",
            "220. what are your dog\n",
            "221. what are your cat\n",
            "222. what are your name\n",
            "223. what is a dog\n",
            "224. what is a cat\n",
            "225. what is a name\n",
            "226. what is your dog\n",
            "227. what is your cat\n",
            "228. what is your name\n"
          ]
        }
      ]
    },
    {
      "cell_type": "code",
      "metadata": {
        "colab": {
          "base_uri": "https://localhost:8080/"
        },
        "id": "MLg1oRsDn3he",
        "outputId": "427737ec-df5b-49f5-b113-3fe4d1394087"
      },
      "source": [
        "sentence1 = ['a', 'dog', 'chased', 'a', 'cat']\n",
        "parser = nltk.ChartParser(grammar)\n",
        "for tree in parser.parse(sentence1):\n",
        "    print(\"The tree in sentence 1: \\n\")\n",
        "    print(tree)"
      ],
      "execution_count": 28,
      "outputs": [
        {
          "output_type": "stream",
          "name": "stdout",
          "text": [
            "The tree in sentence 1: \n",
            "\n",
            "(S (NP (Det a) (N dog)) (VP (V chased) (NP (Det a) (N cat))))\n"
          ]
        }
      ]
    },
    {
      "cell_type": "code",
      "metadata": {
        "colab": {
          "base_uri": "https://localhost:8080/"
        },
        "id": "dLr3PKesoxyE",
        "outputId": "855eeac0-36e3-4849-c302-1bd7bc516d36"
      },
      "source": [
        "tree.pretty_print()"
      ],
      "execution_count": 29,
      "outputs": [
        {
          "output_type": "stream",
          "name": "stdout",
          "text": [
            "              S               \n",
            "      ________|_____           \n",
            "     |              VP        \n",
            "     |         _____|___       \n",
            "     NP       |         NP    \n",
            "  ___|___     |      ___|___   \n",
            "Det      N    V    Det      N \n",
            " |       |    |     |       |  \n",
            " a      dog chased  a      cat\n",
            "\n"
          ]
        }
      ]
    },
    {
      "cell_type": "code",
      "metadata": {
        "colab": {
          "base_uri": "https://localhost:8080/"
        },
        "id": "HGI3n3BvoiHU",
        "outputId": "fe64c28b-bed1-4f22-f3be-62cb03882ed6"
      },
      "source": [
        "sentence2 = ['keep', 'quiet']\n",
        "parser = nltk.ChartParser(grammar)\n",
        "for tree in parser.parse(sentence2):\n",
        "    print(\"The tree in sentence 2: \\n\")\n",
        "    print(tree)"
      ],
      "execution_count": 30,
      "outputs": [
        {
          "output_type": "stream",
          "name": "stdout",
          "text": [
            "The tree in sentence 2: \n",
            "\n",
            "(S (VP (V keep) (Adj quiet)))\n"
          ]
        }
      ]
    },
    {
      "cell_type": "code",
      "metadata": {
        "colab": {
          "base_uri": "https://localhost:8080/"
        },
        "id": "UHlkmT1Ooz8C",
        "outputId": "c1035a2b-baa0-42c2-c752-b53e15057553"
      },
      "source": [
        "tree.pretty_print()"
      ],
      "execution_count": 31,
      "outputs": [
        {
          "output_type": "stream",
          "name": "stdout",
          "text": [
            "      S       \n",
            "      |        \n",
            "      VP      \n",
            "  ____|____    \n",
            " V        Adj \n",
            " |         |   \n",
            "keep     quiet\n",
            "\n"
          ]
        }
      ]
    },
    {
      "cell_type": "code",
      "metadata": {
        "colab": {
          "base_uri": "https://localhost:8080/"
        },
        "id": "dnRWBPr4otUa",
        "outputId": "d3a19a93-c819-4e94-f59a-d0f7a5532230"
      },
      "source": [
        "sentence3 = ['are', 'you','hungry']\n",
        "parser = nltk.ChartParser(grammar)\n",
        "for tree in parser.parse(sentence3):\n",
        "    print(\"The tree in sentence 3: \\n\")\n",
        "    print(tree)\n"
      ],
      "execution_count": 32,
      "outputs": [
        {
          "output_type": "stream",
          "name": "stdout",
          "text": [
            "The tree in sentence 3: \n",
            "\n",
            "(S (Aux are) (VP (Pronoun you) (V hungry)))\n"
          ]
        }
      ]
    },
    {
      "cell_type": "code",
      "metadata": {
        "colab": {
          "base_uri": "https://localhost:8080/"
        },
        "id": "-vhoBmVHo0lj",
        "outputId": "d66c0591-9962-45a4-8fe0-648ec4430cb6"
      },
      "source": [
        "tree.pretty_print()"
      ],
      "execution_count": 33,
      "outputs": [
        {
          "output_type": "stream",
          "name": "stdout",
          "text": [
            "       S              \n",
            "  _____|_____          \n",
            " |           VP       \n",
            " |      _____|____     \n",
            "Aux Pronoun       V   \n",
            " |     |          |    \n",
            "are   you       hungry\n",
            "\n"
          ]
        }
      ]
    },
    {
      "cell_type": "code",
      "metadata": {
        "colab": {
          "base_uri": "https://localhost:8080/"
        },
        "id": "b9z2I1p6ouuS",
        "outputId": "05eb7e88-0c9d-4f80-9d98-e8ea5dacbfd6"
      },
      "source": [
        "sentence4 = ['what', 'is','your','name']\n",
        "parser = nltk.ChartParser(grammar)\n",
        "for tree in parser.parse(sentence4):\n",
        "    print(\"The tree in sentence 4: \\n\")\n",
        "    print(tree)"
      ],
      "execution_count": 34,
      "outputs": [
        {
          "output_type": "stream",
          "name": "stdout",
          "text": [
            "The tree in sentence 4: \n",
            "\n",
            "(S (WH-NP what) (Aux is) (NP (Poss your) (N name)))\n"
          ]
        }
      ]
    },
    {
      "cell_type": "code",
      "metadata": {
        "colab": {
          "base_uri": "https://localhost:8080/"
        },
        "id": "4aNg_6IRo1Rr",
        "outputId": "35dee61d-6965-4126-b7a2-ccba004064aa"
      },
      "source": [
        "tree.pretty_print()"
      ],
      "execution_count": 35,
      "outputs": [
        {
          "output_type": "stream",
          "name": "stdout",
          "text": [
            "       S               \n",
            "   ____|________        \n",
            "  |    |        NP     \n",
            "  |    |    ____|___    \n",
            "WH-NP Aux Poss      N  \n",
            "  |    |   |        |   \n",
            " what  is your     name\n",
            "\n"
          ]
        }
      ]
    }
  ]
}