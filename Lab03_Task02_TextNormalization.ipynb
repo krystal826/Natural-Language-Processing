{
  "nbformat": 4,
  "nbformat_minor": 0,
  "metadata": {
    "kernelspec": {
      "display_name": "Python 3",
      "language": "python",
      "name": "python3"
    },
    "language_info": {
      "codemirror_mode": {
        "name": "ipython",
        "version": 3
      },
      "file_extension": ".py",
      "mimetype": "text/x-python",
      "name": "python",
      "nbconvert_exporter": "python",
      "pygments_lexer": "ipython3",
      "version": "3.7.4"
    },
    "colab": {
      "name": "Lab03-Task02-TextNormalization.ipynb",
      "provenance": [],
      "collapsed_sections": [],
      "include_colab_link": true
    }
  },
  "cells": [
    {
      "cell_type": "markdown",
      "metadata": {
        "id": "view-in-github",
        "colab_type": "text"
      },
      "source": [
        "<a href=\"https://colab.research.google.com/github/krystal826/Natural-Language-Processing/blob/main/Lab03_Task02_TextNormalization.ipynb\" target=\"_parent\"><img src=\"https://colab.research.google.com/assets/colab-badge.svg\" alt=\"Open In Colab\"/></a>"
      ]
    },
    {
      "cell_type": "markdown",
      "metadata": {
        "id": "d894sgKZsb7N"
      },
      "source": [
        "# Lab03 Task 02 instructions: \n",
        "\n",
        "# 1. These Python codes are to explore text normalization such as removing special characters, removing stopwords, stemming and lemmatization. \n",
        "\n",
        "# 2. Run all codes, see the output issued and understand how word normalization is done using Python programming.\n",
        "\n",
        "# 3. If you have error about \"undefined name\", it means a particular package isn't donwloaded yet. Please execute the following code\n",
        "\n",
        "# download.nltk() - this may take quite a long time to execute, else\n",
        "# download.nltk(\"name-package\") - just download the particular package"
      ]
    },
    {
      "cell_type": "code",
      "metadata": {
        "id": "r4P-50Q7sb7S"
      },
      "source": [
        "import nltk\n",
        "import re\n",
        "import string\n",
        "from pprint import pprint"
      ],
      "execution_count": null,
      "outputs": []
    },
    {
      "cell_type": "code",
      "metadata": {
        "id": "xLi_KTHzsb7T"
      },
      "source": [
        "corpus = [\"The brown fox wasn't that quick and he couldn't win the race\", \"Hey that's a great deal! I just bought a phone for $199\", \"@@You'll (learn) a **lot** in the book. Python is an amazing language !@@\"]"
      ],
      "execution_count": null,
      "outputs": []
    },
    {
      "cell_type": "code",
      "metadata": {
        "colab": {
          "base_uri": "https://localhost:8080/"
        },
        "id": "NR4qIxh_sb7T",
        "outputId": "13e5b545-fd1e-4275-c6db-dc071028cbc0"
      },
      "source": [
        "print(corpus)"
      ],
      "execution_count": null,
      "outputs": [
        {
          "output_type": "stream",
          "name": "stdout",
          "text": [
            "[\"The brown fox wasn't that quick and he couldn't win the race\", \"Hey that's a great deal! I just bought a phone for $199\", \"@@You'll (learn) a **lot** in the book. Python is an amazing language !@@\"]\n"
          ]
        }
      ]
    },
    {
      "cell_type": "markdown",
      "metadata": {
        "id": "ZCICDU7Csb7U"
      },
      "source": [
        "# Case conversion"
      ]
    },
    {
      "cell_type": "code",
      "metadata": {
        "colab": {
          "base_uri": "https://localhost:8080/"
        },
        "id": "4Zz9I4kMsb7U",
        "outputId": "437ec610-7989-4950-ee4b-5353920f03c0"
      },
      "source": [
        "print(corpus[0].lower())\n",
        "print(corpus[0].upper())"
      ],
      "execution_count": null,
      "outputs": [
        {
          "output_type": "stream",
          "name": "stdout",
          "text": [
            "the brown fox wasn't that quick and he couldn't win the race\n",
            "THE BROWN FOX WASN'T THAT QUICK AND HE COULDN'T WIN THE RACE\n"
          ]
        }
      ]
    },
    {
      "cell_type": "markdown",
      "metadata": {
        "id": "06vOQlOGsb7U"
      },
      "source": [
        "# Removing special characters before tokenization"
      ]
    },
    {
      "cell_type": "code",
      "metadata": {
        "id": "a3RGlalQsb7V"
      },
      "source": [
        "def remove_characters_before_tokenization(sentence, \n",
        "                                          keep_apostrophes=False): \n",
        "    sentence = sentence.strip() \n",
        "    if keep_apostrophes:\n",
        "        PATTERN = r'[?|$|&|*|%|@|(|)|~]' # add other characters here to remove them\n",
        "        filtered_sentence = re.sub(PATTERN, r'', sentence)\n",
        "    else:\n",
        "        PATTERN = r'[^a-zA-Z0-9 ]' # only extract alpha-numeric characters\n",
        "        filtered_sentence = re.sub(PATTERN, r'', sentence) \n",
        "    return filtered_sentence"
      ],
      "execution_count": null,
      "outputs": []
    },
    {
      "cell_type": "code",
      "metadata": {
        "id": "ZB4cCjfzsb7V"
      },
      "source": [
        "cleaned_corpus = [remove_characters_before_tokenization(sentence,\n",
        "                keep_apostrophes=True)\n",
        "                  for sentence in corpus]"
      ],
      "execution_count": null,
      "outputs": []
    },
    {
      "cell_type": "code",
      "metadata": {
        "scrolled": true,
        "colab": {
          "base_uri": "https://localhost:8080/"
        },
        "id": "QJa9jY4usb7W",
        "outputId": "a48165e0-6dee-4152-a79b-677ca35a635b"
      },
      "source": [
        "print(cleaned_corpus)"
      ],
      "execution_count": null,
      "outputs": [
        {
          "output_type": "stream",
          "name": "stdout",
          "text": [
            "[\"The brown fox wasn't that quick and he couldn't win the race\", \"Hey that's a great deal! I just bought a phone for 199\", \"You'll learn a lot in the book. Python is an amazing language !\"]\n"
          ]
        }
      ]
    },
    {
      "cell_type": "code",
      "metadata": {
        "id": "vmqkWac1sb7W"
      },
      "source": [
        "def remove_special_characters(text, remove_digits=False):\n",
        "    pattern = r'[^a-zA-z0-9\\s]' if not remove_digits else r'[^a-zA-z\\s]'\n",
        "    text = re.sub(pattern, '', text)\n",
        "    return text"
      ],
      "execution_count": null,
      "outputs": []
    },
    {
      "cell_type": "code",
      "metadata": {
        "colab": {
          "base_uri": "https://localhost:8080/"
        },
        "id": "x2SvrAnlsb7X",
        "outputId": "7e9f54c2-0ad0-4e3c-98a7-5a706ba37551"
      },
      "source": [
        "raw = \"Well this was fun! What do you think? 123#@!\"\n",
        "print(\"\\nRaw: \", raw)\n",
        "print(\"Remove special chatacters: \", remove_special_characters(raw, remove_digits=True))"
      ],
      "execution_count": null,
      "outputs": [
        {
          "output_type": "stream",
          "name": "stdout",
          "text": [
            "\n",
            "Raw:  Well this was fun! What do you think? 123#@!\n",
            "Remove special chatacters:  Well this was fun What do you think \n"
          ]
        }
      ]
    },
    {
      "cell_type": "markdown",
      "metadata": {
        "id": "76NAk7n9sb7X"
      },
      "source": [
        "# Removing accented characters"
      ]
    },
    {
      "cell_type": "code",
      "metadata": {
        "id": "2G5mYxGNsb7Y"
      },
      "source": [
        "import unicodedata"
      ],
      "execution_count": null,
      "outputs": []
    },
    {
      "cell_type": "code",
      "metadata": {
        "id": "JX_RhPlNsb7Y"
      },
      "source": [
        "def remove_accented_chars(text):\n",
        "    text = unicodedata.normalize('NFKD', text).encode('ascii', 'ignore').decode('utf-8', 'ignore')\n",
        "    return text"
      ],
      "execution_count": null,
      "outputs": []
    },
    {
      "cell_type": "code",
      "metadata": {
        "colab": {
          "base_uri": "https://localhost:8080/"
        },
        "id": "u5Rz-KV_sb7Y",
        "outputId": "f2e100b6-53f8-4300-c073-a447507d870f"
      },
      "source": [
        "print(\"\\nSómě Áccěntěd těxt\")\n",
        "print(\"After removing accěntěd těxt: \")\n",
        "print(remove_accented_chars('Sómě Áccěntěd těxt'))"
      ],
      "execution_count": null,
      "outputs": [
        {
          "output_type": "stream",
          "name": "stdout",
          "text": [
            "\n",
            "Sómě Áccěntěd těxt\n",
            "After removing accěntěd těxt: \n",
            "Some Accented text\n"
          ]
        }
      ]
    },
    {
      "cell_type": "markdown",
      "metadata": {
        "id": "M0mBtVyHsb7Z"
      },
      "source": [
        "# Removing HTML tags"
      ]
    },
    {
      "cell_type": "code",
      "metadata": {
        "id": "eFHVRBKXsb7Z"
      },
      "source": [
        "from bs4 import BeautifulSoup\n",
        "def strip_html_tags(text):\n",
        "    soup = BeautifulSoup(text, \"html.parser\")\n",
        "    stripped_text = soup.get_text()\n",
        "    return stripped_text"
      ],
      "execution_count": null,
      "outputs": []
    },
    {
      "cell_type": "code",
      "metadata": {
        "colab": {
          "base_uri": "https://localhost:8080/"
        },
        "id": "ULH6MRK3sb7Z",
        "outputId": "dea07e7a-618d-4400-b2a3-5f3d027d32c0"
      },
      "source": [
        "print(\"\\n<html><h2>Some important text</h2></html>\")\n",
        "print(\"Remove html tags:\")\n",
        "print(strip_html_tags('<html><h2>Some important text</h2></html>'))"
      ],
      "execution_count": null,
      "outputs": [
        {
          "output_type": "stream",
          "name": "stdout",
          "text": [
            "\n",
            "<html><h2>Some important text</h2></html>\n",
            "Remove html tags:\n",
            "Some important text\n"
          ]
        }
      ]
    },
    {
      "cell_type": "markdown",
      "metadata": {
        "id": "rVamAGmpsb7Z"
      },
      "source": [
        "# Expanding Contractions"
      ]
    },
    {
      "cell_type": "code",
      "metadata": {
        "id": "lMCEPmezsb7a"
      },
      "source": [
        "from contractions import CONTRACTION_MAP # make sure copy contraction.py in the same folder as this file\n",
        "def expand_contractions(text, contraction_mapping=CONTRACTION_MAP):\n",
        "    \n",
        "    contractions_pattern = re.compile('({})'.format('|'.join(contraction_mapping.keys())), \n",
        "                                      flags=re.IGNORECASE|re.DOTALL)\n",
        "    def expand_match(contraction):\n",
        "        match = contraction.group(0)\n",
        "        first_char = match[0]\n",
        "        expanded_contraction = contraction_mapping.get(match)\\\n",
        "                                if contraction_mapping.get(match)\\\n",
        "                                else contraction_mapping.get(match.lower())                       \n",
        "        expanded_contraction = first_char+expanded_contraction[1:]\n",
        "        return expanded_contraction\n",
        "        \n",
        "    expanded_text = contractions_pattern.sub(expand_match, text)\n",
        "    expanded_text = re.sub(\"'\", \"\", expanded_text)\n",
        "    return expanded_text"
      ],
      "execution_count": null,
      "outputs": []
    },
    {
      "cell_type": "code",
      "metadata": {
        "id": "t4Pvlkl1sb7a"
      },
      "source": [
        "from contractions import CONTRACTION_MAP # make sure copy contraction.py in the same folder as this file\n",
        "def expand_contractions(text, contraction_mapping=CONTRACTION_MAP):\n",
        "    \n",
        "    contractions_pattern = re.compile('({})'.format('|'.join(contraction_mapping.keys())), \n",
        "                                      flags=re.IGNORECASE|re.DOTALL)\n",
        "    def expand_match(contraction):\n",
        "        match = contraction.group(0)\n",
        "        first_char = match[0]\n",
        "        expanded_contraction = contraction_mapping.get(match) if contraction_mapping.get(match) else contraction_mapping.get(match.lower())                       \n",
        "        expanded_contraction = first_char+expanded_contraction[1:]\n",
        "        return expanded_contraction\n",
        "    \n",
        "    try:\n",
        "        expanded_text = contractions_pattern.sub(expand_match, text)\n",
        "        expanded_text = re.sub(\"'\", \"\", expanded_text)\n",
        "    except:\n",
        "        return text\n",
        "    return expanded_text"
      ],
      "execution_count": null,
      "outputs": []
    },
    {
      "cell_type": "code",
      "metadata": {
        "colab": {
          "base_uri": "https://localhost:8080/"
        },
        "id": "62WL3nsysb7a",
        "outputId": "49b990b9-07e7-415a-aee2-3be88f7505a8"
      },
      "source": [
        "print(\"\\nY'all can't expand contractions I'd think\")\n",
        "print(\"Expand contractions:\")\n",
        "print(expand_contractions(\"Y'all can't expand contractions I'd think\"))"
      ],
      "execution_count": null,
      "outputs": [
        {
          "output_type": "stream",
          "name": "stdout",
          "text": [
            "\n",
            "Y'all can't expand contractions I'd think\n",
            "Expand contractions:\n",
            "You all cannot expand contractions I would think\n"
          ]
        }
      ]
    },
    {
      "cell_type": "code",
      "metadata": {
        "colab": {
          "base_uri": "https://localhost:8080/"
        },
        "id": "-NSI_cTLsb7b",
        "outputId": "15bd798e-7f0c-45cf-932e-9c5895356dcb"
      },
      "source": [
        "cleaned_corpus2 = [expand_contractions(sentence) \n",
        "                  for sentence in cleaned_corpus]\n",
        "print(cleaned_corpus)\n",
        "print(cleaned_corpus2)"
      ],
      "execution_count": null,
      "outputs": [
        {
          "output_type": "stream",
          "name": "stdout",
          "text": [
            "[\"The brown fox wasn't that quick and he couldn't win the race\", \"Hey that's a great deal! I just bought a phone for 199\", \"You'll learn a lot in the book. Python is an amazing language !\"]\n",
            "['The brown fox was not that quick and he could not win the race', 'Hey that is a great deal! I just bought a phone for 199', 'You will learn a lot in the book. Python is an amazing language !']\n"
          ]
        }
      ]
    },
    {
      "cell_type": "markdown",
      "metadata": {
        "id": "Vu0pIJVisb7b"
      },
      "source": [
        "# Removing Stopwords"
      ]
    },
    {
      "cell_type": "code",
      "metadata": {
        "colab": {
          "base_uri": "https://localhost:8080/"
        },
        "id": "asbpKMP_sb7b",
        "outputId": "d0e37ab1-64b0-429e-cbf3-38a7a3c4a108"
      },
      "source": [
        "import nltk\n",
        "nltk.download('stopwords')\n",
        "from nltk.tokenize.toktok import ToktokTokenizer\n",
        "tokenizer = ToktokTokenizer()\n",
        "stopword_list = nltk.corpus.stopwords.words('english')\n",
        "#stopword_list.remove('no')\n",
        "#stopword_list.remove('not')\n",
        "def remove_stopwords(text, is_lower_case=False):\n",
        "    tokens = tokenizer.tokenize(text)\n",
        "    tokens = [token.strip() for token in tokens]\n",
        "    if is_lower_case:\n",
        "        filtered_tokens = [token for token in tokens if token not in stopword_list]\n",
        "    else:\n",
        "        filtered_tokens = [token for token in tokens if token.lower() not in stopword_list]\n",
        "    filtered_text = ' '.join(filtered_tokens)    \n",
        "    return filtered_text"
      ],
      "execution_count": null,
      "outputs": [
        {
          "output_type": "stream",
          "name": "stdout",
          "text": [
            "[nltk_data] Downloading package stopwords to /root/nltk_data...\n",
            "[nltk_data]   Unzipping corpora/stopwords.zip.\n"
          ]
        }
      ]
    },
    {
      "cell_type": "code",
      "metadata": {
        "colab": {
          "base_uri": "https://localhost:8080/"
        },
        "id": "8gKc-qIAsb7c",
        "outputId": "18821a61-ec2f-45b6-935d-dda0f424a6e4"
      },
      "source": [
        "cleaned_corpus3 = [remove_stopwords(sentence, is_lower_case=False) \n",
        "                  for sentence in cleaned_corpus2]\n",
        "print(cleaned_corpus2)\n",
        "print(\"\\n\")\n",
        "print(\"Remove stopwords: \\n\", cleaned_corpus3)"
      ],
      "execution_count": null,
      "outputs": [
        {
          "output_type": "stream",
          "name": "stdout",
          "text": [
            "['The brown fox was not that quick and he could not win the race', 'Hey that is a great deal! I just bought a phone for 199', 'You will learn a lot in the book. Python is an amazing language !']\n",
            "\n",
            "\n",
            "Remove stopwords: \n",
            " ['brown fox quick could win race', 'Hey great deal ! bought phone 199', 'learn lot book. Python amazing language !']\n"
          ]
        }
      ]
    },
    {
      "cell_type": "code",
      "metadata": {
        "colab": {
          "base_uri": "https://localhost:8080/"
        },
        "id": "h4_cxD-Esb7c",
        "outputId": "921020d5-c0e4-485c-9689-e80f2b544bc5"
      },
      "source": [
        "print(\"\\nThe, and, if are stopwords, computer is not\")\n",
        "print(\"Remove stopwords:\")\n",
        "print(remove_stopwords(\"The, and, if are stopwords, computer is not\"))"
      ],
      "execution_count": null,
      "outputs": [
        {
          "output_type": "stream",
          "name": "stdout",
          "text": [
            "\n",
            "The, and, if are stopwords, computer is not\n",
            "Remove stopwords:\n",
            ", , stopwords , computer\n"
          ]
        }
      ]
    },
    {
      "cell_type": "code",
      "metadata": {
        "colab": {
          "base_uri": "https://localhost:8080/"
        },
        "id": "FLo38nylsb7c",
        "outputId": "ed225d0e-7233-4622-9e0e-156320e7471c"
      },
      "source": [
        "from nltk.corpus import stopwords\n",
        "set(stopwords.words('english'))"
      ],
      "execution_count": null,
      "outputs": [
        {
          "output_type": "execute_result",
          "data": {
            "text/plain": [
              "{'a',\n",
              " 'about',\n",
              " 'above',\n",
              " 'after',\n",
              " 'again',\n",
              " 'against',\n",
              " 'ain',\n",
              " 'all',\n",
              " 'am',\n",
              " 'an',\n",
              " 'and',\n",
              " 'any',\n",
              " 'are',\n",
              " 'aren',\n",
              " \"aren't\",\n",
              " 'as',\n",
              " 'at',\n",
              " 'be',\n",
              " 'because',\n",
              " 'been',\n",
              " 'before',\n",
              " 'being',\n",
              " 'below',\n",
              " 'between',\n",
              " 'both',\n",
              " 'but',\n",
              " 'by',\n",
              " 'can',\n",
              " 'couldn',\n",
              " \"couldn't\",\n",
              " 'd',\n",
              " 'did',\n",
              " 'didn',\n",
              " \"didn't\",\n",
              " 'do',\n",
              " 'does',\n",
              " 'doesn',\n",
              " \"doesn't\",\n",
              " 'doing',\n",
              " 'don',\n",
              " \"don't\",\n",
              " 'down',\n",
              " 'during',\n",
              " 'each',\n",
              " 'few',\n",
              " 'for',\n",
              " 'from',\n",
              " 'further',\n",
              " 'had',\n",
              " 'hadn',\n",
              " \"hadn't\",\n",
              " 'has',\n",
              " 'hasn',\n",
              " \"hasn't\",\n",
              " 'have',\n",
              " 'haven',\n",
              " \"haven't\",\n",
              " 'having',\n",
              " 'he',\n",
              " 'her',\n",
              " 'here',\n",
              " 'hers',\n",
              " 'herself',\n",
              " 'him',\n",
              " 'himself',\n",
              " 'his',\n",
              " 'how',\n",
              " 'i',\n",
              " 'if',\n",
              " 'in',\n",
              " 'into',\n",
              " 'is',\n",
              " 'isn',\n",
              " \"isn't\",\n",
              " 'it',\n",
              " \"it's\",\n",
              " 'its',\n",
              " 'itself',\n",
              " 'just',\n",
              " 'll',\n",
              " 'm',\n",
              " 'ma',\n",
              " 'me',\n",
              " 'mightn',\n",
              " \"mightn't\",\n",
              " 'more',\n",
              " 'most',\n",
              " 'mustn',\n",
              " \"mustn't\",\n",
              " 'my',\n",
              " 'myself',\n",
              " 'needn',\n",
              " \"needn't\",\n",
              " 'no',\n",
              " 'nor',\n",
              " 'not',\n",
              " 'now',\n",
              " 'o',\n",
              " 'of',\n",
              " 'off',\n",
              " 'on',\n",
              " 'once',\n",
              " 'only',\n",
              " 'or',\n",
              " 'other',\n",
              " 'our',\n",
              " 'ours',\n",
              " 'ourselves',\n",
              " 'out',\n",
              " 'over',\n",
              " 'own',\n",
              " 're',\n",
              " 's',\n",
              " 'same',\n",
              " 'shan',\n",
              " \"shan't\",\n",
              " 'she',\n",
              " \"she's\",\n",
              " 'should',\n",
              " \"should've\",\n",
              " 'shouldn',\n",
              " \"shouldn't\",\n",
              " 'so',\n",
              " 'some',\n",
              " 'such',\n",
              " 't',\n",
              " 'than',\n",
              " 'that',\n",
              " \"that'll\",\n",
              " 'the',\n",
              " 'their',\n",
              " 'theirs',\n",
              " 'them',\n",
              " 'themselves',\n",
              " 'then',\n",
              " 'there',\n",
              " 'these',\n",
              " 'they',\n",
              " 'this',\n",
              " 'those',\n",
              " 'through',\n",
              " 'to',\n",
              " 'too',\n",
              " 'under',\n",
              " 'until',\n",
              " 'up',\n",
              " 've',\n",
              " 'very',\n",
              " 'was',\n",
              " 'wasn',\n",
              " \"wasn't\",\n",
              " 'we',\n",
              " 'were',\n",
              " 'weren',\n",
              " \"weren't\",\n",
              " 'what',\n",
              " 'when',\n",
              " 'where',\n",
              " 'which',\n",
              " 'while',\n",
              " 'who',\n",
              " 'whom',\n",
              " 'why',\n",
              " 'will',\n",
              " 'with',\n",
              " 'won',\n",
              " \"won't\",\n",
              " 'wouldn',\n",
              " \"wouldn't\",\n",
              " 'y',\n",
              " 'you',\n",
              " \"you'd\",\n",
              " \"you'll\",\n",
              " \"you're\",\n",
              " \"you've\",\n",
              " 'your',\n",
              " 'yours',\n",
              " 'yourself',\n",
              " 'yourselves'}"
            ]
          },
          "metadata": {},
          "execution_count": 23
        }
      ]
    },
    {
      "cell_type": "markdown",
      "metadata": {
        "id": "mkroYC4ksb7c"
      },
      "source": [
        "# Word Stemmer: Porter Stemmer"
      ]
    },
    {
      "cell_type": "code",
      "metadata": {
        "colab": {
          "base_uri": "https://localhost:8080/"
        },
        "id": "4pQfIwTFsb7c",
        "outputId": "d8052d73-4c9f-4fbc-ea67-7ba3cd9ea789"
      },
      "source": [
        "# Stemming using Porter Stemmer\n",
        "from nltk.stem import PorterStemmer\n",
        "\n",
        "p_stemmer = PorterStemmer()\n",
        "  \n",
        "words = ['jumps','jumping','jumped', 'easily','fairly'] \n",
        "\n",
        "for word in words:\n",
        "    print(word+' --> '+p_stemmer.stem(word))"
      ],
      "execution_count": null,
      "outputs": [
        {
          "output_type": "stream",
          "name": "stdout",
          "text": [
            "jumps --> jump\n",
            "jumping --> jump\n",
            "jumped --> jump\n",
            "easily --> easili\n",
            "fairly --> fairli\n"
          ]
        }
      ]
    },
    {
      "cell_type": "markdown",
      "metadata": {
        "id": "Az4Zst21sb7c"
      },
      "source": [
        "# Word Stemmer: Lancaster Stemmer\n",
        "# Based on Porter Stemmer code above, complete the following code segment (add the respective code in line 9 and 10 below)"
      ]
    },
    {
      "cell_type": "code",
      "metadata": {
        "colab": {
          "base_uri": "https://localhost:8080/"
        },
        "id": "kfkHbpacsb7c",
        "outputId": "04ad6b57-8c0e-41f8-baaf-81a866e83656"
      },
      "source": [
        "# Stemming using Lancaster Stemmer\n",
        "from nltk.stem import LancasterStemmer\n",
        "\n",
        "l_stemmer = LancasterStemmer()\n",
        "  \n",
        "words = ['jumps','jumping','jumped', 'easily','fairly'] \n",
        "\n",
        "# Refer to line 8 and 9 in Porter Stemmer, copy the code and adjust them to Lancaster Stemmer\n",
        "for word in words:\n",
        "  print(word+' --> '+l_stemmer.stem(word))\n"
      ],
      "execution_count": null,
      "outputs": [
        {
          "output_type": "stream",
          "name": "stdout",
          "text": [
            "jumps --> jump\n",
            "jumping --> jump\n",
            "jumped --> jump\n",
            "easily --> easy\n",
            "fairly --> fair\n"
          ]
        }
      ]
    },
    {
      "cell_type": "markdown",
      "metadata": {
        "id": "hCqV84Hqsb7d"
      },
      "source": [
        "# Word Stemmer: Snowball Stemmer\n",
        "# Based on Porter Stemmer code, complete the following code segment (add the respective code in line 10 and 11 below)"
      ]
    },
    {
      "cell_type": "code",
      "metadata": {
        "colab": {
          "base_uri": "https://localhost:8080/"
        },
        "id": "2gTGT2eWsb7d",
        "outputId": "680744dd-9837-4b19-a11e-0a502ab4657d"
      },
      "source": [
        "# Stemming using Snowball Stemmer\n",
        "from nltk.stem.snowball import SnowballStemmer\n",
        "\n",
        "# The Snowball Stemmer requires that you pass a language parameter\n",
        "s_stemmer = SnowballStemmer(language='english')\n",
        "  \n",
        "words = ['jumps','jumping','jumped', 'easily','fairly'] \n",
        "\n",
        "# Refer to line 8 and 9 in Porter Stemmer, copy the code and adjust them to Lancaster Stemmer\n",
        "for word in words:\n",
        "  print(word+' --> '+s_stemmer.stem(word))\n"
      ],
      "execution_count": null,
      "outputs": [
        {
          "output_type": "stream",
          "name": "stdout",
          "text": [
            "jumps --> jump\n",
            "jumping --> jump\n",
            "jumped --> jump\n",
            "easily --> easili\n",
            "fairly --> fair\n"
          ]
        }
      ]
    },
    {
      "cell_type": "markdown",
      "metadata": {
        "id": "7nokx8Ensb7d"
      },
      "source": [
        "# Word Stemmer: Regex Stemmer"
      ]
    },
    {
      "cell_type": "code",
      "metadata": {
        "colab": {
          "base_uri": "https://localhost:8080/"
        },
        "id": "Xh5fo22Nsb7d",
        "outputId": "9622dd98-e610-4d40-cfd0-fe865c451546"
      },
      "source": [
        "# Stemming using Regex based Stemmer\n",
        "from nltk.stem import RegexpStemmer\n",
        "\n",
        "re_stemmer = RegexpStemmer('ing$|s$|ed$', min=4)\n",
        "  \n",
        "words = ['jumps','jumping','jumped', 'easily','fairly'] \n",
        "\n",
        "for word in words:\n",
        "    print(word+' --> '+re_stemmer.stem(word))"
      ],
      "execution_count": null,
      "outputs": [
        {
          "output_type": "stream",
          "name": "stdout",
          "text": [
            "jumps --> jump\n",
            "jumping --> jump\n",
            "jumped --> jump\n",
            "easily --> easily\n",
            "fairly --> fairly\n"
          ]
        }
      ]
    },
    {
      "cell_type": "markdown",
      "metadata": {
        "id": "l_lIy1wXsb7d"
      },
      "source": [
        "# Lemmatization Using NLTK tool"
      ]
    },
    {
      "cell_type": "code",
      "metadata": {
        "colab": {
          "base_uri": "https://localhost:8080/"
        },
        "id": "bpoPROy7sb7d",
        "outputId": "47f86535-1d3a-4138-90dd-0b075d1f8fde"
      },
      "source": [
        "import nltk\n",
        "nltk.download('punkt')\n",
        "nltk.download('wordnet')\n",
        "from nltk.stem import WordNetLemmatizer\n",
        "\n",
        "wordnet_lemmatizer = WordNetLemmatizer()\n",
        "text = \"studies studying cries cry\"\n",
        "tokenization = nltk.word_tokenize(text)\n",
        "for w in tokenization:\n",
        "    print(\"Lemma for {} is {}\".format(w, wordnet_lemmatizer.lemmatize(w)))"
      ],
      "execution_count": null,
      "outputs": [
        {
          "output_type": "stream",
          "name": "stdout",
          "text": [
            "[nltk_data] Downloading package punkt to /root/nltk_data...\n",
            "[nltk_data]   Package punkt is already up-to-date!\n",
            "[nltk_data] Downloading package wordnet to /root/nltk_data...\n",
            "[nltk_data]   Unzipping corpora/wordnet.zip.\n",
            "Lemma for studies is study\n",
            "Lemma for studying is studying\n",
            "Lemma for cries is cry\n",
            "Lemma for cry is cry\n"
          ]
        }
      ]
    },
    {
      "cell_type": "markdown",
      "metadata": {
        "id": "luhkcERXsb7e"
      },
      "source": [
        "# Lemmatization Using Spacy"
      ]
    },
    {
      "cell_type": "code",
      "metadata": {
        "colab": {
          "base_uri": "https://localhost:8080/"
        },
        "id": "QVRb93wNsb7e",
        "outputId": "07330ca0-f1c5-4da4-8d9b-d7ddb8493a14"
      },
      "source": [
        "import spacy\n",
        "\n",
        "def show_lemmas(text):\n",
        "    print(\"Word         POS     Lemma\")\n",
        "    print(\"--------------------------\")\n",
        "    for token in text:\n",
        "        print(f'{token.text:{12}} {token.pos_:{6}} {token.lemma_}')\n",
        "        \n",
        "nlp = spacy.load('en_core_web_sm')\n",
        "doc = nlp(u\"He saw eighteen mice today!\")\n",
        "show_lemmas(doc)"
      ],
      "execution_count": null,
      "outputs": [
        {
          "output_type": "stream",
          "name": "stdout",
          "text": [
            "Word         POS     Lemma\n",
            "--------------------------\n",
            "He           PRON   -PRON-\n",
            "saw          VERB   see\n",
            "eighteen     NUM    eighteen\n",
            "mice         NOUN   mouse\n",
            "today        NOUN   today\n",
            "!            PUNCT  !\n"
          ]
        }
      ]
    },
    {
      "cell_type": "code",
      "metadata": {
        "id": "9iSiKSGzsb7e"
      },
      "source": [
        ""
      ],
      "execution_count": null,
      "outputs": []
    }
  ]
}