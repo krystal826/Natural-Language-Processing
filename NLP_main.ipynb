{
  "nbformat": 4,
  "nbformat_minor": 0,
  "metadata": {
    "colab": {
      "name": "NLP_main.ipynb",
      "provenance": [],
      "collapsed_sections": [],
      "include_colab_link": true
    },
    "kernelspec": {
      "name": "python3",
      "display_name": "Python 3"
    },
    "language_info": {
      "name": "python"
    }
  },
  "cells": [
    {
      "cell_type": "markdown",
      "metadata": {
        "id": "view-in-github",
        "colab_type": "text"
      },
      "source": [
        "<a href=\"https://colab.research.google.com/github/krystal826/Natural-Language-Processing/blob/main/NLP_main.ipynb\" target=\"_parent\"><img src=\"https://colab.research.google.com/assets/colab-badge.svg\" alt=\"Open In Colab\"/></a>"
      ]
    },
    {
      "cell_type": "code",
      "source": [
        "import pandas as pd\n",
        "import numpy as np\n",
        "import pickle\n",
        "from difflib import SequenceMatcher\n",
        "import tensorflow as tf\n",
        "from tensorflow import keras\n",
        "from keras.preprocessing.text import Tokenizer\n",
        "from keras.preprocessing.sequence import pad_sequences"
      ],
      "metadata": {
        "id": "CPGI6HDJPVSU"
      },
      "execution_count": 1,
      "outputs": []
    },
    {
      "cell_type": "code",
      "source": [
        "with open(\"fit.txt\", \"rb\") as fp:\n",
        "  b = pickle.load(fp)"
      ],
      "metadata": {
        "id": "hYao0K2sWATP"
      },
      "execution_count": 2,
      "outputs": []
    },
    {
      "cell_type": "code",
      "source": [
        "sent = []\n",
        "f = open(\"nlp_dict.txt\", \"r\")\n",
        "for i in f:\n",
        "  sent.append(i.strip())"
      ],
      "metadata": {
        "id": "z1SeeJ42Iys1"
      },
      "execution_count": 3,
      "outputs": []
    },
    {
      "cell_type": "code",
      "source": [
        "max = 0.0\n",
        "max_id = 0\n",
        "inp = input(\"String:\")\n",
        "for i in sent:\n",
        "  temp = SequenceMatcher(None, inp, i).ratio()\n",
        "  if temp > max:\n",
        "    max = temp\n",
        "    max_id = i"
      ],
      "metadata": {
        "colab": {
          "base_uri": "https://localhost:8080/"
        },
        "id": "z0EO5eI1KbiA",
        "outputId": "2f8f6583-1a67-421f-8af4-43ddfaecc6b3"
      },
      "execution_count": 4,
      "outputs": [
        {
          "name": "stdout",
          "output_type": "stream",
          "text": [
            "String:doctory\n"
          ]
        }
      ]
    },
    {
      "cell_type": "code",
      "source": [
        "new_model = tf.keras.models.load_model('cnn_model.h5')\n",
        "tokenizer = Tokenizer(num_words=26)\n",
        "tokenizer.fit_on_texts(b)\n",
        "ac_1 = list(inp)\n",
        "ac_2 = tokenizer.texts_to_sequences([ac_1])\n",
        "ac_3 = pad_sequences(ac_2, padding='post', maxlen=13)\n",
        "lbl = new_model.predict(ac_3)"
      ],
      "metadata": {
        "id": "zu28_sGSN2qG"
      },
      "execution_count": 5,
      "outputs": []
    },
    {
      "cell_type": "code",
      "source": [
        "acc = ''\n",
        "acc_conf = 0\n",
        "if lbl[0,0] > lbl[0,1] and lbl[0,0] > lbl[0,2]:\n",
        "  acc = 'Chinese'\n",
        "  acc_conf = lbl[0,0]\n",
        "elif lbl[0,1] > lbl[0,0] and lbl[0,1] > lbl[0,2]:\n",
        "  acc = 'Indian'\n",
        "  acc_conf = lbl[0,1]\n",
        "else:\n",
        "  acc = 'Malay'\n",
        "  acc_conf = lbl[0,2]"
      ],
      "metadata": {
        "id": "d8hL3c_fP3VE"
      },
      "execution_count": 6,
      "outputs": []
    },
    {
      "cell_type": "code",
      "source": [
        "print(\"Input string:\", inp, \"\\nMatched:\", max_id, \"with similarity of\", max, \"\\nAccent:\", acc, \"with confidence of\", acc_conf )"
      ],
      "metadata": {
        "colab": {
          "base_uri": "https://localhost:8080/"
        },
        "id": "HklKVMLQNhcH",
        "outputId": "0023c256-5ba3-4616-c7f7-f3f1319d416d"
      },
      "execution_count": 7,
      "outputs": [
        {
          "output_type": "stream",
          "name": "stdout",
          "text": [
            "Input string: doctory \n",
            "Matched: doctor with similarity of 0.9230769230769231 \n",
            "Accent: Chinese with confidence of 0.9958931\n"
          ]
        }
      ]
    }
  ]
}