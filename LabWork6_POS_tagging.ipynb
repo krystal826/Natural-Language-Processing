{
  "nbformat": 4,
  "nbformat_minor": 0,
  "metadata": {
    "colab": {
      "name": "LabWork6 POS tagging.ipynb",
      "provenance": [],
      "collapsed_sections": [],
      "authorship_tag": "ABX9TyOG3t/+oAzyxUmXX6JwvI2N",
      "include_colab_link": true
    },
    "kernelspec": {
      "name": "python3",
      "display_name": "Python 3"
    },
    "language_info": {
      "name": "python"
    }
  },
  "cells": [
    {
      "cell_type": "markdown",
      "metadata": {
        "id": "view-in-github",
        "colab_type": "text"
      },
      "source": [
        "<a href=\"https://colab.research.google.com/github/krystal826/Natural-Language-Processing/blob/main/LabWork6_POS_tagging.ipynb\" target=\"_parent\"><img src=\"https://colab.research.google.com/assets/colab-badge.svg\" alt=\"Open In Colab\"/></a>"
      ]
    },
    {
      "cell_type": "code",
      "metadata": {
        "colab": {
          "base_uri": "https://localhost:8080/"
        },
        "id": "Ecin1jSjwvLI",
        "outputId": "117a86ef-a80d-4de0-e24a-0e56f59a036c"
      },
      "source": [
        "import nltk\n",
        "nltk.download('punkt')\n",
        "\n",
        "from nltk.tokenize import word_tokenize\n",
        "\n",
        "text = word_tokenize(\"Hello welcome to the world of to learn Categorizing \"\\\n",
        "                      \"and POS Tagging with NLTK and Python\")\n",
        "\n",
        "nltk.pos_tag(text) #Follows Penn Treebank tagset"
      ],
      "execution_count": null,
      "outputs": [
        {
          "output_type": "stream",
          "name": "stdout",
          "text": [
            "[nltk_data] Downloading package punkt to /root/nltk_data...\n",
            "[nltk_data]   Package punkt is already up-to-date!\n"
          ]
        },
        {
          "output_type": "execute_result",
          "data": {
            "text/plain": [
              "[('Hello', 'NNP'),\n",
              " ('welcome', 'NN'),\n",
              " ('to', 'TO'),\n",
              " ('the', 'DT'),\n",
              " ('world', 'NN'),\n",
              " ('of', 'IN'),\n",
              " ('to', 'TO'),\n",
              " ('learn', 'VB'),\n",
              " ('Categorizing', 'NNP'),\n",
              " ('and', 'CC'),\n",
              " ('POS', 'NNP'),\n",
              " ('Tagging', 'NNP'),\n",
              " ('with', 'IN'),\n",
              " ('NLTK', 'NNP'),\n",
              " ('and', 'CC'),\n",
              " ('Python', 'NNP')]"
            ]
          },
          "metadata": {},
          "execution_count": 5
        }
      ]
    },
    {
      "cell_type": "code",
      "metadata": {
        "colab": {
          "base_uri": "https://localhost:8080/"
        },
        "id": "jjHwZYV5x2eH",
        "outputId": "c38a0bc1-4ba1-4f55-f06a-2ba07075f9e4"
      },
      "source": [
        "# To get furthur info about NNP and its example of words\n",
        "nltk.download('tagsets')\n",
        "nltk.download('universal_tagset')\n",
        "nltk.help.upenn_tagset('NNP')\n",
        "nltk.pos_tag(text, tagset='universal')"
      ],
      "execution_count": null,
      "outputs": [
        {
          "output_type": "stream",
          "name": "stdout",
          "text": [
            "[nltk_data] Downloading package tagsets to /root/nltk_data...\n",
            "[nltk_data]   Package tagsets is already up-to-date!\n",
            "[nltk_data] Downloading package universal_tagset to /root/nltk_data...\n",
            "[nltk_data]   Unzipping taggers/universal_tagset.zip.\n",
            "NNP: noun, proper, singular\n",
            "    Motown Venneboerger Czestochwa Ranzer Conchita Trumplane Christos\n",
            "    Oceanside Escobar Kreisler Sawyer Cougar Yvette Ervin ODI Darryl CTCA\n",
            "    Shannon A.K.C. Meltex Liverpool ...\n"
          ]
        },
        {
          "output_type": "execute_result",
          "data": {
            "text/plain": [
              "[('Hello', 'NOUN'),\n",
              " ('welcome', 'NOUN'),\n",
              " ('to', 'PRT'),\n",
              " ('the', 'DET'),\n",
              " ('world', 'NOUN'),\n",
              " ('of', 'ADP'),\n",
              " ('to', 'PRT'),\n",
              " ('learn', 'VERB'),\n",
              " ('Categorizing', 'NOUN'),\n",
              " ('and', 'CONJ'),\n",
              " ('POS', 'NOUN'),\n",
              " ('Tagging', 'NOUN'),\n",
              " ('with', 'ADP'),\n",
              " ('NLTK', 'NOUN'),\n",
              " ('and', 'CONJ'),\n",
              " ('Python', 'NOUN')]"
            ]
          },
          "metadata": {},
          "execution_count": 10
        }
      ]
    },
    {
      "cell_type": "code",
      "metadata": {
        "colab": {
          "base_uri": "https://localhost:8080/"
        },
        "id": "KfAyWGaczDlY",
        "outputId": "2c084fcc-dc4d-4326-ad6b-6064f480d39a"
      },
      "source": [
        "default_st = nltk.sent_tokenize\n",
        "text = \"Open source is source code that is made freely available for possible\"\\\n",
        "\" modification and redistribution. Products include permission to use the source\"\\\n",
        "\" code, design documents, or content of the product. The open-source model is a\"\\\n",
        "\" decentralized software development model that encourages open collaboration.\"\\\n",
        "\" A main principle of open-source software development is peer production, with\"\\\n",
        "\" products such as source code, blueprints, and documentation freely available\"\\\n",
        "\" to the public. The open-source movement in software began as a response to\"\\\n",
        "\" the limitations of proprietary code. The model is used for projects such as\"\\\n",
        "\" in open-source appropriate technology, and open-source drug discovery.\"\n",
        "sent_segment = default_st(text)\n",
        "print(\"Total sentences in doc = \", len(sent_segment))\n",
        "for sentence in sent_segment:\n",
        "  print(sentence)\n"
      ],
      "execution_count": null,
      "outputs": [
        {
          "output_type": "stream",
          "name": "stdout",
          "text": [
            "Total sentences in doc =  6\n",
            "Open source is source code that is made freely available for possible modification and redistribution.\n",
            "Products include permission to use the source code, design documents, or content of the product.\n",
            "The open-source model is a decentralized software development model that encourages open collaboration.\n",
            "A main principle of open-source software development is peer production, with products such as source code, blueprints, and documentation freely available to the public.\n",
            "The open-source movement in software began as a response to the limitations of proprietary code.\n",
            "The model is used for projects such as in open-source appropriate technology, and open-source drug discovery.\n"
          ]
        }
      ]
    },
    {
      "cell_type": "code",
      "metadata": {
        "colab": {
          "base_uri": "https://localhost:8080/"
        },
        "id": "qBlPfvP21F_n",
        "outputId": "8729a17e-aac0-4326-f30d-70b6f983e9e0"
      },
      "source": [
        "word = word_tokenize(text)\n",
        "nltk.pos_tag(word)"
      ],
      "execution_count": 24,
      "outputs": [
        {
          "output_type": "execute_result",
          "data": {
            "text/plain": [
              "[('Open', 'NNP'),\n",
              " ('source', 'NN'),\n",
              " ('is', 'VBZ'),\n",
              " ('source', 'NN'),\n",
              " ('code', 'NN'),\n",
              " ('that', 'WDT'),\n",
              " ('is', 'VBZ'),\n",
              " ('made', 'VBN'),\n",
              " ('freely', 'RB'),\n",
              " ('available', 'JJ'),\n",
              " ('for', 'IN'),\n",
              " ('possible', 'JJ'),\n",
              " ('modification', 'NN'),\n",
              " ('and', 'CC'),\n",
              " ('redistribution', 'NN'),\n",
              " ('.', '.'),\n",
              " ('Products', 'NNS'),\n",
              " ('include', 'VBP'),\n",
              " ('permission', 'NN'),\n",
              " ('to', 'TO'),\n",
              " ('use', 'VB'),\n",
              " ('the', 'DT'),\n",
              " ('source', 'NN'),\n",
              " ('code', 'NN'),\n",
              " (',', ','),\n",
              " ('design', 'NN'),\n",
              " ('documents', 'NNS'),\n",
              " (',', ','),\n",
              " ('or', 'CC'),\n",
              " ('content', 'NN'),\n",
              " ('of', 'IN'),\n",
              " ('the', 'DT'),\n",
              " ('product', 'NN'),\n",
              " ('.', '.'),\n",
              " ('The', 'DT'),\n",
              " ('open-source', 'JJ'),\n",
              " ('model', 'NN'),\n",
              " ('is', 'VBZ'),\n",
              " ('a', 'DT'),\n",
              " ('decentralized', 'JJ'),\n",
              " ('software', 'NN'),\n",
              " ('development', 'NN'),\n",
              " ('model', 'NN'),\n",
              " ('that', 'WDT'),\n",
              " ('encourages', 'VBZ'),\n",
              " ('open', 'JJ'),\n",
              " ('collaboration', 'NN'),\n",
              " ('.', '.'),\n",
              " ('A', 'DT'),\n",
              " ('main', 'JJ'),\n",
              " ('principle', 'NN'),\n",
              " ('of', 'IN'),\n",
              " ('open-source', 'JJ'),\n",
              " ('software', 'NN'),\n",
              " ('development', 'NN'),\n",
              " ('is', 'VBZ'),\n",
              " ('peer', 'JJ'),\n",
              " ('production', 'NN'),\n",
              " (',', ','),\n",
              " ('with', 'IN'),\n",
              " ('products', 'NNS'),\n",
              " ('such', 'JJ'),\n",
              " ('as', 'IN'),\n",
              " ('source', 'NN'),\n",
              " ('code', 'NN'),\n",
              " (',', ','),\n",
              " ('blueprints', 'NNS'),\n",
              " (',', ','),\n",
              " ('and', 'CC'),\n",
              " ('documentation', 'NN'),\n",
              " ('freely', 'RB'),\n",
              " ('available', 'JJ'),\n",
              " ('to', 'TO'),\n",
              " ('the', 'DT'),\n",
              " ('public', 'NN'),\n",
              " ('.', '.'),\n",
              " ('The', 'DT'),\n",
              " ('open-source', 'JJ'),\n",
              " ('movement', 'NN'),\n",
              " ('in', 'IN'),\n",
              " ('software', 'NN'),\n",
              " ('began', 'VBD'),\n",
              " ('as', 'IN'),\n",
              " ('a', 'DT'),\n",
              " ('response', 'NN'),\n",
              " ('to', 'TO'),\n",
              " ('the', 'DT'),\n",
              " ('limitations', 'NNS'),\n",
              " ('of', 'IN'),\n",
              " ('proprietary', 'JJ'),\n",
              " ('code', 'NN'),\n",
              " ('.', '.'),\n",
              " ('The', 'DT'),\n",
              " ('model', 'NN'),\n",
              " ('is', 'VBZ'),\n",
              " ('used', 'VBN'),\n",
              " ('for', 'IN'),\n",
              " ('projects', 'NNS'),\n",
              " ('such', 'JJ'),\n",
              " ('as', 'IN'),\n",
              " ('in', 'IN'),\n",
              " ('open-source', 'JJ'),\n",
              " ('appropriate', 'JJ'),\n",
              " ('technology', 'NN'),\n",
              " (',', ','),\n",
              " ('and', 'CC'),\n",
              " ('open-source', 'JJ'),\n",
              " ('drug', 'NN'),\n",
              " ('discovery', 'NN'),\n",
              " ('.', '.')]"
            ]
          },
          "metadata": {},
          "execution_count": 24
        }
      ]
    },
    {
      "cell_type": "code",
      "metadata": {
        "id": "XTz7zMWb1iI7"
      },
      "source": [
        ""
      ],
      "execution_count": null,
      "outputs": []
    }
  ]
}