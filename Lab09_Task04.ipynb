{
  "nbformat": 4,
  "nbformat_minor": 0,
  "metadata": {
    "colab": {
      "name": "Lab09-Task04.ipynb",
      "provenance": [],
      "collapsed_sections": [],
      "authorship_tag": "ABX9TyNRKeC3dUzKyxaPH/cp/+LQ",
      "include_colab_link": true
    },
    "kernelspec": {
      "name": "python3",
      "display_name": "Python 3"
    },
    "language_info": {
      "name": "python"
    }
  },
  "cells": [
    {
      "cell_type": "markdown",
      "metadata": {
        "id": "view-in-github",
        "colab_type": "text"
      },
      "source": [
        "<a href=\"https://colab.research.google.com/github/krystal826/Natural-Language-Processing/blob/main/Lab09_Task04.ipynb\" target=\"_parent\"><img src=\"https://colab.research.google.com/assets/colab-badge.svg\" alt=\"Open In Colab\"/></a>"
      ]
    },
    {
      "cell_type": "markdown",
      "source": [
        "#Task 4: Probabilistic Context-free grammar (PCFG)\n"
      ],
      "metadata": {
        "id": "GZx4uaMPleNh"
      }
    },
    {
      "cell_type": "code",
      "execution_count": 1,
      "metadata": {
        "id": "EMG3-wT0lYrV"
      },
      "outputs": [],
      "source": [
        "import nltk\n",
        "from nltk import CFG, PCFG\n",
        "from nltk.parse.generate import generate"
      ]
    },
    {
      "cell_type": "code",
      "source": [
        "grammar = nltk.PCFG.fromstring(\"\"\"\n",
        "    S -> NP VP     [1.0]\n",
        "    PP -> P NP     [1.0]\n",
        "    VP -> V NP     [0.7]\n",
        "    VP -> VP PP    [0.3]\n",
        "    NP -> NP PP    [0.40] \n",
        "    NP -> 'astronomers' [0.1]\n",
        "    NP -> 'eyes' [0.18]\n",
        "    NP -> 'saw' [0.04]\n",
        "    NP -> 'stars' [0.18]\n",
        "    NP -> 'telescopes' [0.1]\n",
        "    V -> 'saw'    [1.0]\n",
        "    P -> 'with'      [1.0]\n",
        "\"\"\")"
      ],
      "metadata": {
        "id": "8G57k9mNnBoN"
      },
      "execution_count": 2,
      "outputs": []
    },
    {
      "cell_type": "markdown",
      "source": [
        "#Generate all possible parse trees"
      ],
      "metadata": {
        "id": "dLAoejNDoL5R"
      }
    },
    {
      "cell_type": "code",
      "source": [
        "sentence = ['astronomers', 'saw', 'stars', 'with', 'eyes']\n",
        "parser = nltk.ChartParser(grammar)\n",
        "\n",
        "for tree in parser.parse(sentence):\n",
        "    tree.pretty_print()"
      ],
      "metadata": {
        "colab": {
          "base_uri": "https://localhost:8080/"
        },
        "id": "Q9uGmIV_nB00",
        "outputId": "e6f3e8d3-3027-424e-95cb-ea19929f6579"
      },
      "execution_count": 3,
      "outputs": [
        {
          "output_type": "stream",
          "name": "stdout",
          "text": [
            "                      S                    \n",
            "      ________________|____                 \n",
            "     |                     VP              \n",
            "     |            _________|________        \n",
            "     |           VP                 PP     \n",
            "     |        ___|____          ____|___    \n",
            "     NP      V        NP       P        NP \n",
            "     |       |        |        |        |   \n",
            "astronomers saw     stars     with     eyes\n",
            "\n",
            "                  S                    \n",
            "      ____________|____                 \n",
            "     |                 VP              \n",
            "     |        _________|___             \n",
            "     |       |             NP          \n",
            "     |       |     ________|____        \n",
            "     |       |    |             PP     \n",
            "     |       |    |         ____|___    \n",
            "     NP      V    NP       P        NP \n",
            "     |       |    |        |        |   \n",
            "astronomers saw stars     with     eyes\n",
            "\n"
          ]
        }
      ]
    },
    {
      "cell_type": "markdown",
      "source": [
        "#Calculate probability for each parse tree"
      ],
      "metadata": {
        "id": "KY5dCE3hoRCW"
      }
    },
    {
      "cell_type": "code",
      "source": [
        "from nltk.parse import pchart\n",
        "parser = pchart.InsideChartParser(grammar)\n",
        "\n",
        "parses = parser.parse_all(sentence)\n",
        "for parse in parses:\n",
        "    print(parse)"
      ],
      "metadata": {
        "colab": {
          "base_uri": "https://localhost:8080/"
        },
        "id": "7M8faaFqn10T",
        "outputId": "a8570233-3c48-4dee-8fe0-3a867a95bea6"
      },
      "execution_count": 4,
      "outputs": [
        {
          "output_type": "stream",
          "name": "stdout",
          "text": [
            "(S\n",
            "  (NP astronomers)\n",
            "  (VP (V saw) (NP (NP stars) (PP (P with) (NP eyes))))) (p=0.0009072)\n",
            "(S\n",
            "  (NP astronomers)\n",
            "  (VP (VP (V saw) (NP stars)) (PP (P with) (NP eyes)))) (p=0.0006804)\n"
          ]
        }
      ]
    },
    {
      "cell_type": "code",
      "source": [
        ""
      ],
      "metadata": {
        "id": "sGxIT-qqn-9T"
      },
      "execution_count": null,
      "outputs": []
    }
  ]
}