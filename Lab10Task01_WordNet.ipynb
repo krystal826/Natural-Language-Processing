{
  "cells": [
    {
      "cell_type": "markdown",
      "metadata": {
        "id": "view-in-github",
        "colab_type": "text"
      },
      "source": [
        "<a href=\"https://colab.research.google.com/github/krystal826/Natural-Language-Processing/blob/main/Lab10Task01_WordNet.ipynb\" target=\"_parent\"><img src=\"https://colab.research.google.com/assets/colab-badge.svg\" alt=\"Open In Colab\"/></a>"
      ]
    },
    {
      "cell_type": "markdown",
      "metadata": {
        "id": "zz1Hz8vi18b8"
      },
      "source": [
        "# Exploring WordNet"
      ]
    },
    {
      "cell_type": "code",
      "execution_count": 6,
      "metadata": {
        "colab": {
          "base_uri": "https://localhost:8080/"
        },
        "id": "6d1NvzfR18b_",
        "outputId": "1749f64c-d99f-4612-e756-b36b857f9d8f"
      },
      "outputs": [
        {
          "output_type": "stream",
          "name": "stdout",
          "text": [
            "[nltk_data] Downloading package wordnet to /root/nltk_data...\n",
            "[nltk_data]   Unzipping corpora/wordnet.zip.\n"
          ]
        },
        {
          "output_type": "execute_result",
          "data": {
            "text/plain": [
              "True"
            ]
          },
          "metadata": {},
          "execution_count": 6
        }
      ],
      "source": [
        "import nltk\n",
        "from nltk.corpus import wordnet as wn\n",
        "import pandas as pd\n",
        "nltk.download('wordnet')"
      ]
    },
    {
      "cell_type": "markdown",
      "metadata": {
        "id": "2UuG630E18cA"
      },
      "source": [
        "# Exploring WordNet: Synsets"
      ]
    },
    {
      "cell_type": "code",
      "execution_count": 7,
      "metadata": {
        "colab": {
          "base_uri": "https://localhost:8080/"
        },
        "id": "WYeOhVB718cA",
        "outputId": "77d02114-7a2f-413b-b0a2-e2c601763946"
      },
      "outputs": [
        {
          "output_type": "stream",
          "name": "stdout",
          "text": [
            "Total Synsets: 5\n"
          ]
        }
      ],
      "source": [
        "term = 'fruit'\n",
        "synsets = wn.synsets(term)\n",
        "#display total synsets\n",
        "print('Total Synsets:', len(synsets))"
      ]
    },
    {
      "cell_type": "code",
      "execution_count": 8,
      "metadata": {
        "colab": {
          "base_uri": "https://localhost:8080/",
          "height": 327
        },
        "id": "eEhc-mTP18cB",
        "outputId": "17104cf8-2611-4318-ba11-d9f045a3d0cb"
      },
      "outputs": [
        {
          "output_type": "execute_result",
          "data": {
            "text/html": [
              "<div>\n",
              "<style scoped>\n",
              "    .dataframe tbody tr th:only-of-type {\n",
              "        vertical-align: middle;\n",
              "    }\n",
              "\n",
              "    .dataframe tbody tr th {\n",
              "        vertical-align: top;\n",
              "    }\n",
              "\n",
              "    .dataframe thead th {\n",
              "        text-align: right;\n",
              "    }\n",
              "</style>\n",
              "<table border=\"1\" class=\"dataframe\">\n",
              "  <thead>\n",
              "    <tr style=\"text-align: right;\">\n",
              "      <th></th>\n",
              "      <th>Synset</th>\n",
              "      <th>Part of Speech</th>\n",
              "      <th>Definition</th>\n",
              "      <th>Lemmas</th>\n",
              "      <th>Examples</th>\n",
              "    </tr>\n",
              "  </thead>\n",
              "  <tbody>\n",
              "    <tr>\n",
              "      <th>0</th>\n",
              "      <td>Synset('fruit.n.01')</td>\n",
              "      <td>noun.plant</td>\n",
              "      <td>the ripened reproductive body of a seed plant</td>\n",
              "      <td>[fruit]</td>\n",
              "      <td>[]</td>\n",
              "    </tr>\n",
              "    <tr>\n",
              "      <th>1</th>\n",
              "      <td>Synset('yield.n.03')</td>\n",
              "      <td>noun.artifact</td>\n",
              "      <td>an amount of a product</td>\n",
              "      <td>[yield, fruit]</td>\n",
              "      <td>[]</td>\n",
              "    </tr>\n",
              "    <tr>\n",
              "      <th>2</th>\n",
              "      <td>Synset('fruit.n.03')</td>\n",
              "      <td>noun.event</td>\n",
              "      <td>the consequence of some effort or action</td>\n",
              "      <td>[fruit]</td>\n",
              "      <td>[he lived long enough to see the fruit of his policies]</td>\n",
              "    </tr>\n",
              "    <tr>\n",
              "      <th>3</th>\n",
              "      <td>Synset('fruit.v.01')</td>\n",
              "      <td>verb.creation</td>\n",
              "      <td>cause to bear fruit</td>\n",
              "      <td>[fruit]</td>\n",
              "      <td>[]</td>\n",
              "    </tr>\n",
              "    <tr>\n",
              "      <th>4</th>\n",
              "      <td>Synset('fruit.v.02')</td>\n",
              "      <td>verb.creation</td>\n",
              "      <td>bear fruit</td>\n",
              "      <td>[fruit]</td>\n",
              "      <td>[the trees fruited early this year]</td>\n",
              "    </tr>\n",
              "  </tbody>\n",
              "</table>\n",
              "</div>"
            ],
            "text/plain": [
              "                 Synset  ...                                                 Examples\n",
              "0  Synset('fruit.n.01')  ...                                                       []\n",
              "1  Synset('yield.n.03')  ...                                                       []\n",
              "2  Synset('fruit.n.03')  ...  [he lived long enough to see the fruit of his policies]\n",
              "3  Synset('fruit.v.01')  ...                                                       []\n",
              "4  Synset('fruit.v.02')  ...                      [the trees fruited early this year]\n",
              "\n",
              "[5 rows x 5 columns]"
            ]
          },
          "metadata": {},
          "execution_count": 8
        }
      ],
      "source": [
        "pd.options.display.max_colwidth = 200\n",
        "fruit_df = pd.DataFrame([{'Synset': synset,\n",
        "                         'Part of Speech': synset.lexname(),\n",
        "                         'Definition': synset.definition(),\n",
        "                         'Lemmas': synset.lemma_names(),\n",
        "                         'Examples': synset.examples()}\n",
        "                        for synset in synsets])\n",
        "fruit_df"
      ]
    },
    {
      "cell_type": "markdown",
      "metadata": {
        "id": "V3--xoLs18cC"
      },
      "source": [
        "# Exploring WordNet: Synonyms & Antonyms"
      ]
    },
    {
      "cell_type": "code",
      "execution_count": 9,
      "metadata": {
        "colab": {
          "base_uri": "https://localhost:8080/",
          "height": 1000
        },
        "id": "KT714yzz18cC",
        "outputId": "769e00bf-e041-4524-a056-11a7f5c738ae"
      },
      "outputs": [
        {
          "output_type": "stream",
          "name": "stdout",
          "text": [
            "Total Synsets: 11\n"
          ]
        },
        {
          "output_type": "execute_result",
          "data": {
            "text/html": [
              "<div>\n",
              "<style scoped>\n",
              "    .dataframe tbody tr th:only-of-type {\n",
              "        vertical-align: middle;\n",
              "    }\n",
              "\n",
              "    .dataframe tbody tr th {\n",
              "        vertical-align: top;\n",
              "    }\n",
              "\n",
              "    .dataframe thead th {\n",
              "        text-align: right;\n",
              "    }\n",
              "</style>\n",
              "<table border=\"1\" class=\"dataframe\">\n",
              "  <thead>\n",
              "    <tr style=\"text-align: right;\">\n",
              "      <th></th>\n",
              "      <th>Synset</th>\n",
              "      <th>Part of Speech</th>\n",
              "      <th>Definition</th>\n",
              "      <th>Lemmas</th>\n",
              "      <th>Examples</th>\n",
              "    </tr>\n",
              "  </thead>\n",
              "  <tbody>\n",
              "    <tr>\n",
              "      <th>0</th>\n",
              "      <td>Synset('large.n.01')</td>\n",
              "      <td>noun.attribute</td>\n",
              "      <td>a garment size for a large person</td>\n",
              "      <td>[large]</td>\n",
              "      <td>[]</td>\n",
              "    </tr>\n",
              "    <tr>\n",
              "      <th>1</th>\n",
              "      <td>Synset('large.a.01')</td>\n",
              "      <td>adj.all</td>\n",
              "      <td>above average in size or number or quantity or magnitude or extent</td>\n",
              "      <td>[large, big]</td>\n",
              "      <td>[a large city, set out for the big city, a large sum, a big (or large) barn, a large family, big businesses, a big expenditure, a large number of newspapers, a big group of scientists, large areas...</td>\n",
              "    </tr>\n",
              "    <tr>\n",
              "      <th>2</th>\n",
              "      <td>Synset('large.s.02')</td>\n",
              "      <td>adj.all</td>\n",
              "      <td>fairly large or important in effect; influential</td>\n",
              "      <td>[large]</td>\n",
              "      <td>[played a large role in the negotiations]</td>\n",
              "    </tr>\n",
              "    <tr>\n",
              "      <th>3</th>\n",
              "      <td>Synset('bombastic.s.01')</td>\n",
              "      <td>adj.all</td>\n",
              "      <td>ostentatiously lofty in style</td>\n",
              "      <td>[bombastic, declamatory, large, orotund, tumid, turgid]</td>\n",
              "      <td>[a man given to large talk, tumid political prose]</td>\n",
              "    </tr>\n",
              "    <tr>\n",
              "      <th>4</th>\n",
              "      <td>Synset('big.s.11')</td>\n",
              "      <td>adj.all</td>\n",
              "      <td>generous and understanding and tolerant</td>\n",
              "      <td>[big, large, magnanimous]</td>\n",
              "      <td>[a heart big enough to hold no grudges, that's very big of you to be so forgiving, a large and generous spirit, a large heart, magnanimous toward his enemies]</td>\n",
              "    </tr>\n",
              "    <tr>\n",
              "      <th>5</th>\n",
              "      <td>Synset('big.s.05')</td>\n",
              "      <td>adj.all</td>\n",
              "      <td>conspicuous in position or importance</td>\n",
              "      <td>[big, large, prominent]</td>\n",
              "      <td>[a big figure in the movement, big man on campus, he's very large in financial circles, a prominent citizen]</td>\n",
              "    </tr>\n",
              "    <tr>\n",
              "      <th>6</th>\n",
              "      <td>Synset('large.s.06')</td>\n",
              "      <td>adj.all</td>\n",
              "      <td>having broad power and range and scope</td>\n",
              "      <td>[large]</td>\n",
              "      <td>[taking the large view, a large effect, a large sympathy]</td>\n",
              "    </tr>\n",
              "    <tr>\n",
              "      <th>7</th>\n",
              "      <td>Synset('big.s.13')</td>\n",
              "      <td>adj.all</td>\n",
              "      <td>in an advanced stage of pregnancy</td>\n",
              "      <td>[big, enceinte, expectant, gravid, great, large, heavy, with_child]</td>\n",
              "      <td>[was big with child, was great with child]</td>\n",
              "    </tr>\n",
              "    <tr>\n",
              "      <th>8</th>\n",
              "      <td>Synset('large.r.01')</td>\n",
              "      <td>adv.all</td>\n",
              "      <td>at a distance, wide of something (as of a mark)</td>\n",
              "      <td>[large]</td>\n",
              "      <td>[]</td>\n",
              "    </tr>\n",
              "    <tr>\n",
              "      <th>9</th>\n",
              "      <td>Synset('large.r.02')</td>\n",
              "      <td>adv.all</td>\n",
              "      <td>with the wind abaft the beam</td>\n",
              "      <td>[large]</td>\n",
              "      <td>[a ship sailing large]</td>\n",
              "    </tr>\n",
              "    <tr>\n",
              "      <th>10</th>\n",
              "      <td>Synset('boastfully.r.01')</td>\n",
              "      <td>adv.all</td>\n",
              "      <td>in a boastful manner</td>\n",
              "      <td>[boastfully, vauntingly, big, large]</td>\n",
              "      <td>[he talked big all evening]</td>\n",
              "    </tr>\n",
              "  </tbody>\n",
              "</table>\n",
              "</div>"
            ],
            "text/plain": [
              "                       Synset  ...                                                                                                                                                                                                 Examples\n",
              "0        Synset('large.n.01')  ...                                                                                                                                                                                                       []\n",
              "1        Synset('large.a.01')  ...  [a large city, set out for the big city, a large sum, a big (or large) barn, a large family, big businesses, a big expenditure, a large number of newspapers, a big group of scientists, large areas...\n",
              "2        Synset('large.s.02')  ...                                                                                                                                                                [played a large role in the negotiations]\n",
              "3    Synset('bombastic.s.01')  ...                                                                                                                                                       [a man given to large talk, tumid political prose]\n",
              "4          Synset('big.s.11')  ...                                           [a heart big enough to hold no grudges, that's very big of you to be so forgiving, a large and generous spirit, a large heart, magnanimous toward his enemies]\n",
              "5          Synset('big.s.05')  ...                                                                                             [a big figure in the movement, big man on campus, he's very large in financial circles, a prominent citizen]\n",
              "6        Synset('large.s.06')  ...                                                                                                                                                [taking the large view, a large effect, a large sympathy]\n",
              "7          Synset('big.s.13')  ...                                                                                                                                                               [was big with child, was great with child]\n",
              "8        Synset('large.r.01')  ...                                                                                                                                                                                                       []\n",
              "9        Synset('large.r.02')  ...                                                                                                                                                                                   [a ship sailing large]\n",
              "10  Synset('boastfully.r.01')  ...                                                                                                                                                                              [he talked big all evening]\n",
              "\n",
              "[11 rows x 5 columns]"
            ]
          },
          "metadata": {},
          "execution_count": 9
        }
      ],
      "source": [
        "term = 'large'\n",
        "synsets = wn.synsets(term)\n",
        "print('Total Synsets:', len(synsets))\n",
        "pd.options.display.max_colwidth = 200\n",
        "large_df = pd.DataFrame([{'Synset': synset,\n",
        "                         'Part of Speech': synset.lexname(),\n",
        "                         'Definition': synset.definition(),\n",
        "                         'Lemmas': synset.lemma_names(),\n",
        "                         'Examples': synset.examples()}\n",
        "                        for synset in synsets])\n",
        "large_df"
      ]
    },
    {
      "cell_type": "markdown",
      "metadata": {
        "id": "UVn7ue_p18cD"
      },
      "source": [
        "## Finding synonym and antonym for \"large\""
      ]
    },
    {
      "cell_type": "code",
      "execution_count": 10,
      "metadata": {
        "colab": {
          "base_uri": "https://localhost:8080/"
        },
        "id": "-mEk3jPz18cD",
        "outputId": "a0f39579-f8b6-4ba6-c625-142a0c34f809"
      },
      "outputs": [
        {
          "output_type": "stream",
          "name": "stdout",
          "text": [
            "Synonym: large.a.01\n",
            "Definition: above average in size or number or quantity or magnitude or extent\n",
            "Antonym: small.a.01\n",
            "Definition: limited or below average in number or quantity or magnitude or extent\n"
          ]
        }
      ],
      "source": [
        "adj_large = synsets[1]\n",
        "adj_large = adj_large.lemmas()[0]\n",
        "adj_large_synonym = adj_large.synset()\n",
        "adj_large_antonym = adj_large.antonyms()[0].synset()\n",
        "print('Synonym:', adj_large_synonym.name())\n",
        "print('Definition:', adj_large_synonym.definition())\n",
        "print('Antonym:', adj_large_antonym.name())\n",
        "print('Definition:', adj_large_antonym.definition())"
      ]
    },
    {
      "cell_type": "markdown",
      "metadata": {
        "id": "6QzbE3t-18cE"
      },
      "source": [
        "# Exploring WordNet: Hyponyms & Hypernyms"
      ]
    },
    {
      "cell_type": "code",
      "execution_count": 11,
      "metadata": {
        "colab": {
          "base_uri": "https://localhost:8080/"
        },
        "id": "NGXNBhz318cE",
        "outputId": "7966b6af-c016-4a6d-e312-ddd39e7bffee"
      },
      "outputs": [
        {
          "output_type": "stream",
          "name": "stdout",
          "text": [
            "Total Synsets: 7\n",
            "Name: tree.n.01\n",
            "Definition: a tall perennial woody plant having a main trunk and branches forming a distinct elevated crown; includes both gymnosperms and angiosperms\n"
          ]
        }
      ],
      "source": [
        "term = 'tree'\n",
        "synsets = wn.synsets(term)\n",
        "print('Total Synsets:', len(synsets))\n",
        "tree = synsets[0]\n",
        "print('Name:', tree.name())\n",
        "print('Definition:', tree.definition())"
      ]
    },
    {
      "cell_type": "code",
      "execution_count": 12,
      "metadata": {
        "colab": {
          "base_uri": "https://localhost:8080/"
        },
        "id": "JCdQtzX418cE",
        "outputId": "7c9f6fbf-2bc7-4711-a42b-798309b8225d"
      },
      "outputs": [
        {
          "output_type": "stream",
          "name": "stdout",
          "text": [
            "[Synset('woody_plant.n.01')]\n"
          ]
        }
      ],
      "source": [
        "hypernym = tree.hypernyms()\n",
        "print(hypernym)"
      ]
    },
    {
      "cell_type": "code",
      "execution_count": 13,
      "metadata": {
        "colab": {
          "base_uri": "https://localhost:8080/"
        },
        "id": "iuUlld4L18cF",
        "outputId": "836d6e44-a20c-4bc5-d236-b0023455a841"
      },
      "outputs": [
        {
          "output_type": "stream",
          "name": "stdout",
          "text": [
            "Total hyponym: 180\n",
            "Sample hyponyms\n",
            "aalii.n.01   a small Hawaiian tree with hard dark wood\n",
            "acacia.n.01   any of various spiny trees or shrubs of the genus Acacia\n",
            "african_walnut.n.01   tropical African timber tree with wood that resembles mahogany\n",
            "albizzia.n.01   any of numerous trees of the genus Albizia\n",
            "alder.n.02   north temperate shrubs or trees having toothed leaves and conelike fruit; bark is used in tanning and dyeing and the wood is rot-resistant\n",
            "angelim.n.01   any of several tropical American trees of the genus Andira\n",
            "angiospermous_tree.n.01   any tree having seeds and ovules contained in the ovary\n",
            "anise_tree.n.01   any of several evergreen shrubs and small trees of the genus Illicium\n",
            "arbor.n.01   tree (as opposed to shrub)\n",
            "aroeira_blanca.n.01   small resinous tree or shrub of Brazil\n"
          ]
        }
      ],
      "source": [
        "hyponyms = tree.hyponyms()\n",
        "print('Total hyponym:', len(hyponyms))\n",
        "print('Sample hyponyms')\n",
        "for hyponym in hyponyms[:10]:\n",
        "    print(hyponym.name(), ' ',hyponym.definition())"
      ]
    },
    {
      "cell_type": "markdown",
      "metadata": {
        "id": "95ljU8qb18cF"
      },
      "source": [
        "# Exploring WordNet: Holonyms & Meronyms"
      ]
    },
    {
      "cell_type": "code",
      "execution_count": 14,
      "metadata": {
        "colab": {
          "base_uri": "https://localhost:8080/"
        },
        "id": "4xAwTc1Y18cF",
        "outputId": "e99443dc-220a-475c-ce2b-e4e2a7561c8f"
      },
      "outputs": [
        {
          "output_type": "stream",
          "name": "stdout",
          "text": [
            "{'active_agent', 'dynamic', 'combat-ready', 'participating', 'fighting', 'alive', 'active', 'active_voice'}\n",
            "{'quiet', 'dormant', 'stative', 'extinct', 'passive_voice', 'inactive', 'passive'}\n"
          ]
        }
      ],
      "source": [
        "from nltk.corpus import wordnet\n",
        "synonyms = []\n",
        "antonyms = []\n",
        "\n",
        "for syn in wordnet.synsets(\"active\"):\n",
        "    for l in syn.lemmas():\n",
        "        synonyms.append(l.name())\n",
        "        if l.antonyms():\n",
        "            antonyms.append(l.antonyms()[0].name())\n",
        "\n",
        "print(set(synonyms))\n",
        "print(set(antonyms))"
      ]
    },
    {
      "cell_type": "code",
      "execution_count": 15,
      "metadata": {
        "colab": {
          "base_uri": "https://localhost:8080/"
        },
        "id": "oqFZ1XDx18cG",
        "outputId": "7a9cee9a-4e87-4d5f-9d5d-a6b3316a121c"
      },
      "outputs": [
        {
          "output_type": "stream",
          "name": "stdout",
          "text": [
            "{'turgid', 'large', 'orotund', 'with_child', 'great', 'declamatory', 'vauntingly', 'magnanimous', 'bombastic', 'prominent', 'gravid', 'expectant', 'enceinte', 'heavy', 'boastfully', 'big', 'tumid'}\n",
            "{'small', 'little'}\n"
          ]
        }
      ],
      "source": [
        "from nltk.corpus import wordnet\n",
        "synonyms = []\n",
        "antonyms = []\n",
        "\n",
        "for syn in wordnet.synsets(\"large\"):\n",
        "    for l in syn.lemmas():\n",
        "        synonyms.append(l.name())\n",
        "        if l.antonyms():\n",
        "            antonyms.append(l.antonyms()[0].name())\n",
        "\n",
        "print(set(synonyms))\n",
        "print(set(antonyms))"
      ]
    },
    {
      "cell_type": "markdown",
      "metadata": {
        "id": "R-qNYQZj18cG"
      },
      "source": [
        "# https://medium.com/parrot-prediction/dive-into-wordnet-with-nltk-b313c480e788"
      ]
    },
    {
      "cell_type": "code",
      "execution_count": 36,
      "metadata": {
        "colab": {
          "base_uri": "https://localhost:8080/"
        },
        "id": "6P4vPYCd18cG",
        "outputId": "681e6b6f-3bb8-4bde-ba87-cfde4664b5c0"
      },
      "outputs": [
        {
          "output_type": "stream",
          "name": "stdout",
          "text": [
            "Lemma: printer.n.01\n",
            "Definition: someone whose occupation is printing\n",
            "Example: []\n",
            "Lemma: printer.n.02\n",
            "Definition: (computer science) an output device that prints the results of data processing\n",
            "Example: []\n",
            "Lemma: printer.n.03\n",
            "Definition: a machine that prints\n",
            "Example: []\n"
          ]
        }
      ],
      "source": [
        "for synset in wn.synsets('printer'):\n",
        "    print(\"Lemma: {}\".format(synset.name()))\n",
        "    print(\"Definition: {}\".format(synset.definition()))\n",
        "    print(\"Example: {}\".format(synset.examples()))"
      ]
    },
    {
      "cell_type": "code",
      "execution_count": 37,
      "metadata": {
        "colab": {
          "base_uri": "https://localhost:8080/"
        },
        "id": "ntn-6rsk18cG",
        "outputId": "f8383a73-bd7d-4267-d097-e484301e9e2d"
      },
      "outputs": [
        {
          "output_type": "execute_result",
          "data": {
            "text/plain": [
              "['Addressograph',\n",
              " 'addressing_machine',\n",
              " 'character-at-a-time_printer',\n",
              " 'character_printer',\n",
              " 'electrostatic_printer',\n",
              " 'impact_printer',\n",
              " 'line-at-a-time_printer',\n",
              " 'line_printer',\n",
              " 'page-at-a-time_printer',\n",
              " 'page_printer',\n",
              " 'printer',\n",
              " 'serial_printer',\n",
              " 'thermal_printer',\n",
              " 'typesetting_machine']"
            ]
          },
          "metadata": {},
          "execution_count": 37
        }
      ],
      "source": [
        "machine_that_prints = wn.synset('printer.n.03')\n",
        "sorted([lemma.name() for synset in machine_that_prints.hyponyms() \n",
        "        for lemma in synset.lemmas()])"
      ]
    },
    {
      "cell_type": "code",
      "execution_count": 38,
      "metadata": {
        "colab": {
          "base_uri": "https://localhost:8080/"
        },
        "id": "4DIPLhIj18cH",
        "outputId": "bfc771f7-54c8-4c96-9703-ee31e7bb8518"
      },
      "outputs": [
        {
          "output_type": "execute_result",
          "data": {
            "text/plain": [
              "['machine']"
            ]
          },
          "metadata": {},
          "execution_count": 38
        }
      ],
      "source": [
        "[lemma.name() for synset in  machine_that_prints.hypernyms() \n",
        " for lemma in synset.lemmas()]"
      ]
    },
    {
      "cell_type": "code",
      "execution_count": 39,
      "metadata": {
        "colab": {
          "base_uri": "https://localhost:8080/"
        },
        "id": "TSEqajNS18cH",
        "outputId": "5af234db-5037-439b-f818-cf33d1cd410c"
      },
      "outputs": [
        {
          "output_type": "execute_result",
          "data": {
            "text/plain": [
              "[Synset('entity.n.01')]"
            ]
          },
          "metadata": {},
          "execution_count": 39
        }
      ],
      "source": [
        "machine_that_prints.root_hypernyms()"
      ]
    },
    {
      "cell_type": "code",
      "execution_count": 40,
      "metadata": {
        "colab": {
          "base_uri": "https://localhost:8080/"
        },
        "id": "vlsqMN0818cH",
        "outputId": "c60ab882-6459-4034-c338-498e34d36e6e"
      },
      "outputs": [
        {
          "output_type": "execute_result",
          "data": {
            "text/plain": [
              "['entity.n.01',\n",
              " 'physical_entity.n.01',\n",
              " 'object.n.01',\n",
              " 'whole.n.02',\n",
              " 'artifact.n.01',\n",
              " 'instrumentality.n.03',\n",
              " 'device.n.01',\n",
              " 'machine.n.01',\n",
              " 'printer.n.03']"
            ]
          },
          "metadata": {},
          "execution_count": 40
        }
      ],
      "source": [
        "[synset.name() for synset in machine_that_prints.hypernym_paths()[0]]"
      ]
    },
    {
      "cell_type": "markdown",
      "metadata": {
        "id": "eY9d3BRu18cH"
      },
      "source": [
        "# https://www.geeksforgeeks.org/nlp-synsets-for-a-word-in-wordnet/"
      ]
    },
    {
      "cell_type": "code",
      "execution_count": 21,
      "metadata": {
        "colab": {
          "base_uri": "https://localhost:8080/"
        },
        "id": "8AltGF2p18cH",
        "outputId": "c354484c-00af-4731-fc9a-f5f4d9c5a23e"
      },
      "outputs": [
        {
          "output_type": "stream",
          "name": "stdout",
          "text": [
            "Synset name :   hello.n.01\n",
            "\n",
            "Synset meaning :  an expression of greeting\n",
            "\n",
            "Synset example :  ['every morning they exchanged polite hellos']\n"
          ]
        }
      ],
      "source": [
        "from nltk.corpus import wordnet \n",
        "syn = wordnet.synsets('hello')[0] \n",
        "  \n",
        "print (\"Synset name :  \", syn.name()) \n",
        "  \n",
        "# Defining the word \n",
        "print (\"\\nSynset meaning : \", syn.definition()) \n",
        "  \n",
        "# list of phrases that use the word in context \n",
        "print (\"\\nSynset example : \", syn.examples()) "
      ]
    },
    {
      "cell_type": "code",
      "execution_count": 22,
      "metadata": {
        "colab": {
          "base_uri": "https://localhost:8080/"
        },
        "id": "M3jpkYPV18cI",
        "outputId": "6923e257-5e59-4ae7-fb7f-50a62470cfab"
      },
      "outputs": [
        {
          "output_type": "stream",
          "name": "stdout",
          "text": [
            "Synset name :   hello.n.01\n",
            "\n",
            "Synset abstract term :   [Synset('greeting.n.01')]\n",
            "\n",
            "Synset specific term :   [Synset('calling_card.n.02'), Synset('good_afternoon.n.01'), Synset('good_morning.n.01'), Synset('hail.n.03'), Synset('hello.n.01'), Synset('pax.n.01'), Synset('reception.n.01'), Synset('regard.n.03'), Synset('salute.n.02'), Synset('salute.n.03'), Synset('welcome.n.02'), Synset('well-wishing.n.01')]\n",
            "\n",
            "Synset root hypernerm :   [Synset('entity.n.01')]\n"
          ]
        }
      ],
      "source": [
        "print (\"Synset name :  \", syn.name()) \n",
        "  \n",
        "print (\"\\nSynset abstract term :  \", syn.hypernyms()) \n",
        "  \n",
        "print (\"\\nSynset specific term :  \",  \n",
        "       syn.hypernyms()[0].hyponyms()) \n",
        "  \n",
        "syn.root_hypernyms() \n",
        "  \n",
        "print (\"\\nSynset root hypernerm :  \", syn.root_hypernyms())"
      ]
    },
    {
      "cell_type": "markdown",
      "metadata": {
        "id": "eRhHmcn318cI"
      },
      "source": [
        "# Find a definition and example of sentence for a word"
      ]
    },
    {
      "cell_type": "code",
      "execution_count": 23,
      "metadata": {
        "colab": {
          "base_uri": "https://localhost:8080/"
        },
        "id": "cYkicZD718cI",
        "outputId": "a9c098eb-f302-4244-e2d4-5e6fc4a2b6d0"
      },
      "outputs": [
        {
          "output_type": "stream",
          "name": "stdout",
          "text": [
            "plan.n.01\n",
            "Lemma:  plan\n",
            "Definition:  a series of steps to be carried out or goals to be accomplished\n",
            "Example of sentence:  ['they drew up a six-step plan', 'they discussed plans for a new bond issue']\n"
          ]
        }
      ],
      "source": [
        "from nltk.corpus import wordnet \n",
        "  \n",
        "# Then, we're going to use the term \"program\" to find synsets like so: \n",
        "syns = wordnet.synsets(\"program\") \n",
        "  \n",
        "# An example of a synset: \n",
        "print(syns[0].name()) \n",
        "  \n",
        "# Just the word: \n",
        "print(\"Lemma: \", syns[0].lemmas()[0].name()) \n",
        "  \n",
        "# Definition of that first synset: \n",
        "print(\"Definition: \", syns[0].definition()) \n",
        "  \n",
        "# Examples of the word in use in sentences: \n",
        "print(\"Example of sentence: \", syns[0].examples()) "
      ]
    },
    {
      "cell_type": "markdown",
      "metadata": {
        "id": "fdNti5XC18cI"
      },
      "source": [
        "# Find synonyms and antonyms for a word"
      ]
    },
    {
      "cell_type": "code",
      "execution_count": 24,
      "metadata": {
        "colab": {
          "base_uri": "https://localhost:8080/"
        },
        "id": "aiaehuL318cI",
        "outputId": "8c06d990-8955-4d08-8185-16a58e3bcd82"
      },
      "outputs": [
        {
          "output_type": "stream",
          "name": "stdout",
          "text": [
            "Synonyms:  {'soundly', 'safe', 'thoroughly', 'goodness', 'respectable', 'sound', 'undecomposed', 'practiced', 'effective', 'unspoiled', 'unspoilt', 'expert', 'salutary', 'adept', 'upright', 'skilful', 'just', 'good', 'ripe', 'trade_good', 'serious', 'well', 'honest', 'dear', 'near', 'dependable', 'honorable', 'full', 'secure', 'in_force', 'proficient', 'estimable', 'skillful', 'right', 'in_effect', 'beneficial', 'commodity'}\n",
            "\n",
            "Antonyms:  {'bad', 'ill', 'evilness', 'evil', 'badness'}\n"
          ]
        }
      ],
      "source": [
        "synonyms = [] \n",
        "antonyms = [] \n",
        "  \n",
        "for syn in wordnet.synsets(\"good\"): \n",
        "    for l in syn.lemmas(): \n",
        "        synonyms.append(l.name()) \n",
        "        if l.antonyms(): \n",
        "            antonyms.append(l.antonyms()[0].name()) \n",
        "\n",
        "print(\"Synonyms: \", set(synonyms))\n",
        "print(\"\\nAntonyms: \", set(antonyms)) "
      ]
    },
    {
      "cell_type": "markdown",
      "metadata": {
        "id": "kEHsTHjU18cI"
      },
      "source": [
        "# Pick a new word and display its synonyms and antonyms."
      ]
    },
    {
      "cell_type": "code",
      "execution_count": 41,
      "metadata": {
        "colab": {
          "base_uri": "https://localhost:8080/"
        },
        "id": "DtUB_3_S18cJ",
        "outputId": "8477d473-cf0e-4939-d7d5-35e51ffbb032"
      },
      "outputs": [
        {
          "output_type": "stream",
          "name": "stdout",
          "text": [
            "Synonyms:  {'open_up', 'give', 'spread', 'overt', 'out-of-doors', 'exposed', 'open', 'surface', 'undecided', 'spread_out', 'clear', 'unresolved', 'opened', 'heart-to-heart', 'open_air', 'receptive', 'assailable', 'unfold', 'afford', 'subject', 'undefended', 'undefendable', 'unfastened', 'outdoors', 'capable', 'undetermined', 'candid', 'loose'}\n",
            "\n",
            "Antonyms:  {'close', 'covert', 'shut', 'unreceptive', 'closed', 'fold'}\n"
          ]
        }
      ],
      "source": [
        "synonyms = [] \n",
        "antonyms = [] \n",
        "  \n",
        "for syn in wordnet.synsets(\"open\"): \n",
        "    for l in syn.lemmas(): \n",
        "        synonyms.append(l.name()) \n",
        "        if l.antonyms(): \n",
        "            antonyms.append(l.antonyms()[0].name()) \n",
        "\n",
        "print(\"Synonyms: \", set(synonyms))\n",
        "print(\"\\nAntonyms: \", set(antonyms)) "
      ]
    },
    {
      "cell_type": "markdown",
      "metadata": {
        "id": "g5emccNN18cJ"
      },
      "source": [
        "# Find similarity between two words"
      ]
    },
    {
      "cell_type": "code",
      "execution_count": 25,
      "metadata": {
        "colab": {
          "base_uri": "https://localhost:8080/"
        },
        "id": "JjvTYTcT18cJ",
        "outputId": "fc2e6898-6a7b-4692-bb6a-2ccadbdb5fac"
      },
      "outputs": [
        {
          "output_type": "stream",
          "name": "stdout",
          "text": [
            "0.8571428571428571\n"
          ]
        }
      ],
      "source": [
        "w1 = wordnet.synset('run.v.01') # v here denotes the tag verb \n",
        "w2 = wordnet.synset('sprint.v.01') \n",
        "print(w1.wup_similarity(w2))"
      ]
    },
    {
      "cell_type": "code",
      "execution_count": 26,
      "metadata": {
        "colab": {
          "base_uri": "https://localhost:8080/"
        },
        "id": "j6uMtNLZ18cJ",
        "outputId": "fc513aaa-2cfa-4cc0-889d-fd007d1fe9de"
      },
      "outputs": [
        {
          "output_type": "stream",
          "name": "stdout",
          "text": [
            "0.9090909090909091\n"
          ]
        }
      ],
      "source": [
        "w1 = wordnet.synset('ship.n.01') \n",
        "w2 = wordnet.synset('boat.n.01') # n denotes noun \n",
        "print(w1.wup_similarity(w2))"
      ]
    },
    {
      "cell_type": "markdown",
      "metadata": {
        "id": "oZR9UclC18cJ"
      },
      "source": [
        "# Word sense disambiguation using Lesk technique"
      ]
    },
    {
      "cell_type": "code",
      "execution_count": 27,
      "metadata": {
        "id": "pxfciR-a18cJ"
      },
      "outputs": [],
      "source": [
        "from nltk.wsd import lesk\n",
        "from nltk import word_tokenize"
      ]
    },
    {
      "cell_type": "code",
      "execution_count": 28,
      "metadata": {
        "id": "s37zth-r18cJ"
      },
      "outputs": [],
      "source": [
        "samples = [('The fruits on that plant have ripened', 'n'),\n",
        "           ('He finally reaped the fruit of his hard work as he won the race', 'n')]"
      ]
    },
    {
      "cell_type": "code",
      "execution_count": 34,
      "metadata": {
        "colab": {
          "base_uri": "https://localhost:8080/"
        },
        "id": "xWxDin_U18cK",
        "outputId": "239e2bbe-929a-43b4-8edd-3dddc693a1e4"
      },
      "outputs": [
        {
          "output_type": "stream",
          "name": "stdout",
          "text": [
            "[nltk_data] Downloading package punkt to /root/nltk_data...\n",
            "[nltk_data]   Unzipping tokenizers/punkt.zip.\n",
            "Sentence: Lead is a very soft, malleable metal\n",
            "Word synset: Synset('yield.n.03')\n",
            "Corresponding definition: an amount of a product\n",
            "\n",
            "Sentence: John is the actor who plays the lead in that movie\n",
            "Word synset: Synset('fruit.n.03')\n",
            "Corresponding definition: the consequence of some effort or action\n",
            "\n",
            "Sentence: This road leads to nowhere\n",
            "Word synset: Synset('fruit.v.01')\n",
            "Corresponding definition: cause to bear fruit\n",
            "\n"
          ]
        }
      ],
      "source": [
        "nltk.download('punkt')\n",
        "word = 'fruit'\n",
        "for sentence, pos_tag in samples:\n",
        "    word_syn = lesk(word_tokenize(sentence.lower()), word, pos_tag)\n",
        "    print('Sentence:', sentence)\n",
        "    print('Word synset:', word_syn)\n",
        "    print('Corresponding definition:', word_syn.definition())\n",
        "    print()"
      ]
    },
    {
      "cell_type": "code",
      "execution_count": 35,
      "metadata": {
        "colab": {
          "base_uri": "https://localhost:8080/"
        },
        "id": "Ls4PgZmy18cK",
        "outputId": "0fb1faaf-2d96-48af-9744-6b6913ed94c9"
      },
      "outputs": [
        {
          "output_type": "stream",
          "name": "stdout",
          "text": [
            "Sentence: Lead is a very soft, malleable metal\n",
            "Word synset: Synset('lead.n.02')\n",
            "Corresponding definition: a soft heavy toxic malleable metallic element; bluish white when freshly cut but tarnishes readily to dull grey\n",
            "\n",
            "Sentence: John is the actor who plays the lead in that movie\n",
            "Word synset: Synset('star.n.04')\n",
            "Corresponding definition: an actor who plays a principal role\n",
            "\n",
            "Sentence: This road leads to nowhere\n",
            "Word synset: Synset('run.v.23')\n",
            "Corresponding definition: cause something to pass or lead somewhere\n",
            "\n"
          ]
        }
      ],
      "source": [
        "samples = [('Lead is a very soft, malleable metal', 'n'),\n",
        "           ('John is the actor who plays the lead in that movie', 'n'),\n",
        "           ('This road leads to nowhere', 'v')]\n",
        "word = 'lead'\n",
        "\n",
        "for sentence, pos_tag in samples:\n",
        "    word_syn = lesk(word_tokenize(sentence.lower()), word, pos_tag)\n",
        "    print('Sentence:', sentence)\n",
        "    print('Word synset:', word_syn)\n",
        "    print('Corresponding definition:', word_syn.definition())\n",
        "    print()"
      ]
    },
    {
      "cell_type": "markdown",
      "metadata": {
        "id": "to3YytEY18cK"
      },
      "source": [
        "# Given two sentences below\n",
        "## 1) the fisherman jumped off the bank and into the water\n",
        "## 2) from which bank should i withdraw money\n",
        "## Find the appropriate meaning for the word \"bank\""
      ]
    },
    {
      "cell_type": "code",
      "execution_count": 45,
      "metadata": {
        "colab": {
          "base_uri": "https://localhost:8080/"
        },
        "id": "WmOyeiNn18cK",
        "outputId": "2de48b32-3c4a-4c47-de99-1dcb5efc6b1c"
      },
      "outputs": [
        {
          "output_type": "stream",
          "name": "stdout",
          "text": [
            "Sentence: the fisherman jumped off the bank and into the water\n",
            "Word synset: Synset('depository_financial_institution.n.01')\n",
            "Corresponding definition: a financial institution that accepts deposits and channels the money into lending activities\n",
            "\n",
            "Sentence: from which bank should i withdraw money\n",
            "Word synset: Synset('savings_bank.n.02')\n",
            "Corresponding definition: a container (usually with a slot in the top) for keeping money at home\n",
            "\n"
          ]
        }
      ],
      "source": [
        "samples = [('the fisherman jumped off the bank and into the water','n'),\n",
        "           ('from which bank should i withdraw money','n')]\n",
        "word = 'bank'\n",
        "\n",
        "for sentence, pos_tag in samples:\n",
        "    word_syn = lesk(word_tokenize(sentence.lower()), word, pos_tag)\n",
        "    print('Sentence:', sentence)\n",
        "    print('Word synset:', word_syn)\n",
        "    print('Corresponding definition:', word_syn.definition())\n",
        "    print()"
      ]
    }
  ],
  "metadata": {
    "kernelspec": {
      "display_name": "Python 3",
      "language": "python",
      "name": "python3"
    },
    "language_info": {
      "codemirror_mode": {
        "name": "ipython",
        "version": 3
      },
      "file_extension": ".py",
      "mimetype": "text/x-python",
      "name": "python",
      "nbconvert_exporter": "python",
      "pygments_lexer": "ipython3",
      "version": "3.7.4"
    },
    "colab": {
      "name": "Lab10Task01-WordNet.ipynb",
      "provenance": [],
      "collapsed_sections": [],
      "include_colab_link": true
    }
  },
  "nbformat": 4,
  "nbformat_minor": 0
}