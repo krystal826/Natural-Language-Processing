{
  "nbformat": 4,
  "nbformat_minor": 0,
  "metadata": {
    "kernelspec": {
      "display_name": "Python 3",
      "language": "python",
      "name": "python3"
    },
    "language_info": {
      "codemirror_mode": {
        "name": "ipython",
        "version": 3
      },
      "file_extension": ".py",
      "mimetype": "text/x-python",
      "name": "python",
      "nbconvert_exporter": "python",
      "pygments_lexer": "ipython3",
      "version": "3.6.5"
    },
    "colab": {
      "name": "Lab08-Task1.ipynb",
      "provenance": [],
      "collapsed_sections": [],
      "include_colab_link": true
    }
  },
  "cells": [
    {
      "cell_type": "markdown",
      "metadata": {
        "id": "view-in-github",
        "colab_type": "text"
      },
      "source": [
        "<a href=\"https://colab.research.google.com/github/krystal826/Natural-Language-Processing/blob/main/Lab08_Task1.ipynb\" target=\"_parent\"><img src=\"https://colab.research.google.com/assets/colab-badge.svg\" alt=\"Open In Colab\"/></a>"
      ]
    },
    {
      "cell_type": "markdown",
      "metadata": {
        "id": "tS0mFenPtP4o"
      },
      "source": [
        "## Exploring CFG in NLTK, using a demo grammar provided."
      ]
    },
    {
      "cell_type": "code",
      "metadata": {
        "id": "HQclqNCctP4r"
      },
      "source": [
        "import nltk\n",
        "from nltk.parse.generate import generate, demo_grammar\n",
        "from nltk import CFG"
      ],
      "execution_count": 2,
      "outputs": []
    },
    {
      "cell_type": "code",
      "metadata": {
        "colab": {
          "base_uri": "https://localhost:8080/"
        },
        "id": "cs0uhHYNtP4s",
        "outputId": "b20b76b6-7926-4dda-e8f7-755e4aaa3c04"
      },
      "source": [
        "grammar = CFG.fromstring(demo_grammar)\n",
        "print(grammar)   # print the demo grammar"
      ],
      "execution_count": 3,
      "outputs": [
        {
          "output_type": "stream",
          "name": "stdout",
          "text": [
            "Grammar with 13 productions (start state = S)\n",
            "    S -> NP VP\n",
            "    NP -> Det N\n",
            "    PP -> P NP\n",
            "    VP -> 'slept'\n",
            "    VP -> 'saw' NP\n",
            "    VP -> 'walked' PP\n",
            "    Det -> 'the'\n",
            "    Det -> 'a'\n",
            "    N -> 'man'\n",
            "    N -> 'park'\n",
            "    N -> 'dog'\n",
            "    P -> 'in'\n",
            "    P -> 'with'\n"
          ]
        }
      ]
    },
    {
      "cell_type": "markdown",
      "metadata": {
        "id": "EYJa96FltP4t"
      },
      "source": [
        "### Check whether the sentence \"the man slept\" can be derived by the above CFG."
      ]
    },
    {
      "cell_type": "code",
      "metadata": {
        "colab": {
          "base_uri": "https://localhost:8080/"
        },
        "id": "aUpuXyuwtP4t",
        "outputId": "4a85e728-8c30-4238-d005-e4ba3676a9fd"
      },
      "source": [
        "#Build a parse tree for the sentence \"the man slept\"\n",
        "\n",
        "sentence = ['the', 'man', 'slept']\n",
        "parser = nltk.ChartParser(grammar)\n",
        "for tree in parser.parse(sentence):\n",
        "    print(tree)"
      ],
      "execution_count": 4,
      "outputs": [
        {
          "output_type": "stream",
          "name": "stdout",
          "text": [
            "(S (NP (Det the) (N man)) (VP slept))\n"
          ]
        }
      ]
    },
    {
      "cell_type": "markdown",
      "metadata": {
        "id": "gzHDW-BgtP4t"
      },
      "source": [
        "### Print the above tree in graphical tree form "
      ]
    },
    {
      "cell_type": "code",
      "metadata": {
        "colab": {
          "base_uri": "https://localhost:8080/"
        },
        "id": "VGbwY9zdtP4u",
        "outputId": "5e1a90d3-dddc-4a6b-fbd9-8d6aed8c928e"
      },
      "source": [
        "tree.pretty_print()"
      ],
      "execution_count": 5,
      "outputs": [
        {
          "output_type": "stream",
          "name": "stdout",
          "text": [
            "         S       \n",
            "      ___|____    \n",
            "     NP       |  \n",
            "  ___|___     |   \n",
            "Det      N    VP \n",
            " |       |    |   \n",
            "the     man slept\n",
            "\n"
          ]
        }
      ]
    },
    {
      "cell_type": "markdown",
      "metadata": {
        "id": "selY8I2_tP4v"
      },
      "source": [
        "### Check whether for the following sentence can be derived using the CFG:\n",
        "1) the man saw the dog\n",
        "\n",
        "2) the man walked the dog in the park."
      ]
    },
    {
      "cell_type": "code",
      "metadata": {
        "colab": {
          "base_uri": "https://localhost:8080/"
        },
        "id": "PpRnTMERtP4v",
        "outputId": "bbe0cb1d-78e4-4593-91b9-0ba78debd319"
      },
      "source": [
        "#Build a parse tree for the sentence \"The man saw the dog\"\n",
        "\n",
        "sentence1 = ['the', 'man', 'saw', 'the', 'dog']\n",
        "parser = nltk.ChartParser(grammar)\n",
        "for tree in parser.parse(sentence1):\n",
        "    print(tree)"
      ],
      "execution_count": 6,
      "outputs": [
        {
          "output_type": "stream",
          "name": "stdout",
          "text": [
            "(S (NP (Det the) (N man)) (VP saw (NP (Det the) (N dog))))\n"
          ]
        }
      ]
    },
    {
      "cell_type": "code",
      "metadata": {
        "colab": {
          "base_uri": "https://localhost:8080/"
        },
        "id": "15XPngfW1wSN",
        "outputId": "e2076c12-adca-4542-9eb4-19170b011d43"
      },
      "source": [
        "tree.pretty_print()"
      ],
      "execution_count": 7,
      "outputs": [
        {
          "output_type": "stream",
          "name": "stdout",
          "text": [
            "             S             \n",
            "      _______|___           \n",
            "     |           VP        \n",
            "     |        ___|___       \n",
            "     NP      |       NP    \n",
            "  ___|___    |    ___|___   \n",
            "Det      N   |  Det      N \n",
            " |       |   |   |       |  \n",
            "the     man saw the     dog\n",
            "\n"
          ]
        }
      ]
    },
    {
      "cell_type": "code",
      "metadata": {
        "id": "sNkUbKXG8w1E"
      },
      "source": [
        "# Create some Grammar Productions\n",
        "grammar = CFG.fromstring(\n",
        "\"\"\"\n",
        "      S -> NP VP\n",
        "      NP -> Det N\n",
        "      VP -> V NP \n",
        "      VP -> 'walked' PP\n",
        "      Det -> 'a'\n",
        "      N -> 'dog'\n",
        "      N -> 'cat'\n",
        "      V -> 'chased'\n",
        "      Det -> 'the'\n",
        "      N -> 'man'\n",
        "      N -> 'park'\n",
        "      P -> 'in'\n",
        "      P -> 'with'\n",
        "\"\"\"\n",
        ")"
      ],
      "execution_count": 8,
      "outputs": []
    },
    {
      "cell_type": "code",
      "metadata": {
        "id": "UDQ_-8j02D6b"
      },
      "source": [
        "#Build a parse tree for the sentence \"The man walked the dog in the park\"\n",
        "\n",
        "sentence2 = ['the', 'man', 'walked', 'the', 'dog', 'in', 'the', 'park']\n"
      ],
      "execution_count": 9,
      "outputs": []
    },
    {
      "cell_type": "code",
      "metadata": {
        "id": "KniDT50v2xkt"
      },
      "source": [
        "parser = nltk.ChartParser(grammar)\n",
        "for tree in parser.parse(sentence2):\n",
        "    print(tree)"
      ],
      "execution_count": 10,
      "outputs": []
    },
    {
      "cell_type": "code",
      "metadata": {
        "colab": {
          "base_uri": "https://localhost:8080/"
        },
        "id": "nO9MuX5Z2QlG",
        "outputId": "99b8d188-7284-4dd2-adc7-c68c7d0dc6ca"
      },
      "source": [
        "tree.pretty_print()"
      ],
      "execution_count": 11,
      "outputs": [
        {
          "output_type": "stream",
          "name": "stdout",
          "text": [
            "             S             \n",
            "      _______|___           \n",
            "     |           VP        \n",
            "     |        ___|___       \n",
            "     NP      |       NP    \n",
            "  ___|___    |    ___|___   \n",
            "Det      N   |  Det      N \n",
            " |       |   |   |       |  \n",
            "the     man saw the     dog\n",
            "\n"
          ]
        }
      ]
    },
    {
      "cell_type": "markdown",
      "metadata": {
        "id": "5LyAkIjatP4w"
      },
      "source": [
        "### Display the 10 sentences that can be derived by the above CFG."
      ]
    },
    {
      "cell_type": "code",
      "metadata": {
        "colab": {
          "base_uri": "https://localhost:8080/"
        },
        "id": "W7eP-1qYtP4w",
        "outputId": "4c4ff72f-9d13-4ec5-e008-91b30b448aa8"
      },
      "source": [
        "for n, sent in enumerate(generate(grammar, n=10), 1):\n",
        "    print(\"%3d. %s\" % (n, \" \".join(sent)))"
      ],
      "execution_count": 12,
      "outputs": [
        {
          "output_type": "stream",
          "name": "stdout",
          "text": [
            "  1. a dog chased a dog\n",
            "  2. a dog chased a cat\n",
            "  3. a dog chased a man\n",
            "  4. a dog chased a park\n",
            "  5. a dog chased the dog\n",
            "  6. a dog chased the cat\n",
            "  7. a dog chased the man\n",
            "  8. a dog chased the park\n",
            "  9. a cat chased a dog\n",
            " 10. a cat chased a cat\n"
          ]
        }
      ]
    },
    {
      "cell_type": "code",
      "metadata": {
        "colab": {
          "base_uri": "https://localhost:8080/"
        },
        "id": "d9v7ChpZq9-U",
        "outputId": "06e298f0-eb14-4f25-b8ab-a4c5a23fcb69"
      },
      "source": [
        "for n, sent in enumerate(generate(grammar), 1):\n",
        "    print(\"%3d. %s\" % (n, \" \".join(sent)))"
      ],
      "execution_count": 13,
      "outputs": [
        {
          "output_type": "stream",
          "name": "stdout",
          "text": [
            "  1. a dog chased a dog\n",
            "  2. a dog chased a cat\n",
            "  3. a dog chased a man\n",
            "  4. a dog chased a park\n",
            "  5. a dog chased the dog\n",
            "  6. a dog chased the cat\n",
            "  7. a dog chased the man\n",
            "  8. a dog chased the park\n",
            "  9. a cat chased a dog\n",
            " 10. a cat chased a cat\n",
            " 11. a cat chased a man\n",
            " 12. a cat chased a park\n",
            " 13. a cat chased the dog\n",
            " 14. a cat chased the cat\n",
            " 15. a cat chased the man\n",
            " 16. a cat chased the park\n",
            " 17. a man chased a dog\n",
            " 18. a man chased a cat\n",
            " 19. a man chased a man\n",
            " 20. a man chased a park\n",
            " 21. a man chased the dog\n",
            " 22. a man chased the cat\n",
            " 23. a man chased the man\n",
            " 24. a man chased the park\n",
            " 25. a park chased a dog\n",
            " 26. a park chased a cat\n",
            " 27. a park chased a man\n",
            " 28. a park chased a park\n",
            " 29. a park chased the dog\n",
            " 30. a park chased the cat\n",
            " 31. a park chased the man\n",
            " 32. a park chased the park\n",
            " 33. the dog chased a dog\n",
            " 34. the dog chased a cat\n",
            " 35. the dog chased a man\n",
            " 36. the dog chased a park\n",
            " 37. the dog chased the dog\n",
            " 38. the dog chased the cat\n",
            " 39. the dog chased the man\n",
            " 40. the dog chased the park\n",
            " 41. the cat chased a dog\n",
            " 42. the cat chased a cat\n",
            " 43. the cat chased a man\n",
            " 44. the cat chased a park\n",
            " 45. the cat chased the dog\n",
            " 46. the cat chased the cat\n",
            " 47. the cat chased the man\n",
            " 48. the cat chased the park\n",
            " 49. the man chased a dog\n",
            " 50. the man chased a cat\n",
            " 51. the man chased a man\n",
            " 52. the man chased a park\n",
            " 53. the man chased the dog\n",
            " 54. the man chased the cat\n",
            " 55. the man chased the man\n",
            " 56. the man chased the park\n",
            " 57. the park chased a dog\n",
            " 58. the park chased a cat\n",
            " 59. the park chased a man\n",
            " 60. the park chased a park\n",
            " 61. the park chased the dog\n",
            " 62. the park chased the cat\n",
            " 63. the park chased the man\n",
            " 64. the park chased the park\n"
          ]
        }
      ]
    },
    {
      "cell_type": "markdown",
      "metadata": {
        "id": "fOYXicMstP4w"
      },
      "source": [
        "### Run the following statement. What do you get? Why you get such output?"
      ]
    },
    {
      "cell_type": "code",
      "metadata": {
        "colab": {
          "base_uri": "https://localhost:8080/",
          "height": 380
        },
        "id": "a6SzMAKitP4x",
        "outputId": "820e8b9b-6e85-49f3-d4fc-f2c858296462"
      },
      "source": [
        "sentence = ['the', 'man', 'walk']\n",
        "parser = nltk.ChartParser(grammar)\n",
        "for tree in parser.parse(sentence):\n",
        "    print(tree)"
      ],
      "execution_count": 14,
      "outputs": [
        {
          "output_type": "error",
          "ename": "ValueError",
          "evalue": "ignored",
          "traceback": [
            "\u001b[0;31m---------------------------------------------------------------------------\u001b[0m",
            "\u001b[0;31mValueError\u001b[0m                                Traceback (most recent call last)",
            "\u001b[0;32m<ipython-input-14-4eaa8fa65782>\u001b[0m in \u001b[0;36m<module>\u001b[0;34m()\u001b[0m\n\u001b[1;32m      1\u001b[0m \u001b[0msentence\u001b[0m \u001b[0;34m=\u001b[0m \u001b[0;34m[\u001b[0m\u001b[0;34m'the'\u001b[0m\u001b[0;34m,\u001b[0m \u001b[0;34m'man'\u001b[0m\u001b[0;34m,\u001b[0m \u001b[0;34m'walk'\u001b[0m\u001b[0;34m]\u001b[0m\u001b[0;34m\u001b[0m\u001b[0;34m\u001b[0m\u001b[0m\n\u001b[1;32m      2\u001b[0m \u001b[0mparser\u001b[0m \u001b[0;34m=\u001b[0m \u001b[0mnltk\u001b[0m\u001b[0;34m.\u001b[0m\u001b[0mChartParser\u001b[0m\u001b[0;34m(\u001b[0m\u001b[0mgrammar\u001b[0m\u001b[0;34m)\u001b[0m\u001b[0;34m\u001b[0m\u001b[0;34m\u001b[0m\u001b[0m\n\u001b[0;32m----> 3\u001b[0;31m \u001b[0;32mfor\u001b[0m \u001b[0mtree\u001b[0m \u001b[0;32min\u001b[0m \u001b[0mparser\u001b[0m\u001b[0;34m.\u001b[0m\u001b[0mparse\u001b[0m\u001b[0;34m(\u001b[0m\u001b[0msentence\u001b[0m\u001b[0;34m)\u001b[0m\u001b[0;34m:\u001b[0m\u001b[0;34m\u001b[0m\u001b[0;34m\u001b[0m\u001b[0m\n\u001b[0m\u001b[1;32m      4\u001b[0m     \u001b[0mprint\u001b[0m\u001b[0;34m(\u001b[0m\u001b[0mtree\u001b[0m\u001b[0;34m)\u001b[0m\u001b[0;34m\u001b[0m\u001b[0;34m\u001b[0m\u001b[0m\n",
            "\u001b[0;32m/usr/local/lib/python3.7/dist-packages/nltk/parse/chart.py\u001b[0m in \u001b[0;36mparse\u001b[0;34m(self, tokens, tree_class)\u001b[0m\n\u001b[1;32m   1349\u001b[0m \u001b[0;34m\u001b[0m\u001b[0m\n\u001b[1;32m   1350\u001b[0m     \u001b[0;32mdef\u001b[0m \u001b[0mparse\u001b[0m\u001b[0;34m(\u001b[0m\u001b[0mself\u001b[0m\u001b[0;34m,\u001b[0m \u001b[0mtokens\u001b[0m\u001b[0;34m,\u001b[0m \u001b[0mtree_class\u001b[0m\u001b[0;34m=\u001b[0m\u001b[0mTree\u001b[0m\u001b[0;34m)\u001b[0m\u001b[0;34m:\u001b[0m\u001b[0;34m\u001b[0m\u001b[0;34m\u001b[0m\u001b[0m\n\u001b[0;32m-> 1351\u001b[0;31m         \u001b[0mchart\u001b[0m \u001b[0;34m=\u001b[0m \u001b[0mself\u001b[0m\u001b[0;34m.\u001b[0m\u001b[0mchart_parse\u001b[0m\u001b[0;34m(\u001b[0m\u001b[0mtokens\u001b[0m\u001b[0;34m)\u001b[0m\u001b[0;34m\u001b[0m\u001b[0;34m\u001b[0m\u001b[0m\n\u001b[0m\u001b[1;32m   1352\u001b[0m         \u001b[0;32mreturn\u001b[0m \u001b[0miter\u001b[0m\u001b[0;34m(\u001b[0m\u001b[0mchart\u001b[0m\u001b[0;34m.\u001b[0m\u001b[0mparses\u001b[0m\u001b[0;34m(\u001b[0m\u001b[0mself\u001b[0m\u001b[0;34m.\u001b[0m\u001b[0m_grammar\u001b[0m\u001b[0;34m.\u001b[0m\u001b[0mstart\u001b[0m\u001b[0;34m(\u001b[0m\u001b[0;34m)\u001b[0m\u001b[0;34m,\u001b[0m \u001b[0mtree_class\u001b[0m\u001b[0;34m=\u001b[0m\u001b[0mtree_class\u001b[0m\u001b[0;34m)\u001b[0m\u001b[0;34m)\u001b[0m\u001b[0;34m\u001b[0m\u001b[0;34m\u001b[0m\u001b[0m\n\u001b[1;32m   1353\u001b[0m \u001b[0;34m\u001b[0m\u001b[0m\n",
            "\u001b[0;32m/usr/local/lib/python3.7/dist-packages/nltk/parse/chart.py\u001b[0m in \u001b[0;36mchart_parse\u001b[0;34m(self, tokens, trace)\u001b[0m\n\u001b[1;32m   1308\u001b[0m \u001b[0;34m\u001b[0m\u001b[0m\n\u001b[1;32m   1309\u001b[0m         \u001b[0mtokens\u001b[0m \u001b[0;34m=\u001b[0m \u001b[0mlist\u001b[0m\u001b[0;34m(\u001b[0m\u001b[0mtokens\u001b[0m\u001b[0;34m)\u001b[0m\u001b[0;34m\u001b[0m\u001b[0;34m\u001b[0m\u001b[0m\n\u001b[0;32m-> 1310\u001b[0;31m         \u001b[0mself\u001b[0m\u001b[0;34m.\u001b[0m\u001b[0m_grammar\u001b[0m\u001b[0;34m.\u001b[0m\u001b[0mcheck_coverage\u001b[0m\u001b[0;34m(\u001b[0m\u001b[0mtokens\u001b[0m\u001b[0;34m)\u001b[0m\u001b[0;34m\u001b[0m\u001b[0;34m\u001b[0m\u001b[0m\n\u001b[0m\u001b[1;32m   1311\u001b[0m         \u001b[0mchart\u001b[0m \u001b[0;34m=\u001b[0m \u001b[0mself\u001b[0m\u001b[0;34m.\u001b[0m\u001b[0m_chart_class\u001b[0m\u001b[0;34m(\u001b[0m\u001b[0mtokens\u001b[0m\u001b[0;34m)\u001b[0m\u001b[0;34m\u001b[0m\u001b[0;34m\u001b[0m\u001b[0m\n\u001b[1;32m   1312\u001b[0m         \u001b[0mgrammar\u001b[0m \u001b[0;34m=\u001b[0m \u001b[0mself\u001b[0m\u001b[0;34m.\u001b[0m\u001b[0m_grammar\u001b[0m\u001b[0;34m\u001b[0m\u001b[0;34m\u001b[0m\u001b[0m\n",
            "\u001b[0;32m/usr/local/lib/python3.7/dist-packages/nltk/grammar.py\u001b[0m in \u001b[0;36mcheck_coverage\u001b[0;34m(self, tokens)\u001b[0m\n\u001b[1;32m    646\u001b[0m             \u001b[0mmissing\u001b[0m \u001b[0;34m=\u001b[0m \u001b[0;34m', '\u001b[0m\u001b[0;34m.\u001b[0m\u001b[0mjoin\u001b[0m\u001b[0;34m(\u001b[0m\u001b[0;34m'%r'\u001b[0m \u001b[0;34m%\u001b[0m \u001b[0;34m(\u001b[0m\u001b[0mw\u001b[0m\u001b[0;34m,\u001b[0m\u001b[0;34m)\u001b[0m \u001b[0;32mfor\u001b[0m \u001b[0mw\u001b[0m \u001b[0;32min\u001b[0m \u001b[0mmissing\u001b[0m\u001b[0;34m)\u001b[0m\u001b[0;34m\u001b[0m\u001b[0;34m\u001b[0m\u001b[0m\n\u001b[1;32m    647\u001b[0m             raise ValueError(\"Grammar does not cover some of the \"\n\u001b[0;32m--> 648\u001b[0;31m                              \"input words: %r.\" % missing)\n\u001b[0m\u001b[1;32m    649\u001b[0m \u001b[0;34m\u001b[0m\u001b[0m\n\u001b[1;32m    650\u001b[0m     \u001b[0;32mdef\u001b[0m \u001b[0m_calculate_grammar_forms\u001b[0m\u001b[0;34m(\u001b[0m\u001b[0mself\u001b[0m\u001b[0;34m)\u001b[0m\u001b[0;34m:\u001b[0m\u001b[0;34m\u001b[0m\u001b[0;34m\u001b[0m\u001b[0m\n",
            "\u001b[0;31mValueError\u001b[0m: Grammar does not cover some of the input words: \"'walk'\"."
          ]
        }
      ]
    },
    {
      "cell_type": "code",
      "metadata": {
        "id": "mToPAiY4tP4y"
      },
      "source": [
        ""
      ],
      "execution_count": null,
      "outputs": []
    }
  ]
}