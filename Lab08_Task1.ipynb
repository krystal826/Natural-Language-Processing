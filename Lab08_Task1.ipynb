{
  "nbformat": 4,
  "nbformat_minor": 0,
  "metadata": {
    "kernelspec": {
      "display_name": "Python 3",
      "language": "python",
      "name": "python3"
    },
    "language_info": {
      "codemirror_mode": {
        "name": "ipython",
        "version": 3
      },
      "file_extension": ".py",
      "mimetype": "text/x-python",
      "name": "python",
      "nbconvert_exporter": "python",
      "pygments_lexer": "ipython3",
      "version": "3.6.5"
    },
    "colab": {
      "name": "Lab08-Task1.ipynb",
      "provenance": [],
      "collapsed_sections": [],
      "include_colab_link": true
    }
  },
  "cells": [
    {
      "cell_type": "markdown",
      "metadata": {
        "id": "view-in-github",
        "colab_type": "text"
      },
      "source": [
        "<a href=\"https://colab.research.google.com/github/krystal826/Natural-Language-Processing/blob/main/Lab08_Task1.ipynb\" target=\"_parent\"><img src=\"https://colab.research.google.com/assets/colab-badge.svg\" alt=\"Open In Colab\"/></a>"
      ]
    },
    {
      "cell_type": "markdown",
      "metadata": {
        "id": "tS0mFenPtP4o"
      },
      "source": [
        "## Exploring CFG in NLTK, using a demo grammar provided."
      ]
    },
    {
      "cell_type": "code",
      "metadata": {
        "id": "HQclqNCctP4r"
      },
      "source": [
        "import nltk\n",
        "from nltk.parse.generate import generate, demo_grammar\n",
        "from nltk import CFG"
      ],
      "execution_count": 25,
      "outputs": []
    },
    {
      "cell_type": "code",
      "metadata": {
        "colab": {
          "base_uri": "https://localhost:8080/"
        },
        "id": "cs0uhHYNtP4s",
        "outputId": "bebb028f-38da-4ec6-c52c-83d4129cad0b"
      },
      "source": [
        "grammar = CFG.fromstring(demo_grammar)\n",
        "print(grammar)   # print the demo grammar"
      ],
      "execution_count": 26,
      "outputs": [
        {
          "output_type": "stream",
          "name": "stdout",
          "text": [
            "Grammar with 13 productions (start state = S)\n",
            "    S -> NP VP\n",
            "    NP -> Det N\n",
            "    PP -> P NP\n",
            "    VP -> 'slept'\n",
            "    VP -> 'saw' NP\n",
            "    VP -> 'walked' PP\n",
            "    Det -> 'the'\n",
            "    Det -> 'a'\n",
            "    N -> 'man'\n",
            "    N -> 'park'\n",
            "    N -> 'dog'\n",
            "    P -> 'in'\n",
            "    P -> 'with'\n"
          ]
        }
      ]
    },
    {
      "cell_type": "markdown",
      "metadata": {
        "id": "EYJa96FltP4t"
      },
      "source": [
        "### Check whether the sentence \"the man slept\" can be derived by the above CFG."
      ]
    },
    {
      "cell_type": "code",
      "metadata": {
        "colab": {
          "base_uri": "https://localhost:8080/"
        },
        "id": "aUpuXyuwtP4t",
        "outputId": "ca86cfb6-4c65-4080-ff1b-c6b101ab45df"
      },
      "source": [
        "#Build a parse tree for the sentence \"the man slept\"\n",
        "\n",
        "sentence = ['the', 'man', 'slept']\n",
        "parser = nltk.ChartParser(grammar)\n",
        "for tree in parser.parse(sentence):\n",
        "    print(tree)"
      ],
      "execution_count": 27,
      "outputs": [
        {
          "output_type": "stream",
          "name": "stdout",
          "text": [
            "(S (NP (Det the) (N man)) (VP slept))\n"
          ]
        }
      ]
    },
    {
      "cell_type": "markdown",
      "metadata": {
        "id": "gzHDW-BgtP4t"
      },
      "source": [
        "### Print the above tree in graphical tree form "
      ]
    },
    {
      "cell_type": "code",
      "metadata": {
        "colab": {
          "base_uri": "https://localhost:8080/"
        },
        "id": "VGbwY9zdtP4u",
        "outputId": "efaee3e8-ab96-48f1-e310-016cacddcf2e"
      },
      "source": [
        "tree.pretty_print()"
      ],
      "execution_count": 28,
      "outputs": [
        {
          "output_type": "stream",
          "name": "stdout",
          "text": [
            "         S       \n",
            "      ___|____    \n",
            "     NP       |  \n",
            "  ___|___     |   \n",
            "Det      N    VP \n",
            " |       |    |   \n",
            "the     man slept\n",
            "\n"
          ]
        }
      ]
    },
    {
      "cell_type": "markdown",
      "metadata": {
        "id": "selY8I2_tP4v"
      },
      "source": [
        "### Check whether for the following sentence can be derived using the CFG:\n",
        "1) the man saw the dog\n",
        "\n",
        "2) the man walked the dog in the park."
      ]
    },
    {
      "cell_type": "code",
      "metadata": {
        "colab": {
          "base_uri": "https://localhost:8080/"
        },
        "id": "PpRnTMERtP4v",
        "outputId": "b9e703bc-83d2-429f-dd28-d0872ca93531"
      },
      "source": [
        "#Build a parse tree for the sentence \"The man saw the dog\"\n",
        "\n",
        "sentence1 = ['the', 'man', 'saw', 'the', 'dog']\n",
        "parser = nltk.ChartParser(grammar)\n",
        "for tree in parser.parse(sentence1):\n",
        "    print(tree)"
      ],
      "execution_count": 29,
      "outputs": [
        {
          "output_type": "stream",
          "name": "stdout",
          "text": [
            "(S (NP (Det the) (N man)) (VP saw (NP (Det the) (N dog))))\n"
          ]
        }
      ]
    },
    {
      "cell_type": "code",
      "metadata": {
        "colab": {
          "base_uri": "https://localhost:8080/"
        },
        "id": "15XPngfW1wSN",
        "outputId": "a6203c52-cd3c-484d-9265-bf1b41f7f275"
      },
      "source": [
        "tree.pretty_print()"
      ],
      "execution_count": 30,
      "outputs": [
        {
          "output_type": "stream",
          "name": "stdout",
          "text": [
            "             S             \n",
            "      _______|___           \n",
            "     |           VP        \n",
            "     |        ___|___       \n",
            "     NP      |       NP    \n",
            "  ___|___    |    ___|___   \n",
            "Det      N   |  Det      N \n",
            " |       |   |   |       |  \n",
            "the     man saw the     dog\n",
            "\n"
          ]
        }
      ]
    },
    {
      "cell_type": "code",
      "metadata": {
        "id": "sNkUbKXG8w1E"
      },
      "source": [
        "# Create some Grammar Productions\n",
        "grammar = CFG.fromstring(\n",
        "\"\"\"\n",
        "      S -> NP VP\n",
        "      NP -> Det N\n",
        "      VP -> V NP \n",
        "      VP -> 'walked' PP\n",
        "      Det -> 'a'\n",
        "      N -> 'dog'\n",
        "      N -> 'cat'\n",
        "      V -> 'chased'\n",
        "      Det -> 'the'\n",
        "      N -> 'man'\n",
        "      N -> 'park'\n",
        "      P -> 'in'\n",
        "      P -> 'with'\n",
        "\"\"\"\n",
        ")"
      ],
      "execution_count": 46,
      "outputs": []
    },
    {
      "cell_type": "code",
      "metadata": {
        "id": "UDQ_-8j02D6b"
      },
      "source": [
        "#Build a parse tree for the sentence \"The man walked the dog in the park\"\n",
        "\n",
        "sentence2 = ['the', 'man', 'walked', 'the', 'dog', 'in', 'the', 'park']\n"
      ],
      "execution_count": 47,
      "outputs": []
    },
    {
      "cell_type": "code",
      "metadata": {
        "id": "KniDT50v2xkt"
      },
      "source": [
        "parser = nltk.ChartParser(grammar)\n",
        "for tree in parser.parse(sentence2):\n",
        "    print(tree)"
      ],
      "execution_count": 48,
      "outputs": []
    },
    {
      "cell_type": "code",
      "metadata": {
        "colab": {
          "base_uri": "https://localhost:8080/"
        },
        "id": "nO9MuX5Z2QlG",
        "outputId": "4add4fb7-ee22-459e-e192-fb5af1fbdfbc"
      },
      "source": [
        "tree.pretty_print()"
      ],
      "execution_count": 49,
      "outputs": [
        {
          "output_type": "stream",
          "name": "stdout",
          "text": [
            "             S             \n",
            "      _______|___           \n",
            "     |           VP        \n",
            "     |        ___|___       \n",
            "     NP      |       NP    \n",
            "  ___|___    |    ___|___   \n",
            "Det      N   |  Det      N \n",
            " |       |   |   |       |  \n",
            "the     man saw the     dog\n",
            "\n"
          ]
        }
      ]
    },
    {
      "cell_type": "markdown",
      "metadata": {
        "id": "5LyAkIjatP4w"
      },
      "source": [
        "### Display the 10 sentences that can be derived by the above CFG."
      ]
    },
    {
      "cell_type": "code",
      "metadata": {
        "colab": {
          "base_uri": "https://localhost:8080/"
        },
        "id": "W7eP-1qYtP4w",
        "outputId": "0eb3c7fc-cdb8-41c7-e12a-586fdc1738d2"
      },
      "source": [
        "for n, sent in enumerate(generate(grammar, n=10), 1):\n",
        "    print(\"%3d. %s\" % (n, \" \".join(sent)))"
      ],
      "execution_count": null,
      "outputs": [
        {
          "output_type": "stream",
          "name": "stdout",
          "text": [
            "  1. the man slept\n",
            "  2. the man saw the man\n",
            "  3. the man saw the park\n",
            "  4. the man saw the dog\n",
            "  5. the man saw a man\n",
            "  6. the man saw a park\n",
            "  7. the man saw a dog\n",
            "  8. the man walked in the man\n",
            "  9. the man walked in the park\n",
            " 10. the man walked in the dog\n"
          ]
        }
      ]
    },
    {
      "cell_type": "markdown",
      "metadata": {
        "id": "fOYXicMstP4w"
      },
      "source": [
        "### Run the following statement. What do you get? Why you get such output?"
      ]
    },
    {
      "cell_type": "code",
      "metadata": {
        "colab": {
          "base_uri": "https://localhost:8080/",
          "height": 380
        },
        "id": "a6SzMAKitP4x",
        "outputId": "52432664-678b-4858-b26b-b571ded386fa"
      },
      "source": [
        "sentence = ['the', 'man', 'walk']\n",
        "parser = nltk.ChartParser(grammar)\n",
        "for tree in parser.parse(sentence):\n",
        "    print(tree)"
      ],
      "execution_count": null,
      "outputs": [
        {
          "output_type": "error",
          "ename": "ValueError",
          "evalue": "ignored",
          "traceback": [
            "\u001b[0;31m---------------------------------------------------------------------------\u001b[0m",
            "\u001b[0;31mValueError\u001b[0m                                Traceback (most recent call last)",
            "\u001b[0;32m<ipython-input-7-4eaa8fa65782>\u001b[0m in \u001b[0;36m<module>\u001b[0;34m()\u001b[0m\n\u001b[1;32m      1\u001b[0m \u001b[0msentence\u001b[0m \u001b[0;34m=\u001b[0m \u001b[0;34m[\u001b[0m\u001b[0;34m'the'\u001b[0m\u001b[0;34m,\u001b[0m \u001b[0;34m'man'\u001b[0m\u001b[0;34m,\u001b[0m \u001b[0;34m'walk'\u001b[0m\u001b[0;34m]\u001b[0m\u001b[0;34m\u001b[0m\u001b[0;34m\u001b[0m\u001b[0m\n\u001b[1;32m      2\u001b[0m \u001b[0mparser\u001b[0m \u001b[0;34m=\u001b[0m \u001b[0mnltk\u001b[0m\u001b[0;34m.\u001b[0m\u001b[0mChartParser\u001b[0m\u001b[0;34m(\u001b[0m\u001b[0mgrammar\u001b[0m\u001b[0;34m)\u001b[0m\u001b[0;34m\u001b[0m\u001b[0;34m\u001b[0m\u001b[0m\n\u001b[0;32m----> 3\u001b[0;31m \u001b[0;32mfor\u001b[0m \u001b[0mtree\u001b[0m \u001b[0;32min\u001b[0m \u001b[0mparser\u001b[0m\u001b[0;34m.\u001b[0m\u001b[0mparse\u001b[0m\u001b[0;34m(\u001b[0m\u001b[0msentence\u001b[0m\u001b[0;34m)\u001b[0m\u001b[0;34m:\u001b[0m\u001b[0;34m\u001b[0m\u001b[0;34m\u001b[0m\u001b[0m\n\u001b[0m\u001b[1;32m      4\u001b[0m     \u001b[0mprint\u001b[0m\u001b[0;34m(\u001b[0m\u001b[0mtree\u001b[0m\u001b[0;34m)\u001b[0m\u001b[0;34m\u001b[0m\u001b[0;34m\u001b[0m\u001b[0m\n",
            "\u001b[0;32m/usr/local/lib/python3.7/dist-packages/nltk/parse/chart.py\u001b[0m in \u001b[0;36mparse\u001b[0;34m(self, tokens, tree_class)\u001b[0m\n\u001b[1;32m   1349\u001b[0m \u001b[0;34m\u001b[0m\u001b[0m\n\u001b[1;32m   1350\u001b[0m     \u001b[0;32mdef\u001b[0m \u001b[0mparse\u001b[0m\u001b[0;34m(\u001b[0m\u001b[0mself\u001b[0m\u001b[0;34m,\u001b[0m \u001b[0mtokens\u001b[0m\u001b[0;34m,\u001b[0m \u001b[0mtree_class\u001b[0m\u001b[0;34m=\u001b[0m\u001b[0mTree\u001b[0m\u001b[0;34m)\u001b[0m\u001b[0;34m:\u001b[0m\u001b[0;34m\u001b[0m\u001b[0;34m\u001b[0m\u001b[0m\n\u001b[0;32m-> 1351\u001b[0;31m         \u001b[0mchart\u001b[0m \u001b[0;34m=\u001b[0m \u001b[0mself\u001b[0m\u001b[0;34m.\u001b[0m\u001b[0mchart_parse\u001b[0m\u001b[0;34m(\u001b[0m\u001b[0mtokens\u001b[0m\u001b[0;34m)\u001b[0m\u001b[0;34m\u001b[0m\u001b[0;34m\u001b[0m\u001b[0m\n\u001b[0m\u001b[1;32m   1352\u001b[0m         \u001b[0;32mreturn\u001b[0m \u001b[0miter\u001b[0m\u001b[0;34m(\u001b[0m\u001b[0mchart\u001b[0m\u001b[0;34m.\u001b[0m\u001b[0mparses\u001b[0m\u001b[0;34m(\u001b[0m\u001b[0mself\u001b[0m\u001b[0;34m.\u001b[0m\u001b[0m_grammar\u001b[0m\u001b[0;34m.\u001b[0m\u001b[0mstart\u001b[0m\u001b[0;34m(\u001b[0m\u001b[0;34m)\u001b[0m\u001b[0;34m,\u001b[0m \u001b[0mtree_class\u001b[0m\u001b[0;34m=\u001b[0m\u001b[0mtree_class\u001b[0m\u001b[0;34m)\u001b[0m\u001b[0;34m)\u001b[0m\u001b[0;34m\u001b[0m\u001b[0;34m\u001b[0m\u001b[0m\n\u001b[1;32m   1353\u001b[0m \u001b[0;34m\u001b[0m\u001b[0m\n",
            "\u001b[0;32m/usr/local/lib/python3.7/dist-packages/nltk/parse/chart.py\u001b[0m in \u001b[0;36mchart_parse\u001b[0;34m(self, tokens, trace)\u001b[0m\n\u001b[1;32m   1308\u001b[0m \u001b[0;34m\u001b[0m\u001b[0m\n\u001b[1;32m   1309\u001b[0m         \u001b[0mtokens\u001b[0m \u001b[0;34m=\u001b[0m \u001b[0mlist\u001b[0m\u001b[0;34m(\u001b[0m\u001b[0mtokens\u001b[0m\u001b[0;34m)\u001b[0m\u001b[0;34m\u001b[0m\u001b[0;34m\u001b[0m\u001b[0m\n\u001b[0;32m-> 1310\u001b[0;31m         \u001b[0mself\u001b[0m\u001b[0;34m.\u001b[0m\u001b[0m_grammar\u001b[0m\u001b[0;34m.\u001b[0m\u001b[0mcheck_coverage\u001b[0m\u001b[0;34m(\u001b[0m\u001b[0mtokens\u001b[0m\u001b[0;34m)\u001b[0m\u001b[0;34m\u001b[0m\u001b[0;34m\u001b[0m\u001b[0m\n\u001b[0m\u001b[1;32m   1311\u001b[0m         \u001b[0mchart\u001b[0m \u001b[0;34m=\u001b[0m \u001b[0mself\u001b[0m\u001b[0;34m.\u001b[0m\u001b[0m_chart_class\u001b[0m\u001b[0;34m(\u001b[0m\u001b[0mtokens\u001b[0m\u001b[0;34m)\u001b[0m\u001b[0;34m\u001b[0m\u001b[0;34m\u001b[0m\u001b[0m\n\u001b[1;32m   1312\u001b[0m         \u001b[0mgrammar\u001b[0m \u001b[0;34m=\u001b[0m \u001b[0mself\u001b[0m\u001b[0;34m.\u001b[0m\u001b[0m_grammar\u001b[0m\u001b[0;34m\u001b[0m\u001b[0;34m\u001b[0m\u001b[0m\n",
            "\u001b[0;32m/usr/local/lib/python3.7/dist-packages/nltk/grammar.py\u001b[0m in \u001b[0;36mcheck_coverage\u001b[0;34m(self, tokens)\u001b[0m\n\u001b[1;32m    646\u001b[0m             \u001b[0mmissing\u001b[0m \u001b[0;34m=\u001b[0m \u001b[0;34m', '\u001b[0m\u001b[0;34m.\u001b[0m\u001b[0mjoin\u001b[0m\u001b[0;34m(\u001b[0m\u001b[0;34m'%r'\u001b[0m \u001b[0;34m%\u001b[0m \u001b[0;34m(\u001b[0m\u001b[0mw\u001b[0m\u001b[0;34m,\u001b[0m\u001b[0;34m)\u001b[0m \u001b[0;32mfor\u001b[0m \u001b[0mw\u001b[0m \u001b[0;32min\u001b[0m \u001b[0mmissing\u001b[0m\u001b[0;34m)\u001b[0m\u001b[0;34m\u001b[0m\u001b[0;34m\u001b[0m\u001b[0m\n\u001b[1;32m    647\u001b[0m             raise ValueError(\"Grammar does not cover some of the \"\n\u001b[0;32m--> 648\u001b[0;31m                              \"input words: %r.\" % missing)\n\u001b[0m\u001b[1;32m    649\u001b[0m \u001b[0;34m\u001b[0m\u001b[0m\n\u001b[1;32m    650\u001b[0m     \u001b[0;32mdef\u001b[0m \u001b[0m_calculate_grammar_forms\u001b[0m\u001b[0;34m(\u001b[0m\u001b[0mself\u001b[0m\u001b[0;34m)\u001b[0m\u001b[0;34m:\u001b[0m\u001b[0;34m\u001b[0m\u001b[0;34m\u001b[0m\u001b[0m\n",
            "\u001b[0;31mValueError\u001b[0m: Grammar does not cover some of the input words: \"'walk'\"."
          ]
        }
      ]
    },
    {
      "cell_type": "code",
      "metadata": {
        "id": "mToPAiY4tP4y"
      },
      "source": [
        ""
      ],
      "execution_count": null,
      "outputs": []
    }
  ]
}